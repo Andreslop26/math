{
  "nbformat": 4,
  "nbformat_minor": 0,
  "metadata": {
    "colab": {
      "name": "pygraphviz",
      "provenance": [],
      "collapsed_sections": [],
      "include_colab_link": true
    },
    "kernelspec": {
      "display_name": "Python 3",
      "name": "python3"
    }
  },
  "cells": [
    {
      "cell_type": "markdown",
      "metadata": {
        "id": "view-in-github",
        "colab_type": "text"
      },
      "source": [
        "<a href=\"https://colab.research.google.com/github/financieras/math/blob/main/grafos/pygraphviz.ipynb\" target=\"_parent\"><img src=\"https://colab.research.google.com/assets/colab-badge.svg\" alt=\"Open In Colab\"/></a>"
      ]
    },
    {
      "cell_type": "markdown",
      "source": [
        "https://colab.research.google.com/drive/1PVtFECaDgMfVjed4XNtvyeL4pyMvPdAT#scrollTo=g2PHy6yHiUx4\n",
        "\n",
        "\n",
        "https://medium.com/analytics-vidhya/graphviz-making-graphs-was-never-so-easy-58ae72ab15b0"
      ],
      "metadata": {
        "id": "QNG-vN76iHNB"
      }
    },
    {
      "cell_type": "code",
      "metadata": {
        "id": "c9F60S1zonjp"
      },
      "source": [
        "!apt install libgraphviz-dev"
      ],
      "execution_count": null,
      "outputs": []
    },
    {
      "cell_type": "code",
      "metadata": {
        "id": "lIYdn1woOS1n"
      },
      "source": [
        "!pip install pygraphviz"
      ],
      "execution_count": null,
      "outputs": []
    },
    {
      "cell_type": "code",
      "metadata": {
        "id": "mqU6Mh8QomDs"
      },
      "source": [
        "import pygraphviz as pgv"
      ],
      "execution_count": 4,
      "outputs": []
    },
    {
      "cell_type": "code",
      "metadata": {
        "id": "5vopcvV5pHRo"
      },
      "source": [
        "d={'1': {'2': None}, '2': {'1': None, '3': None}, '3': {'2': None}}\n",
        "A=pgv.AGraph(d)"
      ],
      "execution_count": 5,
      "outputs": []
    },
    {
      "cell_type": "code",
      "metadata": {
        "id": "i3LFR6C6pTbC",
        "outputId": "11d7dbc9-11ca-4337-80be-86bf613f4192",
        "colab": {
          "base_uri": "https://localhost:8080/",
          "height": 35
        }
      },
      "source": [
        "A.to_string()  # Colab can display dot too, but png is simpler"
      ],
      "execution_count": 6,
      "outputs": [
        {
          "output_type": "execute_result",
          "data": {
            "text/plain": [
              "'strict graph \"\" {\\n\\t1 -- 2;\\n\\t2 -- 3;\\n}\\n'"
            ],
            "application/vnd.google.colaboratory.intrinsic+json": {
              "type": "string"
            }
          },
          "metadata": {},
          "execution_count": 6
        }
      ]
    },
    {
      "cell_type": "code",
      "metadata": {
        "id": "Nsce1FiJq3Rf"
      },
      "source": [
        "A.layout()\n",
        "A.draw('file.png')"
      ],
      "execution_count": 7,
      "outputs": []
    },
    {
      "cell_type": "code",
      "metadata": {
        "id": "N6gumJU3rQ82",
        "outputId": "f37638d9-6098-4588-b215-75fe91ae22af",
        "colab": {
          "base_uri": "https://localhost:8080/",
          "height": 243
        }
      },
      "source": [
        "from IPython.display import Image\n",
        "Image('file.png')"
      ],
      "execution_count": 8,
      "outputs": [
        {
          "output_type": "execute_result",
          "data": {
            "text/plain": [
              "<IPython.core.display.Image object>"
            ],
            "image/png": "[encoded data removed]"
          },
          "metadata": {},
          "execution_count": 8
        }
      ]
    },
    {
      "cell_type": "code",
      "source": [
        "import pygraphviz as pgv\n",
        "\n",
        "A = pgv.AGraph()\n",
        "\n",
        "A.add_edge(1, 2)\n",
        "A.add_edge(2, 3)\n",
        "A.add_edge(1, 3)\n",
        "\n",
        "print(A.string())  # print to screen\n",
        "A.write(\"simple.dot\")  # write to simple.dot\n",
        "\n",
        "B = pgv.AGraph(\"simple.dot\")  # create a new graph from file\n",
        "B.layout()  # layout with default (neato)\n",
        "B.draw(\"simple.png\")  # draw png"
      ],
      "metadata": {
        "id": "duchrlb-UnYM",
        "outputId": "de01ac10-7e9f-4bc2-c887-f168c0061dae",
        "colab": {
          "base_uri": "https://localhost:8080/"
        }
      },
      "execution_count": 9,
      "outputs": [
        {
          "output_type": "stream",
          "name": "stdout",
          "text": [
            "strict graph \"\" {\n",
            "\t1 -- 2;\n",
            "\t1 -- 3;\n",
            "\t2 -- 3;\n",
            "}\n",
            "\n"
          ]
        }
      ]
    },
    {
      "cell_type": "code",
      "source": [
        "from IPython.display import Image\n",
        "Image('simple.png')"
      ],
      "metadata": {
        "id": "AocFUjnKU2Nl",
        "outputId": "2f84df1f-6fd9-4f62-e95b-df8067d628b3",
        "colab": {
          "base_uri": "https://localhost:8080/",
          "height": 159
        }
      },
      "execution_count": 10,
      "outputs": [
        {
          "output_type": "execute_result",
          "data": {
            "text/plain": [
              "<IPython.core.display.Image object>"
            ],
            "image/png": "[encoded data removed]"
          },
          "metadata": {},
          "execution_count": 10
        }
      ]
    },
    {
      "cell_type": "code",
      "source": [
        "import networkx as nx\n",
        "from networkx.drawing.nx_agraph import to_agraph\n",
        "from IPython.display import SVG, display\n",
        "\n",
        "G_nx = nx.from_pandas_adjacency(A,create_using=nx.DiGraph())\n",
        "G_nx.graph['edge'] = {'arrowsize': '1.0', 'splines': 'curved'}\n",
        "G_nx.graph['graph'] = {'scale': '3'}\n",
        "\n",
        "\n",
        "Agraph_eg = to_agraph(G_nx)                                                              \n",
        "Agraph_eg .node_attr[\"height\"] = 0.3\n",
        "Agraph_eg .node_attr[\"width\"] = 0.3\n",
        "Agraph_eg .node_attr[\"shape\"] = \"circle\"\n",
        "Agraph_eg .node_attr[\"fixedsize\"] = \"true\"\n",
        "Agraph_eg .node_attr[\"fontsize\"] = 8\n",
        "Agraph_eg.layout(prog=\"neato\")                                                                     \n",
        "Agraph_eg.draw('graph_eg1.png')"
      ],
      "metadata": {
        "id": "dhdqvf03Vq9Z"
      },
      "execution_count": null,
      "outputs": []
    }
  ]
}