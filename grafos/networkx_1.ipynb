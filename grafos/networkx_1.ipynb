{
  "nbformat": 4,
  "nbformat_minor": 0,
  "metadata": {
    "colab": {
      "name": "networkx_1.ipynb",
      "provenance": [],
      "authorship_tag": "ABX9TyOXJFKCxSBrgh4+SEGAOTHA",
      "include_colab_link": true
    },
    "kernelspec": {
      "name": "python3",
      "display_name": "Python 3"
    },
    "language_info": {
      "name": "python"
    }
  },
  "cells": [
    {
      "cell_type": "markdown",
      "metadata": {
        "id": "view-in-github",
        "colab_type": "text"
      },
      "source": [
        "<a href=\"https://colab.research.google.com/github/financieras/math/blob/main/grafos/networkx_1.ipynb\" target=\"_parent\"><img src=\"https://colab.research.google.com/assets/colab-badge.svg\" alt=\"Open In Colab\"/></a>"
      ]
    },
    {
      "cell_type": "code",
      "execution_count": null,
      "metadata": {
        "id": "w-DgDUPxYcb1"
      },
      "outputs": [],
      "source": [
        "#!pip install networkx"
      ]
    },
    {
      "cell_type": "code",
      "source": [
        "#import networkx as nx"
      ],
      "metadata": {
        "id": "OTNS-j1bY8D_"
      },
      "execution_count": 2,
      "outputs": []
    },
    {
      "cell_type": "code",
      "source": [
        "# Python program to create an undirected\n",
        "# graph and add nodes and edges to a graph\n",
        "# https://www.geeksforgeeks.org/networkx-python-software-package-study-complex-networks\n",
        "\n",
        "# To import package\n",
        "import networkx\n",
        "\n",
        "# To create an empty undirected graph\n",
        "G = networkx.Graph()\n",
        "\n",
        "# To add a node\n",
        "G.add_node(1)\n",
        "G.add_node(2)\n",
        "G.add_node(3)\n",
        "G.add_node(4)\n",
        "G.add_node(7)\n",
        "G.add_node(9)\n",
        "\n",
        "# To add an edge\n",
        "# Note graph is undirected\n",
        "# Hence order of nodes in edge doesn't matter\n",
        "G.add_edge(1,2)\n",
        "G.add_edge(3,1)\n",
        "G.add_edge(2,4)\n",
        "G.add_edge(4,1)\n",
        "G.add_edge(9,1)\n",
        "G.add_edge(1,7)\n",
        "G.add_edge(2,9)\n",
        "\n",
        "# To get all the nodes of a graph\n",
        "node_list = G.nodes()\n",
        "print(\"#1\")\n",
        "print(node_list)\n",
        "\n",
        "# To get all the edges of a graph\n",
        "edge_list = G.edges()\n",
        "print(\"#2\")\n",
        "print(edge_list)\n",
        "\n",
        "# To remove a node of a graph\n",
        "G.remove_node(3)\n",
        "node_list = G.nodes()\n",
        "print(\"#3\")\n",
        "print(node_list)\n",
        "\n",
        "# To remove an edge of a graph\n",
        "G.remove_edge(1,2)\n",
        "edge_list = G.edges()\n",
        "print(\"#4\")\n",
        "print(edge_list)\n",
        "\n",
        "# To find number of nodes\n",
        "n = G.number_of_nodes()\n",
        "print(\"#5\")\n",
        "print(n)\n",
        "\n",
        "# To find number of edges\n",
        "m = G.number_of_edges()\n",
        "print(\"#6\")\n",
        "print(m)\n",
        "\n",
        "# To find degree of a node\n",
        "# d will store degree of node 2\n",
        "d = G.degree(2)\n",
        "print(\"#7\")\n",
        "print(d)\n",
        "\n",
        "# To find all the neighbor of a node\n",
        "neighbor_list = list(G.neighbors(2))\n",
        "print(\"#8\")\n",
        "print(neighbor_list)\n",
        "\n",
        "#To delete all the nodes and edges\n",
        "G.clear()\n"
      ],
      "metadata": {
        "colab": {
          "base_uri": "https://localhost:8080/"
        },
        "id": "Hy_to3VRZjxU",
        "outputId": "9b5d9f23-17a0-4bd8-8349-c23dc664d6dd"
      },
      "execution_count": 4,
      "outputs": [
        {
          "output_type": "stream",
          "name": "stdout",
          "text": [
            "#1\n",
            "[1, 2, 3, 4, 7, 9]\n",
            "#2\n",
            "[(1, 2), (1, 3), (1, 4), (1, 9), (1, 7), (2, 4), (2, 9)]\n",
            "#3\n",
            "[1, 2, 4, 7, 9]\n",
            "#4\n",
            "[(1, 4), (1, 9), (1, 7), (2, 4), (2, 9)]\n",
            "#5\n",
            "5\n",
            "#6\n",
            "5\n",
            "#7\n",
            "2\n",
            "#8\n",
            "[4, 9]\n"
          ]
        }
      ]
    }
  ]
}