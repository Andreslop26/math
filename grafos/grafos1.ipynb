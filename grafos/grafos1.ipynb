{
  "nbformat": 4,
  "nbformat_minor": 0,
  "metadata": {
    "colab": {
      "name": "grafos1.ipynb",
      "provenance": [],
      "authorship_tag": "ABX9TyPv1L/vGtnalaUA0Ncdcp+M",
      "include_colab_link": true
    },
    "kernelspec": {
      "name": "python3",
      "display_name": "Python 3"
    },
    "language_info": {
      "name": "python"
    }
  },
  "cells": [
    {
      "cell_type": "markdown",
      "metadata": {
        "id": "view-in-github",
        "colab_type": "text"
      },
      "source": [
        "<a href=\"https://colab.research.google.com/github/financieras/math/blob/main/grafos/grafos1.ipynb\" target=\"_parent\"><img src=\"https://colab.research.google.com/assets/colab-badge.svg\" alt=\"Open In Colab\"/></a>"
      ]
    },
    {
      "cell_type": "markdown",
      "source": [
        "# Grafos\n",
        "Importamos la librería networkx especializada en grafos.\n"
      ],
      "metadata": {
        "id": "Iex2nolCLK4O"
      }
    },
    {
      "cell_type": "code",
      "execution_count": 6,
      "metadata": {
        "colab": {
          "base_uri": "https://localhost:8080/"
        },
        "id": "i1VH64ZLI1H-",
        "outputId": "102d44a4-2b07-4b0d-9052-fcc2f9d3daaf"
      },
      "outputs": [
        {
          "output_type": "stream",
          "name": "stdout",
          "text": [
            "Graph with 4 nodes and 3 edges \n",
            "\n",
            "Nodos: 4\n",
            "['A', 'E', 'I', 'U'] \n",
            "\n",
            "Aristas: 3\n",
            "[('A', 'E'), ('E', 'I'), ('I', 'U')]\n"
          ]
        }
      ],
      "source": [
        "import networkx as nx\n",
        "G = nx.Graph()\n",
        "G.add_node(\"A\")      # add_node(\"n\") agrega \"n\" como nodo del grafo\n",
        "G.add_node(\"E\")\n",
        "G.add_node(\"I\")\n",
        "\n",
        "G.add_edge(\"A\",\"E\")  # add_edge(\"e\") agrega \"e\" como borde de un nodo\n",
        "G.add_edge(\"E\",\"I\")\n",
        "G.add_edge(\"I\",\"U\")\n",
        "\n",
        "print(G, \"\\n\")\n",
        "\n",
        "print(\"Nodos:\", len(G.nodes))\n",
        "print(G.nodes, \"\\n\")\n",
        "\n",
        "print(\"Aristas:\", len(G.edges))\n",
        "print(G.edges)"
      ]
    }
  ]
}