{
  "nbformat": 4,
  "nbformat_minor": 0,
  "metadata": {
    "colab": {
      "name": "grafos2.ipynb",
      "provenance": [],
      "authorship_tag": "ABX9TyMeOwOoYCS0QseeihdFwYJm",
      "include_colab_link": true
    },
    "kernelspec": {
      "name": "python3",
      "display_name": "Python 3"
    },
    "language_info": {
      "name": "python"
    }
  },
  "cells": [
    {
      "cell_type": "markdown",
      "metadata": {
        "id": "view-in-github",
        "colab_type": "text"
      },
      "source": [
        "<a href=\"https://colab.research.google.com/github/financieras/math/blob/main/grafos/grafos2.ipynb\" target=\"_parent\"><img src=\"https://colab.research.google.com/assets/colab-badge.svg\" alt=\"Open In Colab\"/></a>"
      ]
    },
    {
      "cell_type": "markdown",
      "source": [
        "# Construir un grafo con POO\n",
        "[Introducción a Gráficas o grafos en Python](https://youtu.be/hoE38ao9m7c)"
      ],
      "metadata": {
        "id": "tmWZl28X8QBX"
      }
    },
    {
      "cell_type": "code",
      "execution_count": null,
      "metadata": {
        "id": "kPxsQuF78Pfi"
      },
      "outputs": [],
      "source": [
        "# Clases: Vertice, Grafica\n",
        "class Vertice:               # clase para definir un vértice\n",
        "    def __init__(self, i):   # constructor\n",
        "        self.id = i\n",
        "        self.visitado = False\n",
        "        self.nivel = -1\n",
        "        self.vecinos = []\n",
        "\n",
        "class Grafica:\n",
        "    def __init__(self):\n",
        "        self.vertices = {}\n",
        "\n"
      ]
    }
  ]
}