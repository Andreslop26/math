{
  "nbformat": 4,
  "nbformat_minor": 0,
  "metadata": {
    "colab": {
      "name": "grafos2.ipynb",
      "provenance": [],
      "authorship_tag": "ABX9TyMFCCQp26BZebiXNrXwhpzx",
      "include_colab_link": true
    },
    "kernelspec": {
      "name": "python3",
      "display_name": "Python 3"
    },
    "language_info": {
      "name": "python"
    }
  },
  "cells": [
    {
      "cell_type": "markdown",
      "metadata": {
        "id": "view-in-github",
        "colab_type": "text"
      },
      "source": [
        "<a href=\"https://colab.research.google.com/github/financieras/math/blob/main/grafos/grafos2.ipynb\" target=\"_parent\"><img src=\"https://colab.research.google.com/assets/colab-badge.svg\" alt=\"Open In Colab\"/></a>"
      ]
    },
    {
      "cell_type": "markdown",
      "source": [
        "# Construir un grafo con POO\n",
        "[Introducción a Gráficas o grafos en Python](https://youtu.be/hoE38ao9m7c)"
      ],
      "metadata": {
        "id": "tmWZl28X8QBX"
      }
    },
    {
      "cell_type": "code",
      "execution_count": 12,
      "metadata": {
        "colab": {
          "base_uri": "https://localhost:8080/"
        },
        "id": "kPxsQuF78Pfi",
        "outputId": "1cf931f4-09a2-4180-f315-3f6053f37154"
      },
      "outputs": [
        {
          "output_type": "stream",
          "name": "stdout",
          "text": [
            "0 [2, 6, 5, 1]\n",
            "1 [0, 4]\n",
            "2 [0]\n",
            "3 [6]\n",
            "4 [6, 1]\n",
            "5 [0, 6]\n",
            "6 [0, 3, 5, 4]\n"
          ]
        }
      ],
      "source": [
        "# Clases: Vertice, Grafica\n",
        "class Vertice:               # clase para definir un vértice\n",
        "    # constructor\n",
        "    def __init__(self, i):\n",
        "        self.id = i\n",
        "        self.visitado = False\n",
        "        self.nivel = -1\n",
        "        self.vecinos = []\n",
        "\n",
        "    def agregaVecino(self, v):\n",
        "        if v not in self.vecinos:\n",
        "            self.vecinos.append(v)\n",
        "\n",
        "class Grafica:\n",
        "    def __init__(self):\n",
        "        self.vertices = {}\n",
        "\n",
        "    def agregaVertice(self, v):\n",
        "        if v not in self.vertices:\n",
        "            self.vertices[v] = Vertice(v)\n",
        "\n",
        "    def agregarArista(self, a, b):\n",
        "        if a in self.vertices and b in self. vertices:\n",
        "            self.vertices[a].agregaVecino(b)\n",
        "            self.vertices[b].agregaVecino(a)\n",
        "\n",
        "def main():\n",
        "\n",
        "    g = Grafica()\n",
        "\n",
        "    l = [0, 1, 2, 3, 4, 5, 6]\n",
        "    for v in l:\n",
        "        g.agregaVertice(v)\n",
        "\n",
        "    l = [2, 0, 0, 6, 6, 3, 0, 5, 6, 5, 0, 1, 6, 4, 1, 4]\n",
        "    for i in range(0, len(l)-1, 2):\n",
        "        g.agregarArista(l[i],l[i+1])\n",
        "\n",
        "    for v in g.vertices:\n",
        "        print(v, g.vertices[v].vecinos)\n",
        "\n",
        "main()"
      ]
    }
  ]
}