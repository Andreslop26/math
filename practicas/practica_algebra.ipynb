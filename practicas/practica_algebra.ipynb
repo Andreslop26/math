{
  "nbformat": 4,
  "nbformat_minor": 0,
  "metadata": {
    "colab": {
      "provenance": [],
      "include_colab_link": true
    },
    "kernelspec": {
      "name": "python3",
      "display_name": "Python 3"
    },
    "language_info": {
      "name": "python"
    }
  },
  "cells": [
    {
      "cell_type": "markdown",
      "metadata": {
        "id": "view-in-github",
        "colab_type": "text"
      },
      "source": [
        "<a href=\"https://colab.research.google.com/github/Andreslop26/math/blob/main/practicas/practica_algebra.ipynb\" target=\"_parent\"><img src=\"https://colab.research.google.com/assets/colab-badge.svg\" alt=\"Open In Colab\"/></a>"
      ]
    },
    {
      "cell_type": "markdown",
      "source": [
        "# Práctica 3. Álgebra\n",
        "* Para aprender sobre Python vea la playlist [Python para Matemáticas](https://www.youtube.com/playlist?list=PL8gpDXwO-9l4HkDJ9QhB4H-cOiT0BYGau)\n",
        "* Para obtener ideas y vídeos para la resolución de la práctica vea los archivos siguientes: [Ideas](https://github.com/financieras/math/tree/main/ideas)"
      ],
      "metadata": {
        "id": "b13aYMDxmd7v"
      }
    },
    {
      "cell_type": "markdown",
      "source": [
        "## Práctica 3.1\n",
        "**Determinante en Excel**  \n",
        "\n",
        "* Cree un fichero en Excel de nombre algebra.xlsm.\n",
        "* La extensión **xlsm** corresponde a los archivos de Excel habilitados para macros.\n",
        "* Utilice la Hoja 1 para hacer la Práctica 3.1.\n",
        "* Se pide:\n",
        " 1. Cree una matriz cuadrada de dimensión 5×5, formada por números aleatorios enteros entre -9 y +9.\n",
        " 2. Calcule el determinante de esta matriz\n",
        " 3. Cree un programa en **VBA** que busque una matriz de este tipo cuyo determinante sea cero.\n",
        " 4. Copie la matriz encontrada y péguela debajo con \"pegado especial valores\" para que no varíe su contenido al efectuar el recálculo manual de la hoja."
      ],
      "metadata": {
        "id": "XWa9IdzJmpbB"
      }
    },
    {
      "cell_type": "markdown",
      "source": [
        "## Práctica 3.2\n",
        "**Matriz inversa en Excel**  \n",
        "\n",
        "* Use el mismo archivo de Excel con extensión **xlsm** del caso anterior. \n",
        "* Utilice la Hoja 2 para hacer la Práctica 3.2.\n",
        "* Se pide:\n",
        " 1. Crea la matriz $A$ que es una matriz cuadrada de dimensiones 5×5 usando números aleatorios enteros entre -9 y +9, excepto cero\n",
        " 2. Calcule su determinante\n",
        " 3. Calcule su transpuesta usando la función ```TRANSPONER```\n",
        " 4. Calcule su matriz inversa $A^{-1}$\n",
        " 5. Multiplique la matriz $A$ por su inversa $A^{-1}$ y compruebe que el producto es la matriz identidad.\n",
        " $$AA^{-1}=I$$"
      ],
      "metadata": {
        "id": "cP-ppBE1rzGW"
      }
    },
    {
      "cell_type": "markdown",
      "source": [
        "## Práctica 3.3\n",
        "**Resolución de sistemas lineales en Excel**  \n",
        "\n",
        "* Use el mismo archivo de Excel con extensión **xlsm** del caso anterior. \n",
        "* Utilice la Hoja 3 para hacer la Práctica 3.3.\n",
        "* Se pide:\n",
        " 1. Cree un sistema de 5 ecuaciones con 5 incógnitas con **solución única**.\n",
        " 2. Una de las ecuaciones será: $\\quad x_1+2x_2-x_3+x_4-3x_5=6$\n",
        " 3. Muestre las ecuaciones del sistema usando el [editor de ecuaciones](https://support.microsoft.com/es-es/office/editor-de-ecuaciones-6eac7d71-3c74-437b-80d3-c7dea24fdf3f) de Excel. $\\quad Ax=b$\n",
        " 4. Monte la matriz $A$ del sistema de ecuaciones y la matriz $b$ con los términos independientes. Muestre ambas matrices.\n",
        " 5. Calcule la matriz inversa $A^{-1}$\n",
        " 6. Resuelva el sistema lineal de ecuaciones con este método: $\\quad Ax=b \\quad \\Longrightarrow \\quad x=A^{-1}b$\n",
        " 7. Compruebe si el resultado obtenido es la solución del sistema de ecuaciones. Justifique esa comprobación."
      ],
      "metadata": {
        "id": "jJRClauctBdf"
      }
    },
    {
      "cell_type": "markdown",
      "source": [
        "## Práctica 3.4\n",
        "**Matriz inversa en Python**  \n",
        "\n",
        "Desarrolla un código en Python que al ejecutarse consiga los siguientes apartados.  \n",
        "1. Crea una matriz cuadrada de dimensiones 3×3 usando números aleatorios enteros entre -9 y +9, excepto cero\n",
        "2. Buscar un caso donde el determinante sea igual a 1\n",
        "3. Si el determinante es 1 imprime la matriz y su determinante\n",
        "4. Calcula e imprime su transpuesta\n",
        "5. Calcula e imprime su matriz inversa\n",
        "6. Multiplica la matriz creada por su inversa y comprueba que el producto es la matriz identidad.\n",
        "7. Calcula cuantos segundos ha tardado en realizarse el proceso."
      ],
      "metadata": {
        "id": "EMlUZC6Lqzfs"
      }
    },
    {
      "cell_type": "code",
      "source": [
        "from random import randint\n",
        "print(randint(-9, 9))"
      ],
      "metadata": {
        "colab": {
          "base_uri": "https://localhost:8080/"
        },
        "id": "N4f8yjmFeasO",
        "outputId": "37ee223c-910a-45fe-8cbd-ba882cce874d"
      },
      "execution_count": 3,
      "outputs": [
        {
          "output_type": "stream",
          "name": "stdout",
          "text": [
            "8\n"
          ]
        }
      ]
    },
    {
      "cell_type": "code",
      "source": [
        "import random\n",
        "\n",
        "contador = 0\n",
        "valor_deseado = 42\n",
        "\n",
        "while True:\n",
        "    rnd = random.choice(list(range(1000)))\n",
        "    contador += 1   # contador = contador + 1\n",
        "    if rnd == valor_deseado:\n",
        "        print(f\"Se han realizado {contador} ciclos en el bucle hasta encontrar el valor deseado.\")\n",
        "        break\n",
        "\n",
        "print(\"Fin del programa\")\n",
        "     "
      ],
      "metadata": {
        "colab": {
          "base_uri": "https://localhost:8080/"
        },
        "id": "MsT9SNexecOk",
        "outputId": "1b128470-7118-4183-87ac-cb9eaf4c55b2"
      },
      "execution_count": 4,
      "outputs": [
        {
          "output_type": "stream",
          "name": "stdout",
          "text": [
            "Se han realizado 1363 ciclos en el bucle hasta encontrar el valor deaseado.\n",
            "Fin del programa\n"
          ]
        }
      ]
    },
    {
      "cell_type": "code",
      "source": [
        "from random import randint, seed\n",
        "seed()\n",
        "m = []\n",
        "for i in range(5):\n",
        "    fila = []\n",
        "    for j in range(5):\n",
        "        fila.append(randint(0,9))\n",
        "    m.append(fila)\n",
        "\n",
        "m \n",
        "\n",
        "import numpy as np\n",
        "\n",
        "lista = [1,2,3,4]\n",
        "vector = np.array(lista)   # convertimos la matriz en un ndarray\n",
        "print(vector)\n",
        "print(lista)\n",
        "\n",
        "import numpy as np\n",
        "m = [[1,-2,3], [4,5,6], [7,8,0]]\n",
        "np.linalg.det(m)\n",
        "\n",
        "\n",
        "import numpy as np\n",
        "m = np.array([[1,2,3],[4,5,6],[7,8,9]])\n",
        "print(\"Matriz:\")\n",
        "print(m)\n",
        "print(\"\\nTasnpuesta:\")\n",
        "print(np.transpose(m))\n",
        "\n",
        "import numpy as np\n",
        "\n",
        "m = np.array([[1,-7, -8], [ 1,-4,-4], [-1,3,3]])\n",
        "print(\"Matriz:\")\n",
        "print(m)\n",
        "print()\n",
        "\n",
        "print(\"Inversa:\")\n",
        "minv = np.linalg.inv(m)\n",
        "print(minv)\n",
        "print()\n",
        "\n",
        "print(\"Matriz Identidad:\")\n",
        "identidad = np.dot(m, minv)   # multiplicación de matrices\n",
        "print(identidad)\n",
        "print()\n",
        "\n",
        "print(\"Matriz Identidad con valores enteros:\")\n",
        "print(identidad.astype(int))   # así forzamos a valores enteros\n",
        "\n",
        "\n",
        "\n",
        "import numpy as np\n",
        "\n",
        "a = np.random.randint(0, 6, size=(3,3))\n",
        "b = np.random.randint(0, 6, size=(3,3))\n",
        "\n",
        "print(a)\n",
        "print()\n",
        "\n",
        "print(b)\n",
        "print()\n",
        "\n",
        "print(np.dot(a, b))    # Método 1 para multiplicar matrices\n",
        "print()\n",
        "\n",
        "print(np.matmul(a,b))  # Método 2 para multiplicar matrices\n",
        "print()\n",
        "\n",
        "print(a @ b)           # Método 3 para multiplicar matrices\n",
        "print()\n",
        "\n",
        "print(a*b)             # Cuidado!!! esto no es el producto matricial\n",
        "     \n",
        "     "
      ],
      "metadata": {
        "colab": {
          "base_uri": "https://localhost:8080/"
        },
        "id": "ZNfWVr5SfeIY",
        "outputId": "73e798f7-6a55-4d2c-b1cf-dcaf0b7fa858"
      },
      "execution_count": 12,
      "outputs": [
        {
          "output_type": "stream",
          "name": "stdout",
          "text": [
            "[1 2 3 4]\n",
            "[1, 2, 3, 4]\n",
            "Matriz:\n",
            "[[1 2 3]\n",
            " [4 5 6]\n",
            " [7 8 9]]\n",
            "\n",
            "Tasnpuesta:\n",
            "[[1 4 7]\n",
            " [2 5 8]\n",
            " [3 6 9]]\n",
            "Matriz:\n",
            "[[ 1 -7 -8]\n",
            " [ 1 -4 -4]\n",
            " [-1  3  3]]\n",
            "\n",
            "Inversa:\n",
            "[[ 0. -3. -4.]\n",
            " [ 1. -5. -4.]\n",
            " [-1.  4.  3.]]\n",
            "\n",
            "Matriz Identidad:\n",
            "[[1. 0. 0.]\n",
            " [0. 1. 0.]\n",
            " [0. 0. 1.]]\n",
            "\n",
            "Matriz Identidad con valores enteros:\n",
            "[[1 0 0]\n",
            " [0 1 0]\n",
            " [0 0 1]]\n",
            "[[3 4 4]\n",
            " [0 0 1]\n",
            " [2 4 3]]\n",
            "\n",
            "[[0 5 2]\n",
            " [5 1 2]\n",
            " [0 5 5]]\n",
            "\n",
            "[[20 39 34]\n",
            " [ 0  5  5]\n",
            " [20 29 27]]\n",
            "\n",
            "[[20 39 34]\n",
            " [ 0  5  5]\n",
            " [20 29 27]]\n",
            "\n",
            "[[20 39 34]\n",
            " [ 0  5  5]\n",
            " [20 29 27]]\n",
            "\n",
            "[[ 0 20  8]\n",
            " [ 0  0  2]\n",
            " [ 0 20 15]]\n"
          ]
        }
      ]
    },
    {
      "cell_type": "markdown",
      "source": [
        "## Práctica 3.5\n",
        "**Resolución de sistemas lineales en Python**  \n",
        "\n",
        "1. Cree un sistema de 4 ecuaciones con 4 incógnitas con **solución única**.\n",
        "2. La solución del sistema es: $\\; \\begin{pmatrix}x_1, x_2, x_3, x_4\\end{pmatrix} = \\begin{pmatrix} 3, 4, 5, 2\\end{pmatrix}$  \n",
        "3. Una de las ecuaciones del sistema es: $\\enspace x_1+3x_2-x_3-2x_4=6$  \n",
        "4. El vector $b$ de términos independientes es: $\\enspace b=\\begin{pmatrix}6, 3, 5, 7\\end{pmatrix}$  \n",
        "5. Usando números aleatorios elija los coeficientes que faltan de la matriz $A$ del sistema de ecuaciones.\n",
        "  - Los coeficientes deben ser números enteros entre -5 y +5, excluido el cero.\n",
        "  - Imprima la matriz $A$.  \n",
        "6. Calcule e imprima el determinante de $A$.\n",
        "7. Calcule e imprima la matriz inversa $A^{-1}$  \n",
        "8. Resuelva el sistema lineal de ecuaciones con este método: $$Ax=b \\quad \\Longrightarrow \\quad x=A^{-1}b$$\n",
        "9. Compruebe que el resultado obtenido es la solución del sistema de ecuaciones.  \n",
        "10. Resuelva nuevamente el sistema de ecuaciones usando ```np.linalg.solve```."
      ],
      "metadata": {
        "id": "tQQS7GPXIdjH"
      }
    },
    {
      "cell_type": "code",
      "source": [
        "import numpy as np\n",
        "np.random.choice([0,1,2,3,4,5,6,7,8,9], 3)\n",
        "\n",
        "list(range(-9,0)) + list(range(1,10))\n",
        "\n",
        "\n",
        "import numpy as np\n",
        "\n",
        "v = np.array([1,2,4,3])   # vector conocido, supongamos que es la solución de sistema lineal\n",
        "\n",
        "def busca(b):\n",
        "    while True:\n",
        "        w = np.random.choice(list(range(-5,0)) + list(range(1,6)), 4)\n",
        "        if np.matmul(v, w) == b:   # el producto de los dos vectores debe ser igual al número b\n",
        "            break\n",
        "    return w\n",
        "\n",
        "b =  5; print(f\"{busca(b)} x {v} = {b}\")\n",
        "b = -3; print(f\"{busca(b)} x {v} = {b}\")\n",
        "b = -1; print(f\"{busca(b)} x {v} = {b}\")\n",
        "b = -2; print(f\"{busca(b)} x {v} = {b}\")\n",
        "\n",
        "# Multiplicando a mano el primer vector sería un vector fila y\n",
        "# el segundo un vector columna\n",
        "# Al usar NumPy no nos preocupamos de la congruendia de vector\n",
        "\n",
        "\n",
        "\n",
        "import numpy as np\n",
        "\n",
        "f1 = [-4, -2, 4,  2]\n",
        "f2 = [-5,  2,  4, -5]\n",
        "f3 = [-5, 5, -3,  4]\n",
        "f4 = [2,  2, -1, -5]\n",
        "matriz = [f1, f2, f3, f4]\n",
        "print(matriz)\n",
        "print()\n",
        "\n",
        "# m es un ndarray (n dimensional array)\n",
        "m = np.array(matriz)\n",
        "m\n",
        "     \n",
        "import numpy as np\n",
        "a = np.array([[2,-1,2], [3,2,-1], [4,3,-3]])\n",
        "b = np.array([6,4,1])\n",
        "a_inv = np.linalg.inv(a)\n",
        "np.dot(a_inv, b)\n",
        "     "
      ],
      "metadata": {
        "colab": {
          "base_uri": "https://localhost:8080/"
        },
        "id": "Aw0m4DQNhK7o",
        "outputId": "83b3213e-57a7-4239-8a05-a3dce391ab03"
      },
      "execution_count": 16,
      "outputs": [
        {
          "output_type": "stream",
          "name": "stdout",
          "text": [
            "[-2  5 -3  3] x [1 2 4 3] = 5\n",
            "[ 1 -1  1 -2] x [1 2 4 3] = -3\n",
            "[-5  5 -3  2] x [1 2 4 3] = -1\n",
            "[ 2  2  1 -4] x [1 2 4 3] = -2\n",
            "[[-4, -2, 4, 2], [-5, 2, 4, -5], [-5, 5, -3, 4], [2, 2, -1, -5]]\n",
            "\n"
          ]
        },
        {
          "output_type": "execute_result",
          "data": {
            "text/plain": [
              "array([1., 2., 3.])"
            ]
          },
          "metadata": {},
          "execution_count": 16
        }
      ]
    },
    {
      "cell_type": "markdown",
      "source": [
        "## Práctica 3.6\n",
        "**Resolución de sistemas lineales con Octave**  \n",
        "\n",
        "1. Tome el mismo sistema 4x4 con solución única del ejercicio anterior.\n",
        "2. Muestra el sistema usando $\\LaTeX$\n",
        "3. Resuélvelo con Octave por dos métodos\n",
        "4. ¿Ambos métodos dan el mismo resultado?"
      ],
      "metadata": {
        "id": "M39ufifh_Jr8"
      }
    },
    {
      "cell_type": "code",
      "source": [],
      "metadata": {
        "id": "jMmIdn1FjtrZ"
      },
      "execution_count": null,
      "outputs": []
    },
    {
      "cell_type": "markdown",
      "source": [
        "## Práctica 3.7\n",
        "**Diagonalización en Python**\n",
        "\n",
        "* Sea la matriz cuadrada $A$ de orden 4x4\n",
        "\n",
        "$$A=\\left(\n",
        "\\begin{array}{rrrr}\n",
        " -1 &-2 &  3 &-1 \\\\\n",
        "  0 & 2 &  0 & 0 \\\\\n",
        "  0 & 0 &  2 & 0 \\\\\n",
        "  0 & 0 &  0 & 1\n",
        "\\end{array}\n",
        "\\right)$$\n",
        "1. Calcula los **autovalores** y **autovectores**\n",
        "2. Calcula y muestra:\n",
        " - la matriz diagonal $D$\n",
        " - la matriz de paso $P$\n",
        " - su inversa $P^{-1}$  \n",
        "3. Comprueba que se cumple que $A^3=PD^3P^{-1}$"
      ],
      "metadata": {
        "id": "KOhR4DdkL7kg"
      }
    },
    {
      "cell_type": "code",
      "source": [
        "from sympy import Matrix\n",
        "A = Matrix([[-3,2,0,0], [-3,4,0,0], [0,0,-5,-4], [0,0,-2,2]])\n",
        "P, D = A.diagonalize()\n",
        "D\n",
        "   "
      ],
      "metadata": {
        "colab": {
          "base_uri": "https://localhost:8080/",
          "height": 98
        },
        "id": "7JB7-by-QQiL",
        "outputId": "da129eed-cb17-4b60-b463-ee91504b1f1e"
      },
      "execution_count": 25,
      "outputs": [
        {
          "output_type": "execute_result",
          "data": {
            "text/plain": [
              "Matrix([\n",
              "[-6,  0, 0, 0],\n",
              "[ 0, -2, 0, 0],\n",
              "[ 0,  0, 3, 0],\n",
              "[ 0,  0, 0, 3]])"
            ],
            "text/latex": "$\\displaystyle \\left[\\begin{matrix}-6 & 0 & 0 & 0\\\\0 & -2 & 0 & 0\\\\0 & 0 & 3 & 0\\\\0 & 0 & 0 & 3\\end{matrix}\\right]$"
          },
          "metadata": {},
          "execution_count": 25
        }
      ]
    },
    {
      "cell_type": "code",
      "source": [
        "P"
      ],
      "metadata": {
        "colab": {
          "base_uri": "https://localhost:8080/",
          "height": 98
        },
        "id": "PsunRWgSQVVx",
        "outputId": "aaaa0147-f126-4804-aa43-94d706fed806"
      },
      "execution_count": 26,
      "outputs": [
        {
          "output_type": "execute_result",
          "data": {
            "text/plain": [
              "Matrix([\n",
              "[0, 2, 1,  0],\n",
              "[0, 1, 3,  0],\n",
              "[4, 0, 0, -1],\n",
              "[1, 0, 0,  2]])"
            ],
            "text/latex": "$\\displaystyle \\left[\\begin{matrix}0 & 2 & 1 & 0\\\\0 & 1 & 3 & 0\\\\4 & 0 & 0 & -1\\\\1 & 0 & 0 & 2\\end{matrix}\\right]$"
          },
          "metadata": {},
          "execution_count": 26
        }
      ]
    },
    {
      "cell_type": "code",
      "source": [
        "import numpy as np\n",
        "A = np.array([[-3,2,0,0], [-3,4,0,0], [0,0,-5,-4], [0,0,-2,2]])\n",
        "print(A@A@A)"
      ],
      "metadata": {
        "colab": {
          "base_uri": "https://localhost:8080/"
        },
        "id": "Wliqakc2QbdC",
        "outputId": "8b33642d-850e-4436-928f-4c373bb7c1bd"
      },
      "execution_count": 27,
      "outputs": [
        {
          "output_type": "stream",
          "name": "stdout",
          "text": [
            "[[ -15   14    0    0]\n",
            " [ -21   34    0    0]\n",
            " [   0    0 -189 -108]\n",
            " [   0    0  -54    0]]\n"
          ]
        }
      ]
    },
    {
      "cell_type": "code",
      "source": [
        "import numpy as np\n",
        "A = np.array([[-3,2,0,0], [-3,4,0,0], [0,0,-5,-4], [0,0,-2,2]])\n",
        "d,P = np.linalg.eig(A)\n",
        "print(\"d: \", d)\n",
        "D = np.diag(d)\n",
        "print(\"\\nD:\\n\", D)\n",
        "print(\"\\nP:\\n\", P)\n",
        "Dcubo = D @ D @ D\n",
        "print(\"\\nDcubo:\\n\", Dcubo)\n",
        "print(\"\\nSolución:\\n\", P @ Dcubo @ np.linalg.inv(P))"
      ],
      "metadata": {
        "colab": {
          "base_uri": "https://localhost:8080/"
        },
        "id": "_gcQcMrEQfpV",
        "outputId": "c28f6063-e7c6-4459-bb3b-aab861a33a09"
      },
      "execution_count": 28,
      "outputs": [
        {
          "output_type": "stream",
          "name": "stdout",
          "text": [
            "d:  [-2.  3. -6.  3.]\n",
            "\n",
            "D:\n",
            " [[-2.  0.  0.  0.]\n",
            " [ 0.  3.  0.  0.]\n",
            " [ 0.  0. -6.  0.]\n",
            " [ 0.  0.  0.  3.]]\n",
            "\n",
            "P:\n",
            " [[-0.89442719 -0.31622777  0.          0.        ]\n",
            " [-0.4472136  -0.9486833   0.          0.        ]\n",
            " [ 0.          0.         -0.9701425   0.4472136 ]\n",
            " [ 0.          0.         -0.24253563 -0.89442719]]\n",
            "\n",
            "Dcubo:\n",
            " [[  -8.    0.    0.    0.]\n",
            " [   0.   27.    0.    0.]\n",
            " [   0.    0. -216.    0.]\n",
            " [   0.    0.    0.   27.]]\n",
            "\n",
            "Solución:\n",
            " [[-1.50000000e+01  1.40000000e+01  0.00000000e+00  0.00000000e+00]\n",
            " [-2.10000000e+01  3.40000000e+01  0.00000000e+00  0.00000000e+00]\n",
            " [ 0.00000000e+00  0.00000000e+00 -1.89000000e+02 -1.08000000e+02]\n",
            " [ 0.00000000e+00  0.00000000e+00 -5.40000000e+01 -2.74319149e-15]]\n"
          ]
        }
      ]
    },
    {
      "cell_type": "markdown",
      "source": [
        "## Práctica 3.8\n",
        "**Diagonalización con Octave**\n",
        "\n",
        "Resuelva el ejercicio anterior, pero en esta ocasión utilizando Octave."
      ],
      "metadata": {
        "id": "tqHIq-of_N_v"
      }
    },
    {
      "cell_type": "code",
      "source": [
        "# La instalación puede tardar algo más de un minuto\n",
        "!apt update\n",
        "!apt install octave\n",
        "     \n",
        "\n"
      ],
      "metadata": {
        "colab": {
          "base_uri": "https://localhost:8080/"
        },
        "id": "TKi--iQKKXS2",
        "outputId": "005388bf-9c2b-407d-bdeb-3b3f46b2b99f"
      },
      "execution_count": 11,
      "outputs": [
        {
          "output_type": "stream",
          "name": "stdout",
          "text": [
            "Hit:1 http://archive.ubuntu.com/ubuntu bionic InRelease\n",
            "Hit:2 http://archive.ubuntu.com/ubuntu bionic-updates InRelease\n",
            "Hit:3 http://security.ubuntu.com/ubuntu bionic-security InRelease\n",
            "Hit:4 http://archive.ubuntu.com/ubuntu bionic-backports InRelease\n",
            "Hit:5 https://cloud.r-project.org/bin/linux/ubuntu bionic-cran40/ InRelease\n",
            "Hit:6 http://ppa.launchpad.net/c2d4u.team/c2d4u4.0+/ubuntu bionic InRelease\n",
            "Hit:7 http://ppa.launchpad.net/cran/libgit2/ubuntu bionic InRelease\n",
            "Ign:8 https://developer.download.nvidia.com/compute/machine-learning/repos/ubuntu1804/x86_64  InRelease\n",
            "Hit:9 https://developer.download.nvidia.com/compute/cuda/repos/ubuntu1804/x86_64  InRelease\n",
            "Hit:10 http://ppa.launchpad.net/deadsnakes/ppa/ubuntu bionic InRelease\n",
            "Hit:11 https://developer.download.nvidia.com/compute/machine-learning/repos/ubuntu1804/x86_64  Release\n",
            "Hit:12 http://ppa.launchpad.net/graphics-drivers/ppa/ubuntu bionic InRelease\n",
            "Reading package lists... Done\n",
            "Building dependency tree       \n",
            "Reading state information... Done\n",
            "20 packages can be upgraded. Run 'apt list --upgradable' to see them.\n",
            "Reading package lists... Done\n",
            "Building dependency tree       \n",
            "Reading state information... Done\n",
            "octave is already the newest version (4.2.2-1ubuntu1).\n",
            "The following package was automatically installed and is no longer required:\n",
            "  libnvidia-common-460\n",
            "Use 'apt autoremove' to remove it.\n",
            "0 upgraded, 0 newly installed, 0 to remove and 20 not upgraded.\n"
          ]
        }
      ]
    },
    {
      "cell_type": "markdown",
      "source": [
        "## Práctica 3.9\n",
        "**Libertad para elegir el lugar de trabajo**  \n",
        "Resolver con **Octave**.\n",
        "\n",
        "Una empresa de 1.000 empleados permite que sus trabajadores cada día acudan a trabajar a la oficina o que realicen su trabajo desde su casa. Inicialmente el 90% de la plantilla trabajaba en la oficina y solo el 10% lo hacían en casa. Se ha observado que los que un día trabajan en casa tienen una probabilidad del 70% de realizarlo también desde casa al día siguiente, pero que en el restante 30% de los casos acuden a la oficina al día siguiente. Por el contrario, se ha observado que los que un día trabajaron en la oficina al día siguiente vuelven\n",
        "a la oficina en el 60% de los casos y en el 40% restante van a su casa al día siguiente.\n",
        "* Determinar qué número de empleados se quedan en casa transcurridos dos días.\n",
        "* ¿Y a largo plazo cuantos se quedan en casa?"
      ],
      "metadata": {
        "id": "Aw283nkjdtcQ"
      }
    },
    {
      "cell_type": "code",
      "source": [],
      "metadata": {
        "id": "c17jr7UNRSlk"
      },
      "execution_count": null,
      "outputs": []
    },
    {
      "cell_type": "markdown",
      "source": [
        "## Práctica 3.10\n",
        "**Tendencia del mercado**  \n",
        "Resolver con **Python**.\n",
        "\n",
        "En el mercado de automóviles de gran lujo únicamente se disputan la clientela dos marcas (A y B). Las ventas son $M=100.000$ automóviles anuales, no variando esta cifra con el transcurso de los años. La marca A es líder de mercado en este momento con el 75% de las ventas. Sus directivos desean consolidar su liderazgo e incluso aumentarlo, para lo cual todos los años efectúan una fuerte campaña publicitaria con la que consiguen cada año un 40% de los que fueron clientes de su competidora, aunque la empresa A pierde un 20% de sus clientes que se van a la competencia.\n",
        "* ¿Cuál es la situación a los 3 años?\n",
        "* ¿Y al cabo de mucho tiempo?"
      ],
      "metadata": {
        "id": "lllngWn__QP0"
      }
    },
    {
      "cell_type": "code",
      "source": [
        "import numpy as np\n",
        "\n",
        "X0 = np.array([.75, .25])\n",
        "A = np.array([[.8, .4], [.2 ,.6]])\n",
        "X3 = A@A@A@X0\n",
        "print(\"Situación a los tres años:\", X3)\n",
        "\n",
        "d,P = np.linalg.eig(A)\n",
        "D = np.diag(d)\n",
        "Pinv = np.linalg.inv(P)\n",
        "A10 = P@(D**10)@Pinv\n",
        "X10 = A10@X0\n",
        "print(\"Situación a los diez años:\", X10)\n",
        "print(\"Situación a los veinte años:\", P@(D**20)@Pinv@X0)"
      ],
      "metadata": {
        "colab": {
          "base_uri": "https://localhost:8080/"
        },
        "id": "XjZNaV_LOzf1",
        "outputId": "6a5687cd-eca8-4ac5-85c2-9d56408c9c8e"
      },
      "execution_count": 19,
      "outputs": [
        {
          "output_type": "stream",
          "name": "stdout",
          "text": [
            "Situación a los tres años: [0.672 0.328]\n",
            "Situación a los diez años: [0.6666754 0.3333246]\n",
            "Situación a los veinte años: [0.66666667 0.33333333]\n"
          ]
        }
      ]
    },
    {
      "cell_type": "code",
      "source": [],
      "metadata": {
        "id": "OUk76sfxPTtO"
      },
      "execution_count": null,
      "outputs": []
    },
    {
      "cell_type": "code",
      "source": [
        "# A cubo\n",
        "A@A@A"
      ],
      "metadata": {
        "id": "MJaldBnx-G60",
        "outputId": "8f9f239f-d36a-4fc0-b477-db72fd8a5eeb",
        "colab": {
          "base_uri": "https://localhost:8080/"
        }
      },
      "execution_count": 20,
      "outputs": [
        {
          "output_type": "execute_result",
          "data": {
            "text/plain": [
              "array([[0.688, 0.624],\n",
              "       [0.312, 0.376]])"
            ]
          },
          "metadata": {},
          "execution_count": 20
        }
      ]
    },
    {
      "cell_type": "code",
      "source": [],
      "metadata": {
        "id": "U0axnIm8PaGY"
      },
      "execution_count": null,
      "outputs": []
    },
    {
      "cell_type": "code",
      "source": [
        "# comprobación de que esta expresión es igual a A cubo\n",
        "P@(D**3)@Pinv"
      ],
      "metadata": {
        "id": "IR2NZ81v-MfH",
        "outputId": "6ce50e2b-340f-4558-981b-cd348deacaf3",
        "colab": {
          "base_uri": "https://localhost:8080/"
        }
      },
      "execution_count": 21,
      "outputs": [
        {
          "output_type": "execute_result",
          "data": {
            "text/plain": [
              "array([[0.688, 0.624],\n",
              "       [0.312, 0.376]])"
            ]
          },
          "metadata": {},
          "execution_count": 21
        }
      ]
    },
    {
      "cell_type": "code",
      "source": [],
      "metadata": {
        "id": "ks9BpeUSPgof"
      },
      "execution_count": null,
      "outputs": []
    },
    {
      "cell_type": "code",
      "source": [
        "A@A@A@A@A@A@A@A@A@A"
      ],
      "metadata": {
        "id": "1phV55Tth-cr",
        "outputId": "8b2dc12f-99d4-4b91-9d14-dcc24422699e",
        "colab": {
          "base_uri": "https://localhost:8080/"
        }
      },
      "execution_count": 22,
      "outputs": [
        {
          "output_type": "execute_result",
          "data": {
            "text/plain": [
              "array([[0.66670162, 0.66659676],\n",
              "       [0.33329838, 0.33340324]])"
            ]
          },
          "metadata": {},
          "execution_count": 22
        }
      ]
    },
    {
      "cell_type": "code",
      "source": [],
      "metadata": {
        "id": "QYZronNYPn4r"
      },
      "execution_count": null,
      "outputs": []
    },
    {
      "cell_type": "code",
      "source": [
        "P@(D**10)@Pinv"
      ],
      "metadata": {
        "id": "A_UQuNM1iAt3",
        "outputId": "ddada475-be87-4886-b52a-04f614a56737",
        "colab": {
          "base_uri": "https://localhost:8080/"
        }
      },
      "execution_count": 23,
      "outputs": [
        {
          "output_type": "execute_result",
          "data": {
            "text/plain": [
              "array([[0.66670162, 0.66659676],\n",
              "       [0.33329838, 0.33340324]])"
            ]
          },
          "metadata": {},
          "execution_count": 23
        }
      ]
    },
    {
      "cell_type": "code",
      "source": [],
      "metadata": {
        "id": "nm0DwrTePuRx"
      },
      "execution_count": null,
      "outputs": []
    },
    {
      "cell_type": "code",
      "source": [
        "np.round(A@A@A@A@A@A@A@A@A@A, 12) == np.round(P@(D**10)@Pinv, 12)"
      ],
      "metadata": {
        "id": "P3dAn8FqYyyK",
        "outputId": "803b007b-38a7-4836-9cec-053000dd67c0",
        "colab": {
          "base_uri": "https://localhost:8080/"
        }
      },
      "execution_count": 24,
      "outputs": [
        {
          "output_type": "execute_result",
          "data": {
            "text/plain": [
              "array([[ True,  True],\n",
              "       [ True,  True]])"
            ]
          },
          "metadata": {},
          "execution_count": 24
        }
      ]
    }
  ]
}