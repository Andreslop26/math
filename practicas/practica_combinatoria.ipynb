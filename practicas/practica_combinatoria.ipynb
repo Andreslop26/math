{
  "nbformat": 4,
  "nbformat_minor": 0,
  "metadata": {
    "colab": {
      "provenance": [],
      "include_colab_link": true
    },
    "kernelspec": {
      "name": "python3",
      "display_name": "Python 3"
    },
    "language_info": {
      "name": "python"
    }
  },
  "cells": [
    {
      "cell_type": "markdown",
      "metadata": {
        "id": "view-in-github",
        "colab_type": "text"
      },
      "source": [
        "<a href=\"https://colab.research.google.com/github/Andreslop26/math/blob/main/practicas/practica_combinatoria.ipynb\" target=\"_parent\"><img src=\"https://colab.research.google.com/assets/colab-badge.svg\" alt=\"Open In Colab\"/></a>"
      ]
    },
    {
      "cell_type": "markdown",
      "source": [
        "# Práctica 1. Combinatoria\n",
        "Resuelva los siguientes apartados de la práctica.  \n",
        "La práctica 1.1 se proporciona solucionada para que pueda servir como ejemplo.\n"
      ],
      "metadata": {
        "id": "VP-PLgSCPtPC"
      }
    },
    {
      "cell_type": "markdown",
      "source": [
        "## Práctica 1.1\n",
        "Cuatro amigos:\n",
        "* Antonio (A)\n",
        "* Begoña (B)\n",
        "* Cesar (C)\n",
        "* Diana (D)\n",
        "\n",
        "constituyen una asociación y tienen que asignar los siguientes cargos:\n",
        "* Presiente (1)\n",
        "* Vicepresidente (2)\n",
        "* Secretario (3)\n",
        "* Tesorero (4)\n",
        "\n",
        "Se pide:\n",
        "1. Escribiendo la solución en una celda de Markdown analice el caso indicando si se trata de variaciones, permutaciones o combinaciones, con o sin repetición o el caso que sea, y el motivo para clasificar el caso de esta forma.\n",
        "2. Utilizando fórmulas de $\\LaTeX$ calcule cuántos casos existen.\n",
        "3. Cree un programa en Python para calcule cuántos casos existen.\n",
        "4. Cree un programa en Python para imprimir todas las posibilidades y numérelas. Por ejemplo:\n",
        "    - 1 ABCD\n",
        "    - 2 ABDC\n",
        "    - 3 ACBD\n",
        "    - &#20; &#20; &#20; ... ... ..."
      ],
      "metadata": {
        "id": "6oyoxqfbQJDC"
      }
    },
    {
      "cell_type": "markdown",
      "source": [
        "### Solución 1.1\n",
        "* Estamos ante un caso de **permutaciones sin repetición** ya que:\n",
        " - El orden importa, no es lo mismo estar el nº1 que significa ser presidente que el nº 4 que corresponde al tesorero.\n",
        " - Intervienen todos. Son 4 amigos para 4 cargos, todos tienen cargo, lo que cambiar es el orden, esto es, el cargo que obtengan.\n",
        " - No se repiten elementos. Una persona no puede tener dos cargos simultaneamente.\n",
        "* Los casos que se obtienen con las permutaciones sin repetición son $P_{n}=n!$ que para este ejemplo son:\n",
        "\n",
        "$$P_{4}=4!=4 \\cdot 3 \\cdot 2 \\cdot 1 = 24$$"
      ],
      "metadata": {
        "id": "t5unIqR7jdZR"
      }
    },
    {
      "cell_type": "code",
      "source": [
        "import math\n",
        "p = math.factorial(4)\n",
        "print(\"Los casos son: \", p)\n",
        "print(\"Comprobación:  \", 4*3*2*1)"
      ],
      "metadata": {
        "id": "va3_l_-hmFS-"
      },
      "execution_count": null,
      "outputs": []
    },
    {
      "cell_type": "markdown",
      "source": [
        "#### Método 1\n",
        "Sin usar librería."
      ],
      "metadata": {
        "id": "kOM3pEAGnh8v"
      }
    },
    {
      "cell_type": "code",
      "source": [
        "lista = ['A', 'B', 'C', 'D']\n",
        "contador = 1\n",
        "\n",
        "for i in lista:\n",
        "    for j in lista:\n",
        "        for k in lista:\n",
        "            for l in lista:\n",
        "                if i != j and i != k and i != l and j != k and j != l and k != l:\n",
        "                    print(f\"{contador:2d} →  {i+j+k+l}\")\n",
        "                    contador += 1"
      ],
      "metadata": {
        "id": "5--ZpSoJncj3"
      },
      "execution_count": null,
      "outputs": []
    },
    {
      "cell_type": "markdown",
      "source": [
        "#### Método 2\n",
        "* Usamos la función `permutations` de la librería `itertools`.\n",
        "* Imprimimos todas las permutaciones de los elementos de una lista."
      ],
      "metadata": {
        "id": "2PoCD5GlnwS1"
      }
    },
    {
      "cell_type": "code",
      "source": [
        "from itertools import permutations\n",
        "\n",
        "perm = permutations(['A','B','C','D'])   # obtenemos todas las permutaciones de la lista \n",
        "\n",
        "for i in list(perm):                     # imprimimos todas las permutaciones \n",
        "    print (*i)                           # con el asterisco se muestran las listas sin corchetes ni comas"
      ],
      "metadata": {
        "id": "eKkB1gQnn6_P"
      },
      "execution_count": null,
      "outputs": []
    },
    {
      "cell_type": "markdown",
      "source": [
        "## Práctica 1.2\n",
        "Cuatro amigos:\n",
        "* Antonio (A)\n",
        "* Begoña (B)\n",
        "* Cesar (C)\n",
        "* Diana (D)\n",
        "\n",
        "constituyen una asociación y tienen que asignar los siguientes cargos:\n",
        "* Presiente (1)\n",
        "* Secretario (3)\n",
        "* Tesorero (4)\n",
        "\n",
        "Se pide:\n",
        "1. Escribiendo la solución en una celda de Markdown analice el caso indicando si se trata de variaciones, permutaciones o combinaciones, con o sin repetición o el caso que sea, y el motivo para clasificar el caso de esta forma.\n",
        "2. Utilizando fórmulas de $\\LaTeX$ calcule cuántos casos existen.\n",
        "3. Cree un programa en Python para calcule cuántos casos existen.\n",
        "4. Cree un programa en Python para imprimir todas las posibilidades y numérelas. Por ejemplo:\n",
        "    - 1 ABC\n",
        "    - 2 ABD\n",
        "    - 3 ACB\n",
        "    - &#20; &#20; &#20; ... ... ..."
      ],
      "metadata": {
        "id": "sxSuCpAFSBPJ"
      }
    },
    {
      "cell_type": "markdown",
      "source": [
        "### Solución 1.2"
      ],
      "metadata": {
        "id": "xx9qsw_ej9Pd"
      }
    },
    {
      "cell_type": "code",
      "source": [
        "lista = ['A', 'B', 'C', 'D'] #EJERCICIO 2 COMBINATORIA\n",
        "contador = 1\n",
        "enumerate(lista)\n",
        "for i in lista:\n",
        "    for j in lista:\n",
        "        for k in lista:\n",
        "            for l in lista:\n",
        "                if i != j and i != k and i != l and j != k and j != l and k != l:\n",
        "                    print(f\"{contador:2d} →  {i+j+k+l}\")\n",
        "                    contador += 1\n",
        "\n"
      ],
      "metadata": {
        "id": "8oeptIKYHiWK",
        "outputId": "41e4680b-b3e4-4d40-fc3e-b69084b5f283",
        "colab": {
          "base_uri": "https://localhost:8080/"
        }
      },
      "execution_count": 3,
      "outputs": [
        {
          "output_type": "stream",
          "name": "stdout",
          "text": [
            " 1 →  ABCD\n",
            " 2 →  ABDC\n",
            " 3 →  ACBD\n",
            " 4 →  ACDB\n",
            " 5 →  ADBC\n",
            " 6 →  ADCB\n",
            " 7 →  BACD\n",
            " 8 →  BADC\n",
            " 9 →  BCAD\n",
            "10 →  BCDA\n",
            "11 →  BDAC\n",
            "12 →  BDCA\n",
            "13 →  CABD\n",
            "14 →  CADB\n",
            "15 →  CBAD\n",
            "16 →  CBDA\n",
            "17 →  CDAB\n",
            "18 →  CDBA\n",
            "19 →  DABC\n",
            "20 →  DACB\n",
            "21 →  DBAC\n",
            "22 →  DBCA\n",
            "23 →  DCAB\n",
            "24 →  DCBA\n"
          ]
        }
      ]
    },
    {
      "cell_type": "markdown",
      "source": [
        "## Práctica 1.3\n",
        "Invente un caso de **variaciones sin repetición**.\n",
        "Se pide contestar a los mismos puntos que el caso anterior.\n",
        "\n",
        "¿Cuántos números de cuatro cifras (todas distintas) se pueden formar con los números 1, 2, 3, 4, 5?\n"
      ],
      "metadata": {
        "id": "D0S1DjF4MKmz"
      }
    },
    {
      "cell_type": "markdown",
      "source": [
        "### Solución 1.3\n",
        "\n",
        " Estamos ante un caso de variaciones sin repetición ya que:\n",
        "No intervienen todos los elementos. Solo tomaremos cuatro de las cinco números para realizar las combinaciones.\n",
        "El orden importa ya que, Son sin repetición ya que si un número es utilizado, queda descartado."
      ],
      "metadata": {
        "id": "AfyuPIASj_20"
      }
    },
    {
      "cell_type": "code",
      "source": [
        "import itertools\n",
        "it = itertools.permutations(['1','2','3','4','5'],4)\n",
        "li = list(it)\n",
        "\n",
        "print()\n",
        "\n",
        "for i in range(len(li)):\n",
        "    print(f\"Variación {i+1:2d}: \", *li[i])"
      ],
      "metadata": {
        "id": "vWwvBeCIJW7s",
        "outputId": "084adc51-077f-4882-8251-29b78ee1f652",
        "colab": {
          "base_uri": "https://localhost:8080/"
        }
      },
      "execution_count": 6,
      "outputs": [
        {
          "output_type": "stream",
          "name": "stdout",
          "text": [
            "\n",
            "Variación  1:  1 2 3 4\n",
            "Variación  2:  1 2 3 5\n",
            "Variación  3:  1 2 4 3\n",
            "Variación  4:  1 2 4 5\n",
            "Variación  5:  1 2 5 3\n",
            "Variación  6:  1 2 5 4\n",
            "Variación  7:  1 3 2 4\n",
            "Variación  8:  1 3 2 5\n",
            "Variación  9:  1 3 4 2\n",
            "Variación 10:  1 3 4 5\n",
            "Variación 11:  1 3 5 2\n",
            "Variación 12:  1 3 5 4\n",
            "Variación 13:  1 4 2 3\n",
            "Variación 14:  1 4 2 5\n",
            "Variación 15:  1 4 3 2\n",
            "Variación 16:  1 4 3 5\n",
            "Variación 17:  1 4 5 2\n",
            "Variación 18:  1 4 5 3\n",
            "Variación 19:  1 5 2 3\n",
            "Variación 20:  1 5 2 4\n",
            "Variación 21:  1 5 3 2\n",
            "Variación 22:  1 5 3 4\n",
            "Variación 23:  1 5 4 2\n",
            "Variación 24:  1 5 4 3\n",
            "Variación 25:  2 1 3 4\n",
            "Variación 26:  2 1 3 5\n",
            "Variación 27:  2 1 4 3\n",
            "Variación 28:  2 1 4 5\n",
            "Variación 29:  2 1 5 3\n",
            "Variación 30:  2 1 5 4\n",
            "Variación 31:  2 3 1 4\n",
            "Variación 32:  2 3 1 5\n",
            "Variación 33:  2 3 4 1\n",
            "Variación 34:  2 3 4 5\n",
            "Variación 35:  2 3 5 1\n",
            "Variación 36:  2 3 5 4\n",
            "Variación 37:  2 4 1 3\n",
            "Variación 38:  2 4 1 5\n",
            "Variación 39:  2 4 3 1\n",
            "Variación 40:  2 4 3 5\n",
            "Variación 41:  2 4 5 1\n",
            "Variación 42:  2 4 5 3\n",
            "Variación 43:  2 5 1 3\n",
            "Variación 44:  2 5 1 4\n",
            "Variación 45:  2 5 3 1\n",
            "Variación 46:  2 5 3 4\n",
            "Variación 47:  2 5 4 1\n",
            "Variación 48:  2 5 4 3\n",
            "Variación 49:  3 1 2 4\n",
            "Variación 50:  3 1 2 5\n",
            "Variación 51:  3 1 4 2\n",
            "Variación 52:  3 1 4 5\n",
            "Variación 53:  3 1 5 2\n",
            "Variación 54:  3 1 5 4\n",
            "Variación 55:  3 2 1 4\n",
            "Variación 56:  3 2 1 5\n",
            "Variación 57:  3 2 4 1\n",
            "Variación 58:  3 2 4 5\n",
            "Variación 59:  3 2 5 1\n",
            "Variación 60:  3 2 5 4\n",
            "Variación 61:  3 4 1 2\n",
            "Variación 62:  3 4 1 5\n",
            "Variación 63:  3 4 2 1\n",
            "Variación 64:  3 4 2 5\n",
            "Variación 65:  3 4 5 1\n",
            "Variación 66:  3 4 5 2\n",
            "Variación 67:  3 5 1 2\n",
            "Variación 68:  3 5 1 4\n",
            "Variación 69:  3 5 2 1\n",
            "Variación 70:  3 5 2 4\n",
            "Variación 71:  3 5 4 1\n",
            "Variación 72:  3 5 4 2\n",
            "Variación 73:  4 1 2 3\n",
            "Variación 74:  4 1 2 5\n",
            "Variación 75:  4 1 3 2\n",
            "Variación 76:  4 1 3 5\n",
            "Variación 77:  4 1 5 2\n",
            "Variación 78:  4 1 5 3\n",
            "Variación 79:  4 2 1 3\n",
            "Variación 80:  4 2 1 5\n",
            "Variación 81:  4 2 3 1\n",
            "Variación 82:  4 2 3 5\n",
            "Variación 83:  4 2 5 1\n",
            "Variación 84:  4 2 5 3\n",
            "Variación 85:  4 3 1 2\n",
            "Variación 86:  4 3 1 5\n",
            "Variación 87:  4 3 2 1\n",
            "Variación 88:  4 3 2 5\n",
            "Variación 89:  4 3 5 1\n",
            "Variación 90:  4 3 5 2\n",
            "Variación 91:  4 5 1 2\n",
            "Variación 92:  4 5 1 3\n",
            "Variación 93:  4 5 2 1\n",
            "Variación 94:  4 5 2 3\n",
            "Variación 95:  4 5 3 1\n",
            "Variación 96:  4 5 3 2\n",
            "Variación 97:  5 1 2 3\n",
            "Variación 98:  5 1 2 4\n",
            "Variación 99:  5 1 3 2\n",
            "Variación 100:  5 1 3 4\n",
            "Variación 101:  5 1 4 2\n",
            "Variación 102:  5 1 4 3\n",
            "Variación 103:  5 2 1 3\n",
            "Variación 104:  5 2 1 4\n",
            "Variación 105:  5 2 3 1\n",
            "Variación 106:  5 2 3 4\n",
            "Variación 107:  5 2 4 1\n",
            "Variación 108:  5 2 4 3\n",
            "Variación 109:  5 3 1 2\n",
            "Variación 110:  5 3 1 4\n",
            "Variación 111:  5 3 2 1\n",
            "Variación 112:  5 3 2 4\n",
            "Variación 113:  5 3 4 1\n",
            "Variación 114:  5 3 4 2\n",
            "Variación 115:  5 4 1 2\n",
            "Variación 116:  5 4 1 3\n",
            "Variación 117:  5 4 2 1\n",
            "Variación 118:  5 4 2 3\n",
            "Variación 119:  5 4 3 1\n",
            "Variación 120:  5 4 3 2\n"
          ]
        }
      ]
    },
    {
      "cell_type": "markdown",
      "source": [
        "## Práctica 1.4\n",
        "Invente un caso de **variaciones con repetición**.\n",
        "Se pide contestar a los mismos puntos que el caso anterior.\n",
        "\n",
        "¿Cuántos números de dos cifras se pueden formar con los dígitos: 1, 2, 3, 4, 5 ?"
      ],
      "metadata": {
        "id": "gvlnqCaRMTua"
      }
    },
    {
      "cell_type": "markdown",
      "source": [
        "### Solución 1.4"
      ],
      "metadata": {
        "id": "hzvsgRDbkCy1"
      }
    },
    {
      "cell_type": "code",
      "source": [
        "import itertools \n",
        "\n",
        "def variaciones_con_repeticion(n, seq):\n",
        "      contador=0\n",
        "      for p in itertools.product(seq, repeat=n):\n",
        "            contador+= 1\n",
        "            print(contador, \"\".join(p))\n",
        "\n",
        "secuencia = '12345'\n",
        "m= len(secuencia)\n",
        "n= 2\n",
        "variaciones_con_repeticion(n,secuencia)\n",
        "\n",
        "print(f\"El número de variaciones con repetición de {m} elementos tomados de {n} en {n} son {m**n}\")"
      ],
      "metadata": {
        "id": "75e1O8uvJ8C2",
        "outputId": "b58aeb8a-fa7b-484b-fb04-b1cd9229d681",
        "colab": {
          "base_uri": "https://localhost:8080/"
        }
      },
      "execution_count": 5,
      "outputs": [
        {
          "output_type": "stream",
          "name": "stdout",
          "text": [
            "1 11\n",
            "2 12\n",
            "3 13\n",
            "4 14\n",
            "5 15\n",
            "6 21\n",
            "7 22\n",
            "8 23\n",
            "9 24\n",
            "10 25\n",
            "11 31\n",
            "12 32\n",
            "13 33\n",
            "14 34\n",
            "15 35\n",
            "16 41\n",
            "17 42\n",
            "18 43\n",
            "19 44\n",
            "20 45\n",
            "21 51\n",
            "22 52\n",
            "23 53\n",
            "24 54\n",
            "25 55\n",
            "El número de variaciones con repetición de 5 elementos tomados de 2 en 2 son 25\n"
          ]
        }
      ]
    },
    {
      "cell_type": "markdown",
      "source": [
        "## Práctica 1.5\n",
        "Invente un caso de **permutaciones sin repetición**.\n",
        "Se pide contestar a los mismos puntos que el caso anterior.\n",
        "Tres primos:\n",
        "\n",
        "Anibal (A)\n",
        "Benito (B)\n",
        "Carlos (C) Se quieren disponer en una mesa con 3 sillas ¿Cuáles son las maneras posibles?"
      ],
      "metadata": {
        "id": "0OCAC-I-G5F6"
      }
    },
    {
      "cell_type": "markdown",
      "source": [
        "### Solución 1.5"
      ],
      "metadata": {
        "id": "FvLcj6XXkFOV"
      }
    },
    {
      "cell_type": "code",
      "source": [
        "lista = ['A', 'B', 'C']\n",
        "contador = 1\n",
        "\n",
        "for i in lista:\n",
        "    for j in lista:\n",
        "        for k in lista:\n",
        "\n",
        "                if i != j and i != k and j != k :\n",
        "                    print(f\"{contador:2d} →  {i+j+k}\")\n",
        "                    contador += 1\n"
      ],
      "metadata": {
        "id": "xxM-UN1CLH1e",
        "outputId": "d8cad3fe-74e2-497e-8d73-70ed0c835538",
        "colab": {
          "base_uri": "https://localhost:8080/"
        }
      },
      "execution_count": 7,
      "outputs": [
        {
          "output_type": "stream",
          "name": "stdout",
          "text": [
            " 1 →  ABC\n",
            " 2 →  ACB\n",
            " 3 →  BAC\n",
            " 4 →  BCA\n",
            " 5 →  CAB\n",
            " 6 →  CBA\n"
          ]
        }
      ]
    },
    {
      "cell_type": "markdown",
      "source": [
        "## Práctica 1.6\n",
        "Invente un caso de **permutaciones con repetición**.\n",
        "Se pide contestar a los mismos puntos que el caso anterior.\n",
        "\n",
        "Consta de un grupo que va a competir en 4 categorias, siendo 4 personas los casos que podrá haber sabiendo que todos los competidores pueden ganar en más de una.\n",
        "\n"
      ],
      "metadata": {
        "id": "YWUXIczqLj3W"
      }
    },
    {
      "cell_type": "markdown",
      "source": [
        "### Solución 1.6"
      ],
      "metadata": {
        "id": "siAxWVVekHs6"
      }
    },
    {
      "cell_type": "code",
      "source": [
        "lista = ['Jorge ', 'Paul ', 'Mario ', 'Luisa ']\n",
        "\n",
        "for i in lista:\n",
        "    for j in lista:\n",
        "        for k in lista:\n",
        "            for l in lista:\n",
        "                print(i + j + k + l)"
      ],
      "metadata": {
        "id": "r6i4Tt_8Lkae",
        "outputId": "1a3418db-4a6f-4de1-cd96-f8b0cee4853e",
        "colab": {
          "base_uri": "https://localhost:8080/"
        }
      },
      "execution_count": 8,
      "outputs": [
        {
          "output_type": "stream",
          "name": "stdout",
          "text": [
            "Jorge Jorge Jorge Jorge \n",
            "Jorge Jorge Jorge Paul \n",
            "Jorge Jorge Jorge Mario \n",
            "Jorge Jorge Jorge Luisa \n",
            "Jorge Jorge Paul Jorge \n",
            "Jorge Jorge Paul Paul \n",
            "Jorge Jorge Paul Mario \n",
            "Jorge Jorge Paul Luisa \n",
            "Jorge Jorge Mario Jorge \n",
            "Jorge Jorge Mario Paul \n",
            "Jorge Jorge Mario Mario \n",
            "Jorge Jorge Mario Luisa \n",
            "Jorge Jorge Luisa Jorge \n",
            "Jorge Jorge Luisa Paul \n",
            "Jorge Jorge Luisa Mario \n",
            "Jorge Jorge Luisa Luisa \n",
            "Jorge Paul Jorge Jorge \n",
            "Jorge Paul Jorge Paul \n",
            "Jorge Paul Jorge Mario \n",
            "Jorge Paul Jorge Luisa \n",
            "Jorge Paul Paul Jorge \n",
            "Jorge Paul Paul Paul \n",
            "Jorge Paul Paul Mario \n",
            "Jorge Paul Paul Luisa \n",
            "Jorge Paul Mario Jorge \n",
            "Jorge Paul Mario Paul \n",
            "Jorge Paul Mario Mario \n",
            "Jorge Paul Mario Luisa \n",
            "Jorge Paul Luisa Jorge \n",
            "Jorge Paul Luisa Paul \n",
            "Jorge Paul Luisa Mario \n",
            "Jorge Paul Luisa Luisa \n",
            "Jorge Mario Jorge Jorge \n",
            "Jorge Mario Jorge Paul \n",
            "Jorge Mario Jorge Mario \n",
            "Jorge Mario Jorge Luisa \n",
            "Jorge Mario Paul Jorge \n",
            "Jorge Mario Paul Paul \n",
            "Jorge Mario Paul Mario \n",
            "Jorge Mario Paul Luisa \n",
            "Jorge Mario Mario Jorge \n",
            "Jorge Mario Mario Paul \n",
            "Jorge Mario Mario Mario \n",
            "Jorge Mario Mario Luisa \n",
            "Jorge Mario Luisa Jorge \n",
            "Jorge Mario Luisa Paul \n",
            "Jorge Mario Luisa Mario \n",
            "Jorge Mario Luisa Luisa \n",
            "Jorge Luisa Jorge Jorge \n",
            "Jorge Luisa Jorge Paul \n",
            "Jorge Luisa Jorge Mario \n",
            "Jorge Luisa Jorge Luisa \n",
            "Jorge Luisa Paul Jorge \n",
            "Jorge Luisa Paul Paul \n",
            "Jorge Luisa Paul Mario \n",
            "Jorge Luisa Paul Luisa \n",
            "Jorge Luisa Mario Jorge \n",
            "Jorge Luisa Mario Paul \n",
            "Jorge Luisa Mario Mario \n",
            "Jorge Luisa Mario Luisa \n",
            "Jorge Luisa Luisa Jorge \n",
            "Jorge Luisa Luisa Paul \n",
            "Jorge Luisa Luisa Mario \n",
            "Jorge Luisa Luisa Luisa \n",
            "Paul Jorge Jorge Jorge \n",
            "Paul Jorge Jorge Paul \n",
            "Paul Jorge Jorge Mario \n",
            "Paul Jorge Jorge Luisa \n",
            "Paul Jorge Paul Jorge \n",
            "Paul Jorge Paul Paul \n",
            "Paul Jorge Paul Mario \n",
            "Paul Jorge Paul Luisa \n",
            "Paul Jorge Mario Jorge \n",
            "Paul Jorge Mario Paul \n",
            "Paul Jorge Mario Mario \n",
            "Paul Jorge Mario Luisa \n",
            "Paul Jorge Luisa Jorge \n",
            "Paul Jorge Luisa Paul \n",
            "Paul Jorge Luisa Mario \n",
            "Paul Jorge Luisa Luisa \n",
            "Paul Paul Jorge Jorge \n",
            "Paul Paul Jorge Paul \n",
            "Paul Paul Jorge Mario \n",
            "Paul Paul Jorge Luisa \n",
            "Paul Paul Paul Jorge \n",
            "Paul Paul Paul Paul \n",
            "Paul Paul Paul Mario \n",
            "Paul Paul Paul Luisa \n",
            "Paul Paul Mario Jorge \n",
            "Paul Paul Mario Paul \n",
            "Paul Paul Mario Mario \n",
            "Paul Paul Mario Luisa \n",
            "Paul Paul Luisa Jorge \n",
            "Paul Paul Luisa Paul \n",
            "Paul Paul Luisa Mario \n",
            "Paul Paul Luisa Luisa \n",
            "Paul Mario Jorge Jorge \n",
            "Paul Mario Jorge Paul \n",
            "Paul Mario Jorge Mario \n",
            "Paul Mario Jorge Luisa \n",
            "Paul Mario Paul Jorge \n",
            "Paul Mario Paul Paul \n",
            "Paul Mario Paul Mario \n",
            "Paul Mario Paul Luisa \n",
            "Paul Mario Mario Jorge \n",
            "Paul Mario Mario Paul \n",
            "Paul Mario Mario Mario \n",
            "Paul Mario Mario Luisa \n",
            "Paul Mario Luisa Jorge \n",
            "Paul Mario Luisa Paul \n",
            "Paul Mario Luisa Mario \n",
            "Paul Mario Luisa Luisa \n",
            "Paul Luisa Jorge Jorge \n",
            "Paul Luisa Jorge Paul \n",
            "Paul Luisa Jorge Mario \n",
            "Paul Luisa Jorge Luisa \n",
            "Paul Luisa Paul Jorge \n",
            "Paul Luisa Paul Paul \n",
            "Paul Luisa Paul Mario \n",
            "Paul Luisa Paul Luisa \n",
            "Paul Luisa Mario Jorge \n",
            "Paul Luisa Mario Paul \n",
            "Paul Luisa Mario Mario \n",
            "Paul Luisa Mario Luisa \n",
            "Paul Luisa Luisa Jorge \n",
            "Paul Luisa Luisa Paul \n",
            "Paul Luisa Luisa Mario \n",
            "Paul Luisa Luisa Luisa \n",
            "Mario Jorge Jorge Jorge \n",
            "Mario Jorge Jorge Paul \n",
            "Mario Jorge Jorge Mario \n",
            "Mario Jorge Jorge Luisa \n",
            "Mario Jorge Paul Jorge \n",
            "Mario Jorge Paul Paul \n",
            "Mario Jorge Paul Mario \n",
            "Mario Jorge Paul Luisa \n",
            "Mario Jorge Mario Jorge \n",
            "Mario Jorge Mario Paul \n",
            "Mario Jorge Mario Mario \n",
            "Mario Jorge Mario Luisa \n",
            "Mario Jorge Luisa Jorge \n",
            "Mario Jorge Luisa Paul \n",
            "Mario Jorge Luisa Mario \n",
            "Mario Jorge Luisa Luisa \n",
            "Mario Paul Jorge Jorge \n",
            "Mario Paul Jorge Paul \n",
            "Mario Paul Jorge Mario \n",
            "Mario Paul Jorge Luisa \n",
            "Mario Paul Paul Jorge \n",
            "Mario Paul Paul Paul \n",
            "Mario Paul Paul Mario \n",
            "Mario Paul Paul Luisa \n",
            "Mario Paul Mario Jorge \n",
            "Mario Paul Mario Paul \n",
            "Mario Paul Mario Mario \n",
            "Mario Paul Mario Luisa \n",
            "Mario Paul Luisa Jorge \n",
            "Mario Paul Luisa Paul \n",
            "Mario Paul Luisa Mario \n",
            "Mario Paul Luisa Luisa \n",
            "Mario Mario Jorge Jorge \n",
            "Mario Mario Jorge Paul \n",
            "Mario Mario Jorge Mario \n",
            "Mario Mario Jorge Luisa \n",
            "Mario Mario Paul Jorge \n",
            "Mario Mario Paul Paul \n",
            "Mario Mario Paul Mario \n",
            "Mario Mario Paul Luisa \n",
            "Mario Mario Mario Jorge \n",
            "Mario Mario Mario Paul \n",
            "Mario Mario Mario Mario \n",
            "Mario Mario Mario Luisa \n",
            "Mario Mario Luisa Jorge \n",
            "Mario Mario Luisa Paul \n",
            "Mario Mario Luisa Mario \n",
            "Mario Mario Luisa Luisa \n",
            "Mario Luisa Jorge Jorge \n",
            "Mario Luisa Jorge Paul \n",
            "Mario Luisa Jorge Mario \n",
            "Mario Luisa Jorge Luisa \n",
            "Mario Luisa Paul Jorge \n",
            "Mario Luisa Paul Paul \n",
            "Mario Luisa Paul Mario \n",
            "Mario Luisa Paul Luisa \n",
            "Mario Luisa Mario Jorge \n",
            "Mario Luisa Mario Paul \n",
            "Mario Luisa Mario Mario \n",
            "Mario Luisa Mario Luisa \n",
            "Mario Luisa Luisa Jorge \n",
            "Mario Luisa Luisa Paul \n",
            "Mario Luisa Luisa Mario \n",
            "Mario Luisa Luisa Luisa \n",
            "Luisa Jorge Jorge Jorge \n",
            "Luisa Jorge Jorge Paul \n",
            "Luisa Jorge Jorge Mario \n",
            "Luisa Jorge Jorge Luisa \n",
            "Luisa Jorge Paul Jorge \n",
            "Luisa Jorge Paul Paul \n",
            "Luisa Jorge Paul Mario \n",
            "Luisa Jorge Paul Luisa \n",
            "Luisa Jorge Mario Jorge \n",
            "Luisa Jorge Mario Paul \n",
            "Luisa Jorge Mario Mario \n",
            "Luisa Jorge Mario Luisa \n",
            "Luisa Jorge Luisa Jorge \n",
            "Luisa Jorge Luisa Paul \n",
            "Luisa Jorge Luisa Mario \n",
            "Luisa Jorge Luisa Luisa \n",
            "Luisa Paul Jorge Jorge \n",
            "Luisa Paul Jorge Paul \n",
            "Luisa Paul Jorge Mario \n",
            "Luisa Paul Jorge Luisa \n",
            "Luisa Paul Paul Jorge \n",
            "Luisa Paul Paul Paul \n",
            "Luisa Paul Paul Mario \n",
            "Luisa Paul Paul Luisa \n",
            "Luisa Paul Mario Jorge \n",
            "Luisa Paul Mario Paul \n",
            "Luisa Paul Mario Mario \n",
            "Luisa Paul Mario Luisa \n",
            "Luisa Paul Luisa Jorge \n",
            "Luisa Paul Luisa Paul \n",
            "Luisa Paul Luisa Mario \n",
            "Luisa Paul Luisa Luisa \n",
            "Luisa Mario Jorge Jorge \n",
            "Luisa Mario Jorge Paul \n",
            "Luisa Mario Jorge Mario \n",
            "Luisa Mario Jorge Luisa \n",
            "Luisa Mario Paul Jorge \n",
            "Luisa Mario Paul Paul \n",
            "Luisa Mario Paul Mario \n",
            "Luisa Mario Paul Luisa \n",
            "Luisa Mario Mario Jorge \n",
            "Luisa Mario Mario Paul \n",
            "Luisa Mario Mario Mario \n",
            "Luisa Mario Mario Luisa \n",
            "Luisa Mario Luisa Jorge \n",
            "Luisa Mario Luisa Paul \n",
            "Luisa Mario Luisa Mario \n",
            "Luisa Mario Luisa Luisa \n",
            "Luisa Luisa Jorge Jorge \n",
            "Luisa Luisa Jorge Paul \n",
            "Luisa Luisa Jorge Mario \n",
            "Luisa Luisa Jorge Luisa \n",
            "Luisa Luisa Paul Jorge \n",
            "Luisa Luisa Paul Paul \n",
            "Luisa Luisa Paul Mario \n",
            "Luisa Luisa Paul Luisa \n",
            "Luisa Luisa Mario Jorge \n",
            "Luisa Luisa Mario Paul \n",
            "Luisa Luisa Mario Mario \n",
            "Luisa Luisa Mario Luisa \n",
            "Luisa Luisa Luisa Jorge \n",
            "Luisa Luisa Luisa Paul \n",
            "Luisa Luisa Luisa Mario \n",
            "Luisa Luisa Luisa Luisa \n"
          ]
        }
      ]
    },
    {
      "cell_type": "markdown",
      "source": [
        "## Práctica 1.7\n",
        "Invente un caso de **combinaciones sin repetición**.\n",
        "Se pide contestar a los mismos puntos que el caso anterior.\n",
        "\n",
        "Un niño decide merendar dos porciones de tarta de distintos sabores y están disponibles los siguientes sabores:\n",
        "\n",
        "Fresa (F)\n",
        "Chocolate (C)\n",
        "Vainilla (V)\n",
        "Limón (L)\n",
        "Zanahoria (Z)\n",
        "Melocotón (M)\n",
        "Nutella (N)\n",
        "¿De cuantas maneras diferentes puede escoger dos sabores?"
      ],
      "metadata": {
        "id": "opCrIDtJGg1R"
      }
    },
    {
      "cell_type": "markdown",
      "source": [
        "### Solución 1.7"
      ],
      "metadata": {
        "id": "Zs46BsRnkJcl"
      }
    },
    {
      "cell_type": "code",
      "source": [
        "from itertools import combinations\n",
        "\n",
        "Sabores = [\"Fresa \",\"Chocolate \",\"Vainilla \",\"Limón \",\"Zanahoria \",\"Melocotón \",\"Nutella \",]\n",
        "\n",
        "n = 0\n",
        "combi = []\n",
        "\n",
        "while n < len(Sabores):\n",
        "    for i in Sabores:\n",
        "        for g in Sabores:\n",
        "            if i != g and g + i not in combi:\n",
        "                c = i + g\n",
        "                combi.append(c)\n",
        "                n += 1\n",
        "                print (n, c)\n",
        "\n",
        "from math import factorial\n",
        "print(f\"Los casos que se obtienen son {int(factorial(7)/factorial(2)/factorial(7-2))}\")\n"
      ],
      "metadata": {
        "id": "BC-KNxexMBYF",
        "outputId": "ae90d9df-accd-4d75-917e-5a1d5fb498c8",
        "colab": {
          "base_uri": "https://localhost:8080/"
        }
      },
      "execution_count": 10,
      "outputs": [
        {
          "output_type": "stream",
          "name": "stdout",
          "text": [
            "1 Fresa Chocolate \n",
            "2 Fresa Vainilla \n",
            "3 Fresa Limón \n",
            "4 Fresa Zanahoria \n",
            "5 Fresa Melocotón \n",
            "6 Fresa Nutella \n",
            "7 Chocolate Vainilla \n",
            "8 Chocolate Limón \n",
            "9 Chocolate Zanahoria \n",
            "10 Chocolate Melocotón \n",
            "11 Chocolate Nutella \n",
            "12 Vainilla Limón \n",
            "13 Vainilla Zanahoria \n",
            "14 Vainilla Melocotón \n",
            "15 Vainilla Nutella \n",
            "16 Limón Zanahoria \n",
            "17 Limón Melocotón \n",
            "18 Limón Nutella \n",
            "19 Zanahoria Melocotón \n",
            "20 Zanahoria Nutella \n",
            "21 Melocotón Nutella \n",
            "Los casos que se obtienen son 21\n"
          ]
        }
      ]
    },
    {
      "cell_type": "markdown",
      "source": [
        "## Práctica 1.8\n",
        "Invente un caso de **combinaciones con repetición**.\n",
        "Se pide contestar a los mismos puntos que el caso anterior.\n",
        "\n",
        "Una pizzería ofrece seis ingredientes para añadir a una base de mozzarella y tomate:\n",
        "\n",
        "Jamón\n",
        "Bacon\n",
        "Maíz\n",
        "Pepperoni\n",
        "Anchoa\n",
        "Cebolla\n",
        "Si la oferta consiste en añadir dos ingredientes, ¿cuántas pizzas diferentes se pueden elaborar? Estamos ante un caso de combinaciones con repetición ya que:\n"
      ],
      "metadata": {
        "id": "-7Y5WWlDGzAR"
      }
    },
    {
      "cell_type": "markdown",
      "source": [
        "### Solución 1.8"
      ],
      "metadata": {
        "id": "ReRULqd8kL1F"
      }
    },
    {
      "cell_type": "code",
      "source": [
        "from itertools import combinations\n",
        "\n",
        "ingredientes = [\"Jamón \",\"Bacon \",\"Maíz \",\"Pepperoni \",\"Anchoa \",\"Cebolla \"]\n",
        "\n",
        "n = 0\n",
        "combi = []\n",
        "\n",
        "while n < len(ingredientes):\n",
        "    for i in ingredientes:\n",
        "        for g in ingredientes:\n",
        "            if  g + i not in combi:\n",
        "                c = i + g\n",
        "                combi.append(c)\n",
        "                n += 1\n",
        "                print (n,c)"
      ],
      "metadata": {
        "id": "GCnCRbbTMt82",
        "outputId": "35b500cd-c4fa-4fc6-967c-307f340f8775",
        "colab": {
          "base_uri": "https://localhost:8080/"
        }
      },
      "execution_count": 11,
      "outputs": [
        {
          "output_type": "stream",
          "name": "stdout",
          "text": [
            "1 Jamón Jamón \n",
            "2 Jamón Bacon \n",
            "3 Jamón Maíz \n",
            "4 Jamón Pepperoni \n",
            "5 Jamón Anchoa \n",
            "6 Jamón Cebolla \n",
            "7 Bacon Bacon \n",
            "8 Bacon Maíz \n",
            "9 Bacon Pepperoni \n",
            "10 Bacon Anchoa \n",
            "11 Bacon Cebolla \n",
            "12 Maíz Maíz \n",
            "13 Maíz Pepperoni \n",
            "14 Maíz Anchoa \n",
            "15 Maíz Cebolla \n",
            "16 Pepperoni Pepperoni \n",
            "17 Pepperoni Anchoa \n",
            "18 Pepperoni Cebolla \n",
            "19 Anchoa Anchoa \n",
            "20 Anchoa Cebolla \n",
            "21 Cebolla Cebolla \n"
          ]
        }
      ]
    },
    {
      "cell_type": "markdown",
      "source": [
        "## Práctica 1.9\n",
        "En el gobierno se crea una unidad de crisis formada por el presidente (P) y 4 ministros (A,B,C,D) que se reúnen sentados alrededor de una **mesa redonda**.\n",
        "\n",
        "Se pide:  \n",
        "1. Calcule de cuantas formas pueden llegar a sentarse si el ministro de defensa (D) siempre ha de estar al lado del presidente (P). Escriba la solución en una celda de Markdown utilizando fórmulas en $\\LaTeX$  explicando el caso.\n",
        "2. Cree un programa en Python para calcular el número de casos que se pueden dar al sentarse en la mesa.\n",
        "3. Cree un programa en Python para imprimir todas las posibilidades y numérelas. Por ejemplo:\n",
        "    - 1 PDABC\n",
        "    - 2 PDACB\n",
        "    - 3 PDBCD\n",
        "    - 4 PDBDC\n",
        "    - 5 PDCAB\n",
        "    - 6 PDCBA\n",
        "    - 7 DPABC\n",
        "    - 8 DPACB\n",
        "    - &#20; &#20; &#20; ... ... ...\n"
      ],
      "metadata": {
        "id": "SOzxh_YgHnDG"
      }
    },
    {
      "cell_type": "markdown",
      "source": [
        "### Solución 1.9"
      ],
      "metadata": {
        "id": "F8kV034OkQZX"
      }
    },
    {
      "cell_type": "markdown",
      "source": [
        "## Práctica 1.10\n",
        "* Realice una breve explicación teórica del **triángulo de Pascal**, o también llamado triángulo de Tartaglia, y de las fórmulas de los números combinatorios.\n",
        "* Cree un programa en Python para hacer el triángulo de Pascal."
      ],
      "metadata": {
        "id": "eiHdMOP-MkrZ"
      }
    },
    {
      "cell_type": "markdown",
      "source": [
        "### Solución 1.10"
      ],
      "metadata": {
        "id": "j0UT2579kTSM"
      }
    },
    {
      "cell_type": "markdown",
      "source": [
        "El triángulo de Pascal es un triángulo de números enteros, infinito y simétrico Se empieza con un 1 en la primera fila, y en las filas siguientes se van colocando números de forma que cada uno de ellos sea la suma de los dos números que tiene encima. Se supone que los lugares fuera del triángulo contienen ceros, de forma que los bordes del triángulo están formados por unos. Aquí sólo se ve una parte; el triángulo continúa por debajo y es infinito.\n"
      ],
      "metadata": {
        "id": "b98LHA4GNztt"
      }
    },
    {
      "cell_type": "code",
      "source": [
        "num = int(input(\"Enter the number of rows:\"))\n",
        "\n",
        "for n in range(num):\n",
        "    print(' '*(num-n), end='')\n",
        "\n",
        "    print(' '.join(map(str, str(11**n))))\n"
      ],
      "metadata": {
        "id": "t3qr8fGbNXwQ",
        "outputId": "52751513-313b-4418-aa62-0b85d2460a46",
        "colab": {
          "base_uri": "https://localhost:8080/"
        }
      },
      "execution_count": 15,
      "outputs": [
        {
          "output_type": "stream",
          "name": "stdout",
          "text": [
            "Enter the number of rows:8\n",
            "        1\n",
            "       1 1\n",
            "      1 2 1\n",
            "     1 3 3 1\n",
            "    1 4 6 4 1\n",
            "   1 6 1 0 5 1\n",
            "  1 7 7 1 5 6 1\n",
            " 1 9 4 8 7 1 7 1\n"
          ]
        }
      ]
    }
  ]
}