{
  "nbformat": 4,
  "nbformat_minor": 0,
  "metadata": {
    "colab": {
      "name": "ejercicios_combinatoria.ipynb",
      "provenance": [],
      "authorship_tag": "ABX9TyOqb6kbIiDxueYZGlm2XLq+",
      "include_colab_link": true
    },
    "kernelspec": {
      "name": "python3",
      "display_name": "Python 3"
    },
    "language_info": {
      "name": "python"
    }
  },
  "cells": [
    {
      "cell_type": "markdown",
      "metadata": {
        "id": "view-in-github",
        "colab_type": "text"
      },
      "source": [
        "<a href=\"https://colab.research.google.com/github/financieras/math/blob/main/retos/ejercicios_combinatoria.ipynb\" target=\"_parent\"><img src=\"https://colab.research.google.com/assets/colab-badge.svg\" alt=\"Open In Colab\"/></a>"
      ]
    },
    {
      "cell_type": "markdown",
      "source": [
        "# Ejercicios de Combinatoria\n",
        "* Diga para cada ejercicio en que caso nos encontramos:\n",
        " - Variaciones\n",
        " - Variaciones con repetición\n",
        " - Permutaciones\n",
        " - Permutaciones con repetición\n",
        " - Combinaciones\n",
        " - Combinaciones con repetición\n",
        " - Permutaciones circulares\n",
        " - Si se aplica la propiedad de la multiplicación\n",
        " - Si se aplica la propiedad de la suma\n",
        " - etc\n",
        "* Indique en cada ejercicio el motivo por el que sabemos el caso de que se trata:\n",
        " - Importa o no el orden de los elementos\n",
        " - Se pueden repetir o no\n",
        " - Cuántos hay y cuantos se eligen en cada caso\n",
        " - etc\n",
        "* Escriba en una celda de Markdown, usando ecuaciones de LaTex, la fórmula aplicada en cada caso, sutituyendo valores numéricos y calculando el resultado final.\n",
        "* Resuelva en Python los siguientes ejercicios\n",
        "* Realize abundantes comentarios para entender el caso resuelto y el código\n"
      ],
      "metadata": {
        "id": "YAuJhC7_nO1A"
      }
    },
    {
      "cell_type": "markdown",
      "source": [
        "## Ejercicio 1\n",
        "Ana, Beatriz, Carmen, Dana y Elvira compiten en una carrera. \n",
        "* De cuantas formas pueden llenar el podium de tres puestos.\n",
        "* Indique en qué caso nos encontramos y el motivo por el que lo sabemos.\n",
        "* Muestre todas las posibilidades usando las iniciales de los nombres."
      ],
      "metadata": {
        "id": "mVEuHUYOoKrZ"
      }
    },
    {
      "cell_type": "markdown",
      "source": [
        "### Solución 1\n",
        "* Estamos en un caso de ___\n",
        "* El motivo es por ___\n",
        "* La fórmula empleada es ___\n",
        "* Sustituyendo datos obtenemos ___"
      ],
      "metadata": {
        "id": "uSdVBvo0sHfQ"
      }
    },
    {
      "cell_type": "code",
      "source": [
        "# Solución al ejercicio en Python\n",
        "# calculando el número de resultados y mostrando todos ellos\n"
      ],
      "metadata": {
        "id": "sJiG27yDsKL-"
      },
      "execution_count": null,
      "outputs": []
    }
  ]
}