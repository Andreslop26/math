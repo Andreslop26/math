{
  "nbformat": 4,
  "nbformat_minor": 0,
  "metadata": {
    "colab": {
      "provenance": [],
      "authorship_tag": "ABX9TyNgSggcw29WRtmksKVMFaAE",
      "include_colab_link": true
    },
    "kernelspec": {
      "name": "python3",
      "display_name": "Python 3"
    },
    "language_info": {
      "name": "python"
    }
  },
  "cells": [
    {
      "cell_type": "markdown",
      "metadata": {
        "id": "view-in-github",
        "colab_type": "text"
      },
      "source": [
        "<a href=\"https://colab.research.google.com/github/financieras/math/blob/main/retos/reto1.ipynb\" target=\"_parent\"><img src=\"https://colab.research.google.com/assets/colab-badge.svg\" alt=\"Open In Colab\"/></a>"
      ]
    },
    {
      "cell_type": "markdown",
      "source": [
        "# Reto 1. El concurso\n",
        "* Mire este fragmento de vídeo de la serie Numb3rs: [Juego matematico](https://youtu.be/pqJBTWoIkbA)\n",
        "* Cree un código en **Python** que permita realizar una simulación para cada uno de los dos casos:\n",
        " - caso 1: el jugador no cambia de opinión\n",
        " - caso 2: el jugador cambia de opinión\n",
        "* La simulación se realizará sobre un número elevado de iteraciones, **un millón**.\n",
        "* ¿Es cierto que si el jugador cambia de opinión mejora sus posibilidades de ganar?\n",
        "* Calcule las **probabilidades** de ganar en cada uno de los dos casos (caso 1 y caso 2) y también:\n",
        " - según lo que dice la **teoría** y\n",
        " - según lo obtenido con la **simulación**\n",
        "* Muestre un **gráfico** donde se vea cómo al aumentar el número de iteraciones en la simulación los resultados tienden a los valores teóricos.\n",
        "* **Explicación**: explique lo que está pasando, el motivo por el que al jugador le interesaría cambiar de opinión.\n",
        "* Realice un buen **vídeo** explicativo del reto y del código Python utilizado."
      ],
      "metadata": {
        "id": "nC9B4MV0Afji"
      }
    }
  ]
}