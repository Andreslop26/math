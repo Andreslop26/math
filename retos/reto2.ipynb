{
  "nbformat": 4,
  "nbformat_minor": 0,
  "metadata": {
    "colab": {
      "provenance": [],
      "authorship_tag": "ABX9TyPldRTx64HxvMJXonmjRe6I",
      "include_colab_link": true
    },
    "kernelspec": {
      "name": "python3",
      "display_name": "Python 3"
    },
    "language_info": {
      "name": "python"
    }
  },
  "cells": [
    {
      "cell_type": "markdown",
      "metadata": {
        "id": "view-in-github",
        "colab_type": "text"
      },
      "source": [
        "<a href=\"https://colab.research.google.com/github/financieras/math/blob/main/retos/reto2.ipynb\" target=\"_parent\"><img src=\"https://colab.research.google.com/assets/colab-badge.svg\" alt=\"Open In Colab\"/></a>"
      ]
    },
    {
      "cell_type": "markdown",
      "source": [
        "# Reto 2: Mapa\n",
        "* Crear la función **genera_mapa**, esta función ha de generar una matriz de dimensión 9x9\n",
        " - La matriz está compuesta mayoritariamente por ceros y algunos unos\n",
        " - El número de unos se determina de forma aleatoria entre 3 y 8\n",
        " - Los unos se distribuyen de forma aleatoria por la matriz\n",
        " - A la matriz la llamaremos Mapa, las zonas de ceros son terreno cultivable y los unos son rocas\n",
        " - Imprimir en pantalla el Mapa generado en forma de cuadrado 9x9, sin comas, ni corchetes.\n",
        " - Después de imprimir el Mapa, imprimir una línea vacía.\n",
        "* Crear otra función denominada **resuelve** que tome el mapa anteriormente generado e identifique el cuadrado más grande posible de terreno cultivable\n",
        "- Si existen varias soluciones dar una de ellas\n",
        "- Imprimir el nuevo Mapa con la solución, marcando las posiciones de terreno cultivable mediante el símbolo X.  \n",
        "\n",
        "En este gif se muestra la solución trabajando en Excel.  \n",
        "\n",
        "<img src=\"https://github.com/financieras/math/blob/main/img/mapa.gif?raw=1\" alt=\"autosABC\" width=\"600\">\n",
        "\n",
        "* Lo que se pide es que resuelva el reto programando en **Python** las dos funciones y que al invocarlas se vea un resultado como el que se muestra en el siguiente ejemplo.\n",
        "* También ha de realizar un buen **vídeo** explicando el reto y cómo lo ha resuelto en Python."
      ],
      "metadata": {
        "id": "sPSNiRaEEnUW"
      }
    },
    {
      "cell_type": "code",
      "source": [
        "mapa = [[0,0,1,0,0,0,0,0,0],\n",
        "        [0,0,0,0,1,0,0,0,0],\n",
        "        [0,0,0,0,0,0,0,1,0],\n",
        "        [0,0,1,0,0,0,0,0,0],\n",
        "        [0,0,0,0,0,0,0,0,1],\n",
        "        [0,0,0,0,0,0,0,0,0],\n",
        "        [1,0,0,0,0,0,0,0,0],\n",
        "        [1,0,0,0,0,0,0,0,0],\n",
        "        [0,0,0,0,0,0,0,0,0]]\n",
        "\n",
        "for i in mapa:\n",
        "    print(*i)\n",
        "print()\n",
        "\n",
        "resp = [[0,0,1,0,0,0,0,0,0],\n",
        "        [0,0,0,0,1,0,0,0,0],\n",
        "        [0,0,0,0,0,0,0,1,0],\n",
        "        [0,0,1,'X','X','X','X','X',0],\n",
        "        [0,0,0,'X','X','X','X','X',1],\n",
        "        [0,0,0,'X','X','X','X','X',0],\n",
        "        [1,0,0,'X','X','X','X','X',0],\n",
        "        [1,0,0,'X','X','X','X','X',0],\n",
        "        [0,0,0,0,0,0,0,0,0]]\n",
        "\n",
        "for i in resp:\n",
        "    print(*i)"
      ],
      "metadata": {
        "colab": {
          "base_uri": "https://localhost:8080/"
        },
        "id": "hziKEP1hRz-q",
        "outputId": "4b699281-9d52-4104-9fad-ec6ed6832e8f"
      },
      "execution_count": 3,
      "outputs": [
        {
          "output_type": "stream",
          "name": "stdout",
          "text": [
            "0 0 1 0 0 0 0 0 0\n",
            "0 0 0 0 1 0 0 0 0\n",
            "0 0 0 0 0 0 0 1 0\n",
            "0 0 1 0 0 0 0 0 0\n",
            "0 0 0 0 0 0 0 0 1\n",
            "0 0 0 0 0 0 0 0 0\n",
            "1 0 0 0 0 0 0 0 0\n",
            "1 0 0 0 0 0 0 0 0\n",
            "0 0 0 0 0 0 0 0 0\n",
            "\n",
            "0 0 1 0 0 0 0 0 0\n",
            "0 0 0 0 1 0 0 0 0\n",
            "0 0 0 0 0 0 0 1 0\n",
            "0 0 1 X X X X X 0\n",
            "0 0 0 X X X X X 1\n",
            "0 0 0 X X X X X 0\n",
            "1 0 0 X X X X X 0\n",
            "1 0 0 X X X X X 0\n",
            "0 0 0 0 0 0 0 0 0\n"
          ]
        }
      ]
    }
  ]
}