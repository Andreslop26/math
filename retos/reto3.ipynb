{
  "nbformat": 4,
  "nbformat_minor": 0,
  "metadata": {
    "colab": {
      "provenance": [],
      "authorship_tag": "ABX9TyMnfor6EqG2JGmLnrItsAjB",
      "include_colab_link": true
    },
    "kernelspec": {
      "name": "python3",
      "display_name": "Python 3"
    },
    "language_info": {
      "name": "python"
    }
  },
  "cells": [
    {
      "cell_type": "markdown",
      "metadata": {
        "id": "view-in-github",
        "colab_type": "text"
      },
      "source": [
        "<a href=\"https://colab.research.google.com/github/financieras/math/blob/main/retos/reto3.ipynb\" target=\"_parent\"><img src=\"https://colab.research.google.com/assets/colab-badge.svg\" alt=\"Open In Colab\"/></a>"
      ]
    },
    {
      "cell_type": "markdown",
      "source": [
        "# Reto 3. Edificios\n",
        "* Disponemos de un tablero de 4x4 casillas (ver zona amarilla de los ejemplos)\n",
        "* En cada una de las casillas podemos situar un edificio\n",
        "* Los edificios pueden ser de altura 1, 2, 3 o 4\n",
        "* En cada fila solo puede haber un edificio de cada altura\n",
        "* En cada columna solo puede haber un edificio de cada altura  \n",
        "\n",
        "**Ejemplo 1**\n",
        "\n",
        "<img src=\"https://github.com/financieras/math/blob/main/img/ejemplo1_orlado.png?raw=1\" alt=\"ejemplo1\" width=\"200\">\n",
        "\n",
        "**Ejemplo 2**\n",
        "\n",
        "<img src=\"https://github.com/financieras/math/blob/main/img/ejemplo2_orlado.png?raw=1\" alt=\"ejemplo2\" width=\"200\">\n",
        "\n",
        "* Si miramos cada calle por un cierto lado, los edificios más grandes ocultan la visión de los edificios que son de menos altura.\n",
        "* En las celdas que orlan nuestra matriz (zona gris) se muestran el número de edificios que son visibles según se mire una calle por un lado o por otro.\n",
        "* La orla de nuestra matriz está compuesta por 16 números en color gris que siguen el siguiente orden:\n",
        "1. primero van los cuatro de la fila superior, para el ejemplo 1 son 4321\n",
        "2. luego van los cuatro de la fila inferior, para el ejemplo 1 son 1222\n",
        "3. luego van los cuatro de la columna izquierda, para el ejemplo 1 son 4321\n",
        "4. finalmente van los cuatro de la columna derecha, para el ejemplo 1 son 1222\n",
        "Todos los elementos grises que orlan nuestra matriz ordenados forman un número que llamaremos vista:\n",
        "* para el primer ejemplo:  vista = \"4 3 2 1 1 2 2 2 4 3 2 1 1 2 2 2\" \n",
        "* para el segundo ejemplo: vista = \"4 2 2 1 1 2 2 4 3 2 2 1 1 2 2 3\"\n",
        "\n",
        "Programando en Python, se pide:\n",
        "\n",
        "1. Crear la función **manzana** que aleatoriamente nos permita generar una manzana de edificios entre todas las manzanas posibles. Una manzana de edificios vendrá representada por una matriz 4x4, donde los números 1,2,3,4 no se repitan en cada fila, ni en cada columna.\n",
        "\n",
        "2. Crear la función **vision** a la que pasamos una manzana en forma de matriz y retorna su vista correspondiente. La vista es un string de 16 números separados por espacios que representan las vistas de las calles tal y como se han mostrado en los ejemplos anteriores.\n",
        "\n",
        "3. Crear la función **genera** a la que pasamos un string de vistas y retorna la manzana de edificios, en forma de matriz. Si existen varias posibles manzanas que se correspondan con ese string de vistas, dar la matriz de una de ellas."
      ],
      "metadata": {
        "id": "-MvtxvyOXUBF"
      }
    },
    {
      "cell_type": "code",
      "source": [
        "# Ejmeplo basándonos en el ejemplo 2 anterior\n",
        "# La función manzana al invocarla nos devolvería una matriz 4x4\n",
        "# que se vería tal y como se imprime aquí\n",
        "\n",
        "m = [[1,3,2,4],\n",
        "     [2,4,1,3],\n",
        "     [3,1,4,2],\n",
        "     [4,2,3,1]]\n",
        "\n",
        "for i in m:\n",
        "    print(*i)"
      ],
      "metadata": {
        "id": "PCX2CZ8oYzFp",
        "outputId": "dd3fab9b-d9ce-48ac-f167-2b15394e63ac",
        "colab": {
          "base_uri": "https://localhost:8080/"
        }
      },
      "execution_count": 1,
      "outputs": [
        {
          "output_type": "stream",
          "name": "stdout",
          "text": [
            "1 3 2 4\n",
            "2 4 1 3\n",
            "3 1 4 2\n",
            "4 2 3 1\n"
          ]
        }
      ]
    },
    {
      "cell_type": "code",
      "source": [
        "# La función vision retorna un string\n",
        "# que para el ejemplo anterior sería el siguiente\n",
        "\n",
        "cadena = \"4 2 2 1 1 2 2 4 3 2 2 1 1 2 2 3\"\n",
        "print(cadena)"
      ],
      "metadata": {
        "id": "mw40CLT7eMV-",
        "outputId": "83130746-c704-4ed2-c066-7a7d1ec9d416",
        "colab": {
          "base_uri": "https://localhost:8080/"
        }
      },
      "execution_count": 2,
      "outputs": [
        {
          "output_type": "stream",
          "name": "stdout",
          "text": [
            "4 2 2 1 1 2 2 4 3 2 2 1 1 2 2 3\n"
          ]
        }
      ]
    },
    {
      "cell_type": "code",
      "source": [
        "# La función genera recibe el string anterior y sin conocer la matriz original\n",
        "# tendrá que retornar la manzana de edificios en forma de matriz\n",
        "# Si todo ha ido correctamente la función genera devolverá la matriz original\n",
        "\n",
        "m = [[1,3,2,4],\n",
        "     [2,4,1,3],\n",
        "     [3,1,4,2],\n",
        "     [4,2,3,1]]\n",
        "\n",
        "for i in m:\n",
        "    print(*i)"
      ],
      "metadata": {
        "id": "ERB15BgoetCE",
        "outputId": "e82907a8-2ac5-448b-c819-add10b4e4f1d",
        "colab": {
          "base_uri": "https://localhost:8080/"
        }
      },
      "execution_count": 3,
      "outputs": [
        {
          "output_type": "stream",
          "name": "stdout",
          "text": [
            "1 3 2 4\n",
            "2 4 1 3\n",
            "3 1 4 2\n",
            "4 2 3 1\n"
          ]
        }
      ]
    }
  ]
}