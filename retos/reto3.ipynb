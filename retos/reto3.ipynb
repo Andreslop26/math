{
  "nbformat": 4,
  "nbformat_minor": 0,
  "metadata": {
    "colab": {
      "provenance": [],
      "authorship_tag": "ABX9TyM6NukqoLM+QZ0X1TkLFQLs",
      "include_colab_link": true
    },
    "kernelspec": {
      "name": "python3",
      "display_name": "Python 3"
    },
    "language_info": {
      "name": "python"
    }
  },
  "cells": [
    {
      "cell_type": "markdown",
      "metadata": {
        "id": "view-in-github",
        "colab_type": "text"
      },
      "source": [
        "<a href=\"https://colab.research.google.com/github/financieras/math/blob/main/retos/reto3.ipynb\" target=\"_parent\"><img src=\"https://colab.research.google.com/assets/colab-badge.svg\" alt=\"Open In Colab\"/></a>"
      ]
    },
    {
      "cell_type": "markdown",
      "source": [
        "# Reto 3. Edificios\n",
        "* Disponemos de un tablero de 4x4 casillas (ver zona amarilla de los ejemplos)\n",
        "* En cada una de las casillas podemos situar un edificio\n",
        "* Los edificios pueden ser de altura 1, 2, 3 o 4\n",
        "* En cada fila solo puede haber un edificio de cada altura\n",
        "* En cada columna solo puede haber un edificio de cada altura  \n",
        "\n",
        "**Ejemplo 1**\n",
        "\n",
        "<img src=\"https://github.com/financieras/math/blob/main/img/ejemplo1_orlado.png?raw=1\" alt=\"ejemplo1\" width=\"200\">\n",
        "\n",
        "**Ejemplo 2**\n",
        "\n",
        "<img src=\"https://github.com/financieras/math/blob/main/img/ejemplo2_orlado.png?raw=1\" alt=\"ejemplo2\" width=\"200\">\n",
        "\n",
        "* Si miramos cada calle por un cierto lado, los edificios más grandes ocultan la visión de los edificios que son de menos altura.\n",
        "* En las celdas que orlan nuestra matriz (zona gris) se muestran el número de edificios que son visibles según se mire una calle por un lado o por otro.\n",
        "* La orla de nuestra matriz está compuesta por 16 números en color gris que siguen el siguiente orden:\n",
        "1. primero van los cuatro de la fila superior, para el ejemplo 1 son 4321\n",
        "2. luego van los cuatro de la fila inferior, para el ejemplo 1 son 1222\n",
        "3. luego van los cuatro de la columna izquierda, para el ejemplo 1 son 4321\n",
        "4. finalmente van los cuatro de la columna derecha, para el ejemplo 1 son 1222\n",
        "Todos los elementos grises que orlan nuestra matriz ordenados forman un número que llamaremos vista:\n",
        "* para el primer ejemplo:  vista = 4321122243211222 \n",
        "* para el segundo ejemplo: vista = 4221122432211223\n",
        "\n",
        "Usando Python, se pide:\n",
        "1. Crear una función que genere de forma aleatoria una manzana de edificios. Una manzana de edificios vendrá representada por una matriz 4x4, donde los números 1,2,3,4 no se repitan en cada fila, ni en cada columna.\n",
        "2. Crear una función que genere un vector de vistas. Este vector estará formado por un string de 16 números separados por espacios que representan las vistas de las calles de los edificios en el siguiente orden:\n",
        "\n",
        "3. Crear una función que sea capaz de generar la manzana de edificios dado un vector de vistas. Si existen varias posibles manzanas que se correspondan con ese vector de vistas, dar una de ellas."
      ],
      "metadata": {
        "id": "-MvtxvyOXUBF"
      }
    },
    {
      "cell_type": "code",
      "source": [],
      "metadata": {
        "id": "PCX2CZ8oYzFp"
      },
      "execution_count": null,
      "outputs": []
    }
  ]
}