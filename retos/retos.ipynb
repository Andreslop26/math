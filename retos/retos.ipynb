{
  "nbformat": 4,
  "nbformat_minor": 0,
  "metadata": {
    "colab": {
      "name": "retos.ipynb",
      "provenance": [],
      "authorship_tag": "ABX9TyOJhkqjRX627fSVtbFd+j6p",
      "include_colab_link": true
    },
    "kernelspec": {
      "name": "python3",
      "display_name": "Python 3"
    },
    "language_info": {
      "name": "python"
    }
  },
  "cells": [
    {
      "cell_type": "markdown",
      "metadata": {
        "id": "view-in-github",
        "colab_type": "text"
      },
      "source": [
        "<a href=\"https://colab.research.google.com/github/financieras/math/blob/main/retos/retos.ipynb\" target=\"_parent\"><img src=\"https://colab.research.google.com/assets/colab-badge.svg\" alt=\"Open In Colab\"/></a>"
      ]
    },
    {
      "cell_type": "markdown",
      "source": [
        "# Retos"
      ],
      "metadata": {
        "id": "-PvQfvBOG9yq"
      }
    },
    {
      "cell_type": "markdown",
      "source": [
        "## Reto 1\n",
        "* Mire este fragmento de vídeo de la serie Numb3rs: [Juego matematico](https://youtu.be/pqJBTWoIkbA)\n",
        "* Cree un código en Python que permita realizar una simulación para cada uno de los dos casos:\n",
        " - caso 1: el jugador no cambia de opinión\n",
        " - caso 2: el jugador cambia de opinión\n",
        "* La simulación se realizará sobre un número elevado de iteraciones, por ejemplo un millón.\n",
        "* ¿Es cierto que si el jugador cambia de opinión mejora sus posibilidades de ganar?\n",
        "* De el porcentaje de las probabilidades de ganar de cada uno de los dos casos (caso 1 y caso 2) y también:\n",
        " - según lo que dice la teoría y\n",
        " - según lo obtenido con la simulación\n",
        "* Explique lo que está pasando, el motivo por el que al jugador le interesaría cambiar de opnión.\n",
        "* El 20% más alto de la calificación se alcanza realizando un buen vídeo explicativo del reto y del código Python utilizado."
      ],
      "metadata": {
        "id": "8lzrfoSDHABX"
      }
    },
    {
      "cell_type": "markdown",
      "source": [
        "## Reto 2\n",
        "* Disponemos de un tablero de 4x4 casillas\n",
        "* En cada una de las casillas podemos situar un edificio\n",
        "* Los edificios pueden ser de altura 1, 2, 3 o 4\n",
        "* En cada fila solo puede haber un edificio de cada altura\n",
        "* En cada columna solo puede haber un edificio de cada altura  \n",
        "\n",
        "**Ejemplo 1**\n",
        "\n",
        "|||||\n",
        "|-|-|-|-|\n",
        "|1|2|3|4|\n",
        "|2|3|4|1|\n",
        "|3|4|1|2|\n",
        "|4|1|2|3|\n",
        "\n",
        "\n",
        "\n",
        "**Ejemplo 2**\n",
        "\n",
        "* Si miramos cada calle por un cierto lado, los edificios más grandes ocultan la visión de los edificios que son de menos altura.\n",
        "* En las celdas que orlan nuestra matriz se muestran el número de edificios que son visibles según se mire una calle por un lado o por otro.\n",
        "\n",
        "**Ejemplo 1**\n",
        "\n",
        "|4|3|2|1|\n",
        "|-|-|-|-|\n",
        "|1|2|3|4|\n",
        "|2|3|4|1|\n",
        "|3|4|1|2|\n",
        "|4|1|2|3|\n",
        "|-|-|-|-|\n",
        "\n",
        "**Ejemplo 2**\n",
        "\n",
        "\n",
        "Usando Python, se pide:\n",
        "1. Crear una función que genere de forma aleatoria una manzana de edificios. Una manzana de edificios vendrá representada por una matriz 4x4.\n",
        "2. Crear una función que genere un vector de vistas. Este vector estará formado por un string de 16 números separados por espacios que representan las vistas de las calles de los edificios en el siguiente orden:\n",
        "\n",
        "3. Crear una función que sea capaz de generar la manzana de edificios dado un vector de vistas. Si existen varias posibles manzanas que se correspondan con ese vector de vistas, dar una de ellas."
      ],
      "metadata": {
        "id": "7OXAXwh9KAB_"
      }
    },
    {
      "cell_type": "markdown",
      "source": [
        "## Reto 3\n",
        "* Crear una función que genere una matriz de dimensión 9x9\n",
        " - La matriz está compuesta mayoritariamente por ceros y algunos unos\n",
        " - El número de unos se determina de forma aleatoria entre 3 y 8\n",
        " - Los unos se distribuyen de forma aleatoria por la matriz\n",
        " - A la matriz la llamaremos Mapa, las zonas de ceros son terreno cultivable y los unos son rocas\n",
        " - Imprimir en pantalla el Mapa generado en forma de cuadrado 9x9, sin comas, ni corchetes.\n",
        " - Después de imprimir el Mapa, imprimir una línea vacía.\n",
        "* Crear otra función que tome el mapa anteriormente generado e identifique el cuadrado más grande posible de terreno cultivable\n",
        "- Si existen varias soluciones dar una de ellas\n",
        "- Imprimir el nuevo Mapa con la solución, marcando las posiciones de terreno cultivable mediante el símbolo X.\n"
      ],
      "metadata": {
        "id": "Q-aq7pSMIRJU"
      }
    },
    {
      "cell_type": "code",
      "source": [
        "from random import random, randint, seed\n",
        "seed()   # semilla: barajamos la serie de números pseudoaleatorios\n",
        "\n",
        "def genera():\n",
        "    m = [[0]*9 for _ in range(9)]   # generamos una matriz 9x9 toda de ceros\n",
        "    n = randint(3,8)     # numero máximo de unos, decimos \"máximo\" ya que\n",
        "    for i in range(n):   # algunos unos pueden caer en la misma posición\n",
        "        m[randint(0,8)][randint(0,8)]=1   # en posiciones aleatorias ponemos unos\n",
        "    return m\n",
        "\n",
        "m = genera()\n",
        "\n",
        "for i in range(9):   # imprime el Mapa: la matriz generada\n",
        "    print(*m[i])     # el asterisco evita comas y corchetes al imprimir la matriz\n",
        "\n",
        "print()\n",
        "\n",
        "for i in range(9):\n",
        "    for j in range(9):\n",
        "        if random()<.2:   # con una probabilidad del 20% \n",
        "            m[i][j]=\"X\"   # ponemos la X aleatoriamente\n",
        "\n",
        "for i in range(9):   # imprimimos la matriz resultante, esta no es la solución ya que \n",
        "    print(*m[i])     # las X no marcan el cuadrado de terreno cultivable más grande"
      ],
      "metadata": {
        "colab": {
          "base_uri": "https://localhost:8080/"
        },
        "id": "s3tl2cOnKixc",
        "outputId": "45d692ac-8833-4add-f890-3e2742d713b0"
      },
      "execution_count": 23,
      "outputs": [
        {
          "output_type": "stream",
          "name": "stdout",
          "text": [
            "0 0 0 0 0 0 0 0 0\n",
            "0 0 0 0 0 1 0 0 0\n",
            "0 0 0 0 0 0 0 0 1\n",
            "0 0 1 0 0 1 0 0 0\n",
            "0 1 0 0 0 0 0 0 0\n",
            "0 0 0 0 0 0 0 1 0\n",
            "0 0 0 0 0 0 0 1 0\n",
            "0 0 0 0 0 0 0 0 0\n",
            "0 0 0 0 0 0 0 0 1\n",
            "\n",
            "0 0 0 0 X 0 0 0 0\n",
            "X 0 0 0 0 1 0 0 0\n",
            "0 X 0 X 0 0 0 0 1\n",
            "0 0 1 0 X 1 0 X 0\n",
            "0 X X 0 0 X 0 0 0\n",
            "0 0 0 0 X 0 0 X X\n",
            "0 0 X X 0 0 X 1 X\n",
            "0 0 0 0 X 0 0 0 X\n",
            "0 0 0 0 0 X 0 0 1\n"
          ]
        }
      ]
    }
  ]
}