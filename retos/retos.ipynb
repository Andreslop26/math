{
  "nbformat": 4,
  "nbformat_minor": 0,
  "metadata": {
    "colab": {
      "name": "retos.ipynb",
      "provenance": [],
      "authorship_tag": "ABX9TyOJ4msUxcd+HeMSrsoS5vHr",
      "include_colab_link": true
    },
    "kernelspec": {
      "name": "python3",
      "display_name": "Python 3"
    },
    "language_info": {
      "name": "python"
    }
  },
  "cells": [
    {
      "cell_type": "markdown",
      "metadata": {
        "id": "view-in-github",
        "colab_type": "text"
      },
      "source": [
        "<a href=\"https://colab.research.google.com/github/financieras/math/blob/main/retos/retos.ipynb\" target=\"_parent\"><img src=\"https://colab.research.google.com/assets/colab-badge.svg\" alt=\"Open In Colab\"/></a>"
      ]
    },
    {
      "cell_type": "markdown",
      "source": [
        "# Retos"
      ],
      "metadata": {
        "id": "-PvQfvBOG9yq"
      }
    },
    {
      "cell_type": "markdown",
      "source": [
        "## Reto 1\n",
        "* Mira este fragmento de vídeo de la serie Numb3rs: [Juego matematico](https://youtu.be/pqJBTWoIkbA)\n",
        "* Crea un código en Python que permita realizar una simulación para cada uno de los dos casos:\n",
        " - caso 1: el jugador no cambia de opinión\n",
        " - caso 2: el jugador cambia de opinión\n",
        "* La simulación se realizará sobre un número elevado de iteraciones, por ejemplo un millón.\n",
        "* ¿Es cierto que si el jugador cambia de opinión mejora sus posibilidades de ganar?\n",
        "* De el porcentaje de las probabilidades de ganar de cada uno de los dos casos (caso 1 y caso 2) y también:\n",
        " - según lo que dice la teoría y\n",
        " - según lo obtenido con la simulación\n",
        "* Explique, lo que está pasando, el motivo por el que al jugador le interesaría cambiar de opnión.\n",
        "* Podría ser interesante realizar esa explicación en vídeo y también mostrar el código Python utilizado."
      ],
      "metadata": {
        "id": "8lzrfoSDHABX"
      }
    },
    {
      "cell_type": "markdown",
      "source": [
        "## Reto 2\n",
        "* Disponemos de un tablero de 4x4 casillas\n",
        "* En cada una de las casillas podemos situar un edificio\n",
        "* Los edificios pueden ser de altura 1, 2, 3 o 4\n",
        "* En cada fila solo puede haber un edificio de cada altura\n",
        "* En cada columna solo puede haber un edificio de cada altura  \n",
        "\n",
        "**Ejemplo 1**\n",
        "\n",
        "|1   |2   |3   |4   |\n",
        "|2---|3---|4---|1---|\n",
        "|3   |    |    |    |\n",
        "|4   |    |    |    |\n",
        "\n",
        "\n",
        "\n",
        "| Tables   |      Are      |  Cool |\n",
        "|----------|:-------------:|------:|\n",
        "| col 1 is |  left-aligned | $1600 |\n",
        "| col 2 is |    centered   |   $12 |\n",
        "| col 3 is | right-aligned |    $1 |\n",
        "\n",
        "\n",
        "**Ejemplo 2**\n",
        "\n",
        "* Si miramos cada calle por un cierto lado, los edificios más grandes ocultan la visión de los edificios que son de menos altura.\n",
        "* En las celdas que orlan nuestra matriz se muestran el número de edificios que son visibles según se mire una calle por un lado o por otro.\n",
        "\n",
        "**Ejemplo 1**\n",
        "\n",
        "\n",
        "**Ejemplo 2**\n",
        "\n",
        "\n",
        "Usando Python, se pide:\n",
        "1. Crear una función que genere de forma aleatoria una manzana de edificios. Una manzana de edificios vendrá representada por una matriz 4x4.\n",
        "2. Crear una función que genere un vector de vistas. Este vector estará formado por un string de 16 números separados por espacios que representan las vistas de las calles de los edificios en el siguiente orden:\n",
        "\n",
        "3. Crear una función que sea capaz de generar la manzana de edificios dado un vector de vistas. Si existen varias posibles manzanas que se correspondan con ese vector de vistas, dar una de ellas."
      ],
      "metadata": {
        "id": "7OXAXwh9KAB_"
      }
    }
  ]
}