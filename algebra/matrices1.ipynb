{
  "nbformat": 4,
  "nbformat_minor": 0,
  "metadata": {
    "colab": {
      "provenance": [],
      "authorship_tag": "ABX9TyO8rZELKDVxi52PVqITGajU",
      "include_colab_link": true
    },
    "kernelspec": {
      "name": "python3",
      "display_name": "Python 3"
    },
    "language_info": {
      "name": "python"
    }
  },
  "cells": [
    {
      "cell_type": "markdown",
      "metadata": {
        "id": "view-in-github",
        "colab_type": "text"
      },
      "source": [
        "<a href=\"https://colab.research.google.com/github/financieras/math/blob/main/algebra/matrices1.ipynb\" target=\"_parent\"><img src=\"https://colab.research.google.com/assets/colab-badge.svg\" alt=\"Open In Colab\"/></a>"
      ]
    },
    {
      "cell_type": "markdown",
      "source": [
        "# Matriz como lista de listas"
      ],
      "metadata": {
        "id": "qu05dYPAi-Mg"
      }
    },
    {
      "cell_type": "code",
      "execution_count": 1,
      "metadata": {
        "colab": {
          "base_uri": "https://localhost:8080/"
        },
        "id": "LeSfvgSoi3_H",
        "outputId": "1e1510c8-01af-4e5c-be98-f1839e73bbe5"
      },
      "outputs": [
        {
          "output_type": "execute_result",
          "data": {
            "text/plain": [
              "[[1, 2, 3], [4, 5, 6], [7, 8, 9]]"
            ]
          },
          "metadata": {},
          "execution_count": 1
        }
      ],
      "source": [
        "m = [[1,2,3],\n",
        "     [4,5,6],\n",
        "     [7,8,9]]\n",
        "\n",
        "m"
      ]
    },
    {
      "cell_type": "markdown",
      "source": [
        "## Imprimir la matriz"
      ],
      "metadata": {
        "id": "SilxdyFBju0N"
      }
    },
    {
      "cell_type": "markdown",
      "source": [
        "### Fila a fila, lista a lista"
      ],
      "metadata": {
        "id": "IhMosZtqj1s4"
      }
    },
    {
      "cell_type": "code",
      "source": [
        "m = [[1,2,3],\n",
        "     [4,5,6],\n",
        "     [7,8,9]]\n",
        "\n",
        "for i in range(len(m)):\n",
        "    print(m[i])"
      ],
      "metadata": {
        "colab": {
          "base_uri": "https://localhost:8080/"
        },
        "id": "7HTCwXgNj7cl",
        "outputId": "143188f4-98a0-4a8a-8b59-bc28552a5c42"
      },
      "execution_count": 6,
      "outputs": [
        {
          "output_type": "stream",
          "name": "stdout",
          "text": [
            "[1, 2, 3]\n",
            "[4, 5, 6]\n",
            "[7, 8, 9]\n"
          ]
        }
      ]
    },
    {
      "cell_type": "markdown",
      "source": [
        "### Sin corchetes ni comas"
      ],
      "metadata": {
        "id": "6odXNdQjkjJo"
      }
    },
    {
      "cell_type": "code",
      "source": [
        "m = [[1,2,3],\n",
        "     [4,5,6],\n",
        "     [7,8,9]]\n",
        "\n",
        "for i in range(len(m)):\n",
        "    print(*m[i])"
      ],
      "metadata": {
        "colab": {
          "base_uri": "https://localhost:8080/"
        },
        "id": "k8FGG5pLksHo",
        "outputId": "586ee87f-ef9b-4bc5-8aa9-f302d9c20e5a"
      },
      "execution_count": 8,
      "outputs": [
        {
          "output_type": "stream",
          "name": "stdout",
          "text": [
            "1 2 3\n",
            "4 5 6\n",
            "7 8 9\n"
          ]
        }
      ]
    }
  ]
}