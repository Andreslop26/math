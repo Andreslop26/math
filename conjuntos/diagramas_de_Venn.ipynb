{
  "nbformat": 4,
  "nbformat_minor": 0,
  "metadata": {
    "colab": {
      "name": "diagramas_de_Venn.ipynb",
      "provenance": [],
      "authorship_tag": "ABX9TyPcUHcr6DkHlWKwF71xd24g",
      "include_colab_link": true
    },
    "kernelspec": {
      "name": "python3",
      "display_name": "Python 3"
    },
    "language_info": {
      "name": "python"
    }
  },
  "cells": [
    {
      "cell_type": "markdown",
      "metadata": {
        "id": "view-in-github",
        "colab_type": "text"
      },
      "source": [
        "<a href=\"https://colab.research.google.com/github/financieras/math/blob/main/conjuntos/diagramas_de_Venn.ipynb\" target=\"_parent\"><img src=\"https://colab.research.google.com/assets/colab-badge.svg\" alt=\"Open In Colab\"/></a>"
      ]
    },
    {
      "cell_type": "markdown",
      "source": [
        "# **Tema 1. Conjuntos y funciones**"
      ],
      "metadata": {
        "id": "JV0hlCMQlM8t"
      }
    },
    {
      "cell_type": "markdown",
      "source": [
        "# Diagramas de Venn"
      ],
      "metadata": {
        "id": "5YrlPTptJcxd"
      }
    },
    {
      "cell_type": "markdown",
      "source": [
        "### Definición de Diagrama de Venn\n",
        "Los [diagramas de Venn](https://es.wikipedia.org/wiki/Diagrama_de_Venn) son representaciones gráficas de los conjuntos y sus relaciones."
      ],
      "metadata": {
        "id": "wgkY5ZHtJnlf"
      }
    },
    {
      "cell_type": "markdown",
      "source": [
        "### Ejemplo de diagrama de Venn\n",
        "<img src=\"https://github.com/financieras/math/blob/main/img/venn1.png?raw=1\" alt=\"diagrama de Venn\" width=\"300\">"
      ],
      "metadata": {
        "id": "5JtU3tmOKa3R"
      }
    },
    {
      "cell_type": "markdown",
      "source": [
        "##### **Código**\n",
        "* Juego de la última piedra\n",
        "* Usted juega contra la máquina quitando piedras de un montón inicial\n",
        "* El último que quite pierde\n",
        "* En cada tirada se han de quitar necesariamente 1, 2 o 3 piedras\n",
        "* El número de piedras iniciales es un número aleatorio entre 16 y 20\n",
        "* Comienza quitando usted"
      ],
      "metadata": {
        "id": "TV49EiQ3qmX-"
      }
    },
    {
      "cell_type": "markdown",
      "source": [
        "###### Método 1\n",
        "La máquina quita aleatoriamente 1, 2 o 3 piedras."
      ],
      "metadata": {
        "id": "z-o9Uedd2cbx"
      }
    },
    {
      "cell_type": "code",
      "source": [
        "from random import seed, randint\n",
        "seed()\n",
        "inicial = randint(16, 20)   # número inicial de piedras\n",
        "n = inicial\n",
        "tirada = 0\n",
        "while n>0:\n",
        "    print(f\"n = {n:2d}    \", \"*\"*n, \" \"*(inicial-n), end=\"   \")\n",
        "    tirada += 1\n",
        "    while True:\n",
        "        q = int(input(f\"Tirada {tirada}. ¿Cuántas quita (1-3)?: \"))\n",
        "        if 1 <= q <=3:\n",
        "            break\n",
        "    n = n - q\n",
        "    if n <= 0:\n",
        "        print(\"Ohhh, la Máquina gana.\")\n",
        "        break\n",
        "    else:\n",
        "        m =min(n, randint(1,3))   # piedras que quita la máquina\n",
        "        print(f\"n = {n:2d}    \", \"*\"*n, \" \"*(inicial-n), end=\"   \")\n",
        "        print(f\"Tirada {tirada}. La máquina quita {m}.\")\n",
        "        n = n - m\n",
        "        if n <=0:\n",
        "            print(\"Felicidades, ha ganado Usted.\")\n",
        "            break\n",
        "            \n",
        "print(\"Fin del juego\")"
      ],
      "metadata": {
        "id": "Uzwe1mCyqldA",
        "outputId": "4b4f9c6a-57a2-41a8-d256-52b30783838a",
        "colab": {
          "base_uri": "https://localhost:8080/"
        }
      },
      "execution_count": 42,
      "outputs": [
        {
          "output_type": "stream",
          "name": "stdout",
          "text": [
            "n = 19     *******************    Tirada 1. ¿Cuántas quita (1-3)?: 3\n",
            "n = 16     ****************       Tirada 1. La máquina quita 3.\n",
            "n = 13     *************          Tirada 2. ¿Cuántas quita (1-3)?: 3\n",
            "n = 10     **********             Tirada 2. La máquina quita 2.\n",
            "n =  8     ********               Tirada 3. ¿Cuántas quita (1-3)?: 3\n",
            "n =  5     *****                  Tirada 3. La máquina quita 3.\n",
            "n =  2     **                     Tirada 4. ¿Cuántas quita (1-3)?: 1\n",
            "n =  1     *                      Tirada 4. La máquina quita 1.\n",
            "Felicidades, ha ganado Usted.\n",
            "Fin del juego\n"
          ]
        }
      ]
    },
    {
      "cell_type": "markdown",
      "source": [
        "###### Método 2\n",
        "Vamos a dotar a la máquina de un procedimiento ganador.  \n",
        "Ahora será más complicado ganar a la máquina."
      ],
      "metadata": {
        "id": "lr4EJgEV294E"
      }
    },
    {
      "cell_type": "code",
      "source": [
        "from random import seed, randint\n",
        "seed()\n",
        "inicial = randint(16, 20)   # número inicial de piedras\n",
        "n = inicial\n",
        "tirada = 0\n",
        "while n>0:\n",
        "    print(f\"n = {n:2d}    \", \"*\"*n, \" \"*(inicial-n), end=\"   \")\n",
        "    tirada += 1\n",
        "    while True:\n",
        "        q = int(input(f\"Tirada {tirada}. ¿Cuántas quita (1-3)?: \"))\n",
        "        if 1 <= q <=3:\n",
        "            break\n",
        "    n = n - q\n",
        "    if n <= 0:\n",
        "        print(\"Ohhh, la Máquina gana.\")\n",
        "        break\n",
        "    else:\n",
        "        m = (n-1)%4   # piedras que desearía quitar la máquina\n",
        "        if m == 0: m = randint(1,3) # piedras que realmente quita\n",
        "        print(f\"n = {n:2d}    \", \"*\"*n, \" \"*(inicial-n), end=\"   \")\n",
        "        print(f\"Tirada {tirada}. La máquina quita {m}.\")\n",
        "        n = n - m\n",
        "        if n <=0:\n",
        "            print(\"Felicidades, ha ganado Usted.\")\n",
        "            break\n",
        "            \n",
        "print(\"Fin del juego\")"
      ],
      "metadata": {
        "id": "tlrvSsrZ3E20",
        "outputId": "bf9cd606-f278-452a-cc88-c046af5195b3",
        "colab": {
          "base_uri": "https://localhost:8080/"
        }
      },
      "execution_count": 50,
      "outputs": [
        {
          "output_type": "stream",
          "name": "stdout",
          "text": [
            "n = 16     ****************    Tirada 1. ¿Cuántas quita (1-3)?: 3\n",
            "n = 13     *************       Tirada 1. La máquina quita 2.\n",
            "n = 11     ***********         Tirada 2. ¿Cuántas quita (1-3)?: 2\n",
            "n =  9     *********           Tirada 2. La máquina quita 1.\n",
            "n =  8     ********            Tirada 3. ¿Cuántas quita (1-3)?: 3\n",
            "n =  5     *****               Tirada 3. La máquina quita 1.\n",
            "n =  4     ****                Tirada 4. ¿Cuántas quita (1-3)?: 3\n",
            "n =  1     *                   Tirada 4. La máquina quita 2.\n",
            "Felicidades, ha ganado Usted.\n",
            "Fin del juego\n"
          ]
        }
      ]
    }
  ]
}