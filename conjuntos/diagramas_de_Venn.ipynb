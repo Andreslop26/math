{
  "nbformat": 4,
  "nbformat_minor": 0,
  "metadata": {
    "colab": {
      "name": "diagramas_de_Venn.ipynb",
      "provenance": [],
      "authorship_tag": "ABX9TyN5D2FymPtCnL4F5UsZbztv",
      "include_colab_link": true
    },
    "kernelspec": {
      "name": "python3",
      "display_name": "Python 3"
    },
    "language_info": {
      "name": "python"
    }
  },
  "cells": [
    {
      "cell_type": "markdown",
      "metadata": {
        "id": "view-in-github",
        "colab_type": "text"
      },
      "source": [
        "<a href=\"https://colab.research.google.com/github/financieras/math/blob/main/conjuntos/diagramas_de_Venn.ipynb\" target=\"_parent\"><img src=\"https://colab.research.google.com/assets/colab-badge.svg\" alt=\"Open In Colab\"/></a>"
      ]
    },
    {
      "cell_type": "markdown",
      "source": [
        "# Diagramas de Venn"
      ],
      "metadata": {
        "id": "5YrlPTptJcxd"
      }
    },
    {
      "cell_type": "markdown",
      "source": [
        "#### Definición de Diagrama de Venn\n",
        "Los [diagramas de Venn](https://es.wikipedia.org/wiki/Diagrama_de_Venn) son representaciones gráficas de los conjuntos y sus relaciones."
      ],
      "metadata": {
        "id": "wgkY5ZHtJnlf"
      }
    },
    {
      "cell_type": "markdown",
      "source": [],
      "metadata": {
        "id": "7PtCB2SqpcIT"
      }
    },
    {
      "cell_type": "markdown",
      "source": [
        "### Ejemplo de diagrama de Venn\n",
        "<img src=\"https://github.com/financieras/math/blob/main/img/venn1.png?raw=1\" alt=\"diagrama de Venn\" width=\"300\">"
      ],
      "metadata": {
        "id": "5JtU3tmOKa3R"
      }
    },
    {
      "cell_type": "markdown",
      "source": [
        "# Operaciones entre conjuntos"
      ],
      "metadata": {
        "id": "eFsGkWMMpfy6"
      }
    },
    {
      "cell_type": "markdown",
      "source": [
        "### Definición de unión\n",
        "La [unión](https://es.wikipedia.org/wiki/Uni%C3%B3n_de_conjuntos) de dos conjuntos $A$ y $B$ es el conjunto cuyos elementos están en $A$, en $B$, o en ambos, esto es:\n",
        "$$A \\cup B = \\{ x: \\, x \\in A \\, \\textrm{ o } \\, x \\in B \\}$$\n",
        "\n",
        "<img src=\"https://github.com/financieras/math/blob/main/img/union.png?raw=1\" alt=\"unión\">"
      ],
      "metadata": {
        "id": "zdn49Almpqtp"
      }
    },
    {
      "cell_type": "markdown",
      "source": [
        "#### Ejemplo de unión de conjuntos\n",
        "* $𝐴 = \\{ \\textrm{rojo}, \\textrm{naranja}, \\textrm{amarillo}, \\textrm{verde}, \\textrm{azul}, \\textrm{añil},\\textrm{violeta} \\}$\n",
        "* $𝐵 = \\{ \\textrm{negro}, \\textrm{amarillo}, \\textrm{azul}, \\textrm{rojo}, \\textrm{marrón} \\}$\n",
        "* $𝐴 ∪ 𝐵 = \\{ \\textrm{rojo}, \\textrm{naranja}, \\textrm{amarillo}, \\textrm{verde}, \\textrm{azul}, \\textrm{añil}, \\textrm{violeta}, \\textrm{negro}, \\textrm{marrón} \\}$"
      ],
      "metadata": {
        "id": "Lr-gLt4Wuol5"
      }
    },
    {
      "cell_type": "markdown",
      "source": [
        "##### **Código**\n",
        "* Genere un conjunto (a) de 8 números aleatorios sin repetición entre 1 y 20\n",
        "* Genere un conjunto (b) de 8 números aleatorios sin repetición  entre 1 y 20\n",
        "* Genere un conjunto (c) con la unión de ambos conjuntos\n",
        "* Note que en c no debería haber elementos repetidos"
      ],
      "metadata": {
        "id": "lofawfRKanHj"
      }
    },
    {
      "cell_type": "markdown",
      "source": [
        "###### Método 1\n",
        "Usando listas."
      ],
      "metadata": {
        "id": "0KbAogl8brF2"
      }
    },
    {
      "cell_type": "code",
      "source": [
        "import random                                    # importamos la librería random\n",
        "a = random.sample(range(1,21), 8)                # sample toma una muestra de 8 elementos sin repetición de la lista o rango dado\n",
        "b = random.sample(range(1,21), 8)\n",
        "print(\"a:\", sorted(a))\n",
        "print(\"b:\", sorted(b))\n",
        "c = a + b                                        # concatenamos ambas listas\n",
        "c = list(set(c))\n",
        "c.sort()\n",
        "print(\"c:\", c)"
      ],
      "metadata": {
        "id": "XNDlo0_jsPZJ",
        "outputId": "02b1946c-a402-43f8-8a8d-6a0bc54a5fc2",
        "colab": {
          "base_uri": "https://localhost:8080/"
        }
      },
      "execution_count": null,
      "outputs": [
        {
          "output_type": "stream",
          "name": "stdout",
          "text": [
            "a: [3, 7, 9, 12, 13, 14, 16, 20]\n",
            "b: [3, 4, 7, 8, 11, 12, 17, 18]\n",
            "c: [3, 4, 7, 8, 9, 11, 12, 13, 14, 16, 17, 18, 20]\n"
          ]
        }
      ]
    },
    {
      "cell_type": "markdown",
      "source": [
        "###### Método 2\n",
        "Usando conjuntos `set`."
      ],
      "metadata": {
        "id": "Nk9gLjoubyiM"
      }
    },
    {
      "cell_type": "code",
      "source": [
        "from random import randint, seed\n",
        "seed()\n",
        "\n",
        "def set_aleatorio(x, y, n):   # inicio (x), final(y), elementos(n)\n",
        "    '''Genera un conjunto (set) aleatorio\n",
        "     de n números, sin repetición, entre x e y.'''\n",
        "    a = set()   # si ponemos a={} crea un diccionario\n",
        "    for i in range(n):\n",
        "        while True:\n",
        "            rnd = randint(x,y)\n",
        "            if rnd not in a:\n",
        "                a.add(rnd)\n",
        "                break\n",
        "    return a\n",
        "\n",
        "a = set_aleatorio(1, 20, 8)   # invocamos la función para obtener el conjunto a\n",
        "print(\"a:\", a)                # los elementos de un conjunto se imprimen ordenados\n",
        "b = set_aleatorio(1, 20, 8)   # invocamos la función para obtener el conjunto b\n",
        "print(\"b:\", b)\n",
        "c = a.union(b)                # realizamos la unión entre ambos conjuntos\n",
        "print(\"c:\", c)"
      ],
      "metadata": {
        "id": "WQ78SfgIb5bB",
        "outputId": "9541c3eb-496b-4373-ee39-2d0d0c53b9cd",
        "colab": {
          "base_uri": "https://localhost:8080/"
        }
      },
      "execution_count": 9,
      "outputs": [
        {
          "output_type": "stream",
          "name": "stdout",
          "text": [
            "a: {2, 4, 6, 9, 11, 12, 15, 16}\n",
            "b: {5, 6, 7, 10, 12, 13, 15, 20}\n",
            "c: {2, 4, 5, 6, 7, 9, 10, 11, 12, 13, 15, 16, 20}\n"
          ]
        }
      ]
    },
    {
      "cell_type": "markdown",
      "source": [
        "### Definición de intersección\n",
        "La [intersección](https://es.wikipedia.org/wiki/Intersecci%C3%B3n_de_conjuntos) de dos conjuntos $A$ y $B$ es el conjunto cuyos elementos están tanto en A como en B, esto es:\n",
        "$$A \\cap B = \\{ x: \\, x \\in A \\, \\textrm{ y } \\, x \\in B \\}$$\n",
        "\n",
        "\n",
        "\n",
        "<img src=\"https://github.com/financieras/math/blob/main/img/interseccion.png?raw=1\" alt=\"intersección\">"
      ],
      "metadata": {
        "id": "c-pBiO2XxJzZ"
      }
    },
    {
      "cell_type": "markdown",
      "source": [
        "#### Ejemplo de intersección de conjuntos\n",
        "* $A = \\{2, 3, 5, 7, 11, 13, 17, 19 \\}$\n",
        "* $B = \\{2, 4, 6, 8, 10, 12, 14, 16, 18, 20 \\}$\n",
        "* $A \\cap B = \\{ 2\\}$\n",
        "* El conjunto $A$ son los primos de 2 a 20\n",
        "* El conjunto $B$ son los pares de 2 a 20\n",
        "* Al hacer la intersección el único elemento común vemos que es el 2."
      ],
      "metadata": {
        "id": "PiP3VsUTkoFw"
      }
    },
    {
      "cell_type": "markdown",
      "source": [
        "##### **Código**\n",
        "* Cree una función que proporcione una lista con los primos hasta n\n",
        "* Genere los primos hasta 20\n",
        "* Cree una función que de los pares desde 2 hasta n\n",
        "* Genere los pares desde 2 hasta 20, ambos incluidos\n",
        "* Convierta las listas en conjuntos (`set`)\n",
        "* Imprima el conjunto intersección"
      ],
      "metadata": {
        "id": "cXEMZEMimwob"
      }
    },
    {
      "cell_type": "code",
      "source": [
        "import math\n",
        "\n",
        "def primos_hasta(n):\n",
        "    "
      ],
      "metadata": {
        "id": "gMPSntZ0mlNC"
      },
      "execution_count": null,
      "outputs": []
    }
  ]
}