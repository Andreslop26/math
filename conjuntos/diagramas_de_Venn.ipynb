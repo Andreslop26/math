{
  "nbformat": 4,
  "nbformat_minor": 0,
  "metadata": {
    "colab": {
      "name": "diagramas_de_Venn.ipynb",
      "provenance": [],
      "authorship_tag": "ABX9TyPAgObrOly2H7+lUXEkk5oE",
      "include_colab_link": true
    },
    "kernelspec": {
      "name": "python3",
      "display_name": "Python 3"
    },
    "language_info": {
      "name": "python"
    }
  },
  "cells": [
    {
      "cell_type": "markdown",
      "metadata": {
        "id": "view-in-github",
        "colab_type": "text"
      },
      "source": [
        "<a href=\"https://colab.research.google.com/github/financieras/math/blob/main/conjuntos/diagramas_de_Venn.ipynb\" target=\"_parent\"><img src=\"https://colab.research.google.com/assets/colab-badge.svg\" alt=\"Open In Colab\"/></a>"
      ]
    },
    {
      "cell_type": "markdown",
      "source": [
        "# **Tema 1. Conjuntos y funciones**"
      ],
      "metadata": {
        "id": "JV0hlCMQlM8t"
      }
    },
    {
      "cell_type": "markdown",
      "source": [
        "# Diagramas de Venn"
      ],
      "metadata": {
        "id": "5YrlPTptJcxd"
      }
    },
    {
      "cell_type": "markdown",
      "source": [
        "#### Definición de Diagrama de Venn\n",
        "Los [diagramas de Venn](https://es.wikipedia.org/wiki/Diagrama_de_Venn) son representaciones gráficas de los conjuntos y sus relaciones."
      ],
      "metadata": {
        "id": "wgkY5ZHtJnlf"
      }
    },
    {
      "cell_type": "markdown",
      "source": [
        "### Ejemplo de diagrama de Venn\n",
        "<img src=\"https://github.com/financieras/math/blob/main/img/venn1.png?raw=1\" alt=\"diagrama de Venn\" width=\"300\">"
      ],
      "metadata": {
        "id": "5JtU3tmOKa3R"
      }
    }
  ]
}