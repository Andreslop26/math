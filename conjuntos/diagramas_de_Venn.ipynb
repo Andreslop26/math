{
  "nbformat": 4,
  "nbformat_minor": 0,
  "metadata": {
    "colab": {
      "name": "diagramas_de_Venn.ipynb",
      "provenance": [],
      "authorship_tag": "ABX9TyMpcM9w7Mfig3dW46ANkMwU",
      "include_colab_link": true
    },
    "kernelspec": {
      "name": "python3",
      "display_name": "Python 3"
    },
    "language_info": {
      "name": "python"
    }
  },
  "cells": [
    {
      "cell_type": "markdown",
      "metadata": {
        "id": "view-in-github",
        "colab_type": "text"
      },
      "source": [
        "<a href=\"https://colab.research.google.com/github/financieras/math/blob/main/conjuntos/diagramas_de_Venn.ipynb\" target=\"_parent\"><img src=\"https://colab.research.google.com/assets/colab-badge.svg\" alt=\"Open In Colab\"/></a>"
      ]
    },
    {
      "cell_type": "markdown",
      "source": [
        "# Diagramas de Venn"
      ],
      "metadata": {
        "id": "5YrlPTptJcxd"
      }
    },
    {
      "cell_type": "markdown",
      "source": [
        "#### Definición de Diagrama de Venn\n",
        "Los [diagramas de Venn](https://es.wikipedia.org/wiki/Diagrama_de_Venn) son representaciones gráficas de los conjuntos y sus relaciones."
      ],
      "metadata": {
        "id": "wgkY5ZHtJnlf"
      }
    },
    {
      "cell_type": "markdown",
      "source": [],
      "metadata": {
        "id": "7PtCB2SqpcIT"
      }
    },
    {
      "cell_type": "markdown",
      "source": [
        "### Ejemplo de diagrama de Venn\n",
        "<img src=\"https://github.com/financieras/math/blob/main/img/venn1.png?raw=1\" alt=\"diagrama de Venn\" width=\"300\">"
      ],
      "metadata": {
        "id": "5JtU3tmOKa3R"
      }
    },
    {
      "cell_type": "markdown",
      "source": [
        "# Operaciones entre conjuntos"
      ],
      "metadata": {
        "id": "eFsGkWMMpfy6"
      }
    },
    {
      "cell_type": "markdown",
      "source": [
        "### Definición de unión\n",
        "La unión de dos conjuntos $A$ y $B$ es el conjunto cuyos elementos están en $A$, en $B$, o en ambos, esto es:\n",
        "$$A \\cup B = \\{ x: \\, x \\in A \\, \\textrm{ o } \\, x \\in B \\}$$"
      ],
      "metadata": {
        "id": "zdn49Almpqtp"
      }
    },
    {
      "cell_type": "markdown",
      "source": [
        "#### Ejemplo unión\n",
        "* $𝐴 = \\{ \\textrm{rojo}, \\textrm{naranja}, \\textrm{amarillo}, \\textrm{verde}, \\textrm{azul}, \\textrm{añil},\\textrm{violeta} \\}$\n",
        "* $𝐵 = \\{ \\textrm{negro}, \\textrm{amarillo}, \\textrm{azul}, \\textrm{rojo}, \\textrm{marrón} \\}$\n",
        "* $𝐴 ∪ 𝐵 = \\{ \\textrm{rojo}, \\textrm{naranja}, \\textrm{amarillo}, \\textrm{verde}, \\textrm{azul}, \\textrm{añil}, \\textrm{violeta}, \\textrm{negro}, \\textrm{marrón} \\}$"
      ],
      "metadata": {
        "id": "Lr-gLt4Wuol5"
      }
    },
    {
      "cell_type": "markdown",
      "source": [
        "##### **Código**\n",
        "* Generar la lista a con 8 números aleatorios sin repetición entre 1 y 20\n",
        "* Generar la lista b con 8 números aleatorios sin repetición  entre 1 y 20\n",
        "* Generar la lista c con la unión de ambos conjuntos\n",
        "* Note que en la lista c no debería haber elementos repetidos"
      ],
      "metadata": {
        "id": "lofawfRKanHj"
      }
    },
    {
      "cell_type": "code",
      "source": [
        "import random                                    # importamos la librería random\n",
        "a = random.sample(range(1,21), 8)                # sample toma una muestra de 8 elementos sin repetición de la lista o rango dado\n",
        "b = random.sample(range(1,21), 8)\n",
        "print(\"a:\", sorted(a))\n",
        "print(\"b:\", sorted(b))\n",
        "c = a + b                                        # concatenamos ambas listas\n",
        "c = list(set(c))\n",
        "c.sort()\n",
        "print(\"c:\", c)"
      ],
      "metadata": {
        "id": "XNDlo0_jsPZJ",
        "outputId": "02b1946c-a402-43f8-8a8d-6a0bc54a5fc2",
        "colab": {
          "base_uri": "https://localhost:8080/"
        }
      },
      "execution_count": 4,
      "outputs": [
        {
          "output_type": "stream",
          "name": "stdout",
          "text": [
            "a: [3, 7, 9, 12, 13, 14, 16, 20]\n",
            "b: [3, 4, 7, 8, 11, 12, 17, 18]\n",
            "c: [3, 4, 7, 8, 9, 11, 12, 13, 14, 16, 17, 18, 20]\n"
          ]
        }
      ]
    },
    {
      "cell_type": "markdown",
      "source": [
        "### Definición de intersección"
      ],
      "metadata": {
        "id": "c-pBiO2XxJzZ"
      }
    }
  ]
}