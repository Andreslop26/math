{
  "nbformat": 4,
  "nbformat_minor": 0,
  "metadata": {
    "colab": {
      "name": "conjuntos.ipynb",
      "provenance": [],
      "authorship_tag": "ABX9TyOvf8mC288dpjfOoe1lGemb",
      "include_colab_link": true
    },
    "kernelspec": {
      "name": "python3",
      "display_name": "Python 3"
    },
    "language_info": {
      "name": "python"
    }
  },
  "cells": [
    {
      "cell_type": "markdown",
      "metadata": {
        "id": "view-in-github",
        "colab_type": "text"
      },
      "source": [
        "<a href=\"https://colab.research.google.com/github/financieras/math/blob/main/conjuntos/conjuntos.ipynb\" target=\"_parent\"><img src=\"https://colab.research.google.com/assets/colab-badge.svg\" alt=\"Open In Colab\"/></a>"
      ]
    },
    {
      "cell_type": "markdown",
      "source": [
        "# **Tema 1. Conjuntos y funciones**"
      ],
      "metadata": {
        "id": "L-VhD9x_KTZ3"
      }
    },
    {
      "cell_type": "markdown",
      "source": [
        "# Conjuntos y operaciones entre conjuntos"
      ],
      "metadata": {
        "id": "ES3k0ugiKah-"
      }
    },
    {
      "cell_type": "markdown",
      "source": [
        "## Conjuntos"
      ],
      "metadata": {
        "id": "88ozDK6QSQGR"
      }
    },
    {
      "cell_type": "markdown",
      "source": [
        "### Definición de conjunto\n",
        "Un [conjunto](https://es.wikipedia.org/wiki/Conjunto) es una colección de objetos que llamamos [elementos](https://es.wikipedia.org/wiki/Elemento_de_un_conjunto) del conjunto.  \n",
        "\n",
        "Los conjuntos pueden expresarse:\n",
        "* <u>por extensión</u> nombrando todos los elementos de este, o\n",
        "* por comprensión, dando una propiedad o característica que solo cumplen aquellos elementos que pertenecen al conjunto.  \n",
        "\n",
        "En cualquier caso, siempre denotando los elementos o propiedad entre llaves."
      ],
      "metadata": {
        "id": "dxs8NJ_ESWBp"
      }
    },
    {
      "cell_type": "markdown",
      "source": [
        "### Notación\n",
        "* $x \\in A$: $x$ pertenece al conjunto $A$\n",
        "* $x \\notin A$: $x$ no pertenece al conjunto $A$"
      ],
      "metadata": {
        "id": "28HTDW3ZLySJ"
      }
    },
    {
      "cell_type": "markdown",
      "source": [
        "##### **Código**\n",
        "Imprimir los números pares comprendidos entre 10 y 20, ambos incluidos"
      ],
      "metadata": {
        "id": "19pEOtf1k2UB"
      }
    },
    {
      "cell_type": "markdown",
      "source": [
        "###### Método 1\n",
        "Por extensión, creando una lista con todos los números."
      ],
      "metadata": {
        "id": "jmARsSP4lM-L"
      }
    },
    {
      "cell_type": "code",
      "source": [
        "a = [10,12,14,16,18,20]    # creamos la lista a con todos los números\n",
        "\n",
        "print(a)"
      ],
      "metadata": {
        "colab": {
          "base_uri": "https://localhost:8080/"
        },
        "id": "3qtQyUOaM2mB",
        "outputId": "e237c404-5028-40b5-bba6-2fdbef66a290"
      },
      "execution_count": null,
      "outputs": [
        {
          "output_type": "stream",
          "name": "stdout",
          "text": [
            "[10, 12, 14, 16, 18, 20]\n"
          ]
        }
      ]
    },
    {
      "cell_type": "markdown",
      "source": [
        "###### Método 2\n",
        "Añadiendo a la lista solo los números pares del rango requerido"
      ],
      "metadata": {
        "id": "ZyRyPx7LlzVl"
      }
    },
    {
      "cell_type": "code",
      "source": [
        "a = []                     # inicializamos una lista vacía\n",
        "for i in range(10,21,2):   # la variable auxiliar i toma los valores pares entre 10 y 20\n",
        "    a.append(i)            # añadimos al final de la lista los números que cumplen la condición\n",
        "\n",
        "print(a)"
      ],
      "metadata": {
        "colab": {
          "base_uri": "https://localhost:8080/"
        },
        "id": "qGk2FtVtRLpS",
        "outputId": "8ce60388-a1e4-4ef9-9d2a-36791fadc3b1"
      },
      "execution_count": null,
      "outputs": [
        {
          "output_type": "stream",
          "name": "stdout",
          "text": [
            "[10, 12, 14, 16, 18, 20]\n"
          ]
        }
      ]
    },
    {
      "cell_type": "code",
      "source": [
        "# Método 3. Añadiendo a la lista los elementos que cumplen la condición\n",
        "a = []\n",
        "for i in range(10,21):\n",
        "    if i%2==0:              # la condición de número par (resto 0 al dividir entre 2)\n",
        "        a.append(i)\n",
        "\n",
        "print(a)"
      ],
      "metadata": {
        "colab": {
          "base_uri": "https://localhost:8080/"
        },
        "id": "f9BQDchJRMQH",
        "outputId": "c1aa6da4-22c9-4533-931e-14d37fac3921"
      },
      "execution_count": null,
      "outputs": [
        {
          "output_type": "stream",
          "name": "stdout",
          "text": [
            "[10, 12, 14, 16, 18, 20]\n"
          ]
        }
      ]
    },
    {
      "cell_type": "markdown",
      "source": [
        "### Definición de cardinal\n",
        "El [cardinal](https://es.wikipedia.org/wiki/Cardinalidad) de un conjunto finito $A$ es el número de elementos que tiene dicho conjunto.  Este número se denota como $|A|$."
      ],
      "metadata": {
        "id": "M8FCUKXzTce2"
      }
    },
    {
      "cell_type": "markdown",
      "source": [
        "##### **Código**\n",
        "* Generar la lista a con 8 números aleatorios sin repetición  entre 1 y 20, ambos incluidos. Imprimirla\n",
        "* Generar la lista b con 8 números aleatorios sin repetición  entre 1 y 20, ambos incluidos. Imprimirla\n",
        "* Crar la lista c con la unión de todos los elementos de las anteriores. Imprimirla\n",
        "* Dar la longitud de la lista c\n",
        "* Imprimir la lista c y volver a imprimirla ordenada\n",
        "* Crear la lista d donde aparezcan todos los elementos de las listas a y b salvo los comunes\n",
        "* Dar la longitud de la lista d"
      ],
      "metadata": {
        "id": "6A6SVvNri3bw"
      }
    },
    {
      "cell_type": "code",
      "source": [
        "import random                                    # importamos la librería random\n",
        "a = random.sample(range(1,21), 8)                # sample toma una muestra de 8 elementos sin repetición de la lista o rango dado\n",
        "b = random.sample(range(1,21), 8)\n",
        "c = a + b                                        # concatenamos ambas listas\n",
        "print(\"a:\", a)\n",
        "print(\"b:\", b)\n",
        "print(\"c:\", c)\n",
        "c.sort()                                         # ordenamos la lista c de forma permanente\n",
        "print(\"c:\", c)\n",
        "print(\"La longitud de la lista c es \", len(c))   # len nos da la longitud de la lista\n",
        "d = []                                           # inicializamos la lista como una lista vacía\n",
        "\n",
        "for numero in c:                                 # recorremos todos los números de la lista c\n",
        "    if c.count(numero) == 1:                     # si el número analizado solo aparece una vez\n",
        "        d.append(numero)                         # lo añadimos al final de la lista d\n",
        "\n",
        "print(\"d:\", d)\n",
        "print(f\"La longitud de la lista d es {len(d)}\")"
      ],
      "metadata": {
        "id": "uy2nCU9UdO5K",
        "outputId": "52e99f0a-3c19-41a9-cc6d-2edcfbaf4a6b",
        "colab": {
          "base_uri": "https://localhost:8080/"
        }
      },
      "execution_count": null,
      "outputs": [
        {
          "output_type": "stream",
          "name": "stdout",
          "text": [
            "a: [9, 17, 11, 3, 13, 1, 14, 8]\n",
            "b: [17, 5, 8, 18, 3, 12, 7, 15]\n",
            "c: [9, 17, 11, 3, 13, 1, 14, 8, 17, 5, 8, 18, 3, 12, 7, 15]\n",
            "c: [1, 3, 3, 5, 7, 8, 8, 9, 11, 12, 13, 14, 15, 17, 17, 18]\n",
            "La longitud de la lista c es  16\n",
            "d: [1, 5, 7, 9, 11, 12, 13, 14, 15, 18]\n",
            "La longitud de la lista d es 10\n"
          ]
        }
      ]
    },
    {
      "cell_type": "markdown",
      "source": [
        "### Ejemplo de no pertenencia\n",
        "$A = \\{ \\textrm{rojo}, \\textrm{naranja}, \\textrm{amarillo}, \\textrm{verde}, \\textrm{azul}, \\textrm{añil}, \\textrm{violeta}, \\textrm{blanco} \\}$\n",
        "\n",
        "$\\textrm{negro} \\notin A$"
      ],
      "metadata": {
        "id": "RollLUjHUkN1"
      }
    },
    {
      "cell_type": "code",
      "source": [
        "# Dado un conjunto decir si un elemento pertenece o no al conjunto\n",
        "a = {1, 3, 5, 7, 9}   # en Python las variables se usan por costumbre en minúsculas\n",
        "2 in a"
      ],
      "metadata": {
        "id": "bHH2AK_QCHMY",
        "outputId": "44497245-f276-451f-bc91-01c1173e5c64",
        "colab": {
          "base_uri": "https://localhost:8080/"
        }
      },
      "execution_count": null,
      "outputs": [
        {
          "output_type": "execute_result",
          "data": {
            "text/plain": [
              "False"
            ]
          },
          "metadata": {},
          "execution_count": 1
        }
      ]
    },
    {
      "cell_type": "markdown",
      "source": [
        "### Ejemplo de pertenencia\n",
        "$B = \\{ \\textrm{colores del arco iris} \\}$\n",
        "\n",
        "$\\textrm{azul} \\in B$"
      ],
      "metadata": {
        "id": "oENXdQfiMTgm"
      }
    },
    {
      "cell_type": "markdown",
      "source": [
        "##### **Código**\n",
        "* Dado un conjunto comprobar si un elemento pertenece o no\n",
        "* Creamos una función que genera los n primeros elementos de la sucesión de Fibonacci\n",
        "* Decir si un número aleatorio pertenece o no a los 10 primeros elementos de la sucesión de Fibonacci"
      ],
      "metadata": {
        "id": "ao4RSOR8mD6U"
      }
    },
    {
      "cell_type": "code",
      "source": [
        "import random                     # importamos la librería random\n",
        "\n",
        "def fibonacci(n):\n",
        "    n1= 0                  # primer número de la sucesión\n",
        "    n2= 1                  # segundo número de la sucesión\n",
        "    fibo = [n1, n2]        # lista con la sucesión\n",
        "    for i in range(n-2):\n",
        "        sum = n1 + n2      # el siguente número es suma de los dos anteriores\n",
        "        fibo.append(sum)   # añadimos el nuevo elemento al final de la lista\n",
        "        n1 = n2            # ahora el nuevo n1 será el antiguo n2\n",
        "        n2 = sum           # ahora el nuevo n2 será la suma anterior\n",
        "    return fibo            # retornamos la lista de los n elementos\n",
        "\n",
        "f = fibonacci(10)          # invocamos la función y se la asignamosa a una variable\n",
        "print(f)\n",
        "\n",
        "rnd = random.randint(0, max(f))   # randint(a,b) nos da una uniforme de enteros entre a y b\n",
        "print(f'El número {rnd} ¿pertenece a la serie de Fibonacci?: {rnd in f}')\n",
        "\n",
        "if rnd in f:\n",
        "    print(f'El número {rnd} SI pertenece a la serie de Fibonacci.')\n",
        "else:\n",
        "    print(f'El número {rnd} NO pertenece a la serie de Fibonacci.')"
      ],
      "metadata": {
        "id": "jXIt2eIMCjpM",
        "outputId": "989ee446-c115-4061-cca2-328db7eb51d1",
        "colab": {
          "base_uri": "https://localhost:8080/"
        }
      },
      "execution_count": null,
      "outputs": [
        {
          "output_type": "stream",
          "name": "stdout",
          "text": [
            "[0, 1, 1, 2, 3, 5, 8, 13, 21, 34]\n",
            "El número 11 ¿pertenece a la serie de Fibonacci?: False\n",
            "El número 11 NO pertenece a la serie de Fibonacci.\n"
          ]
        }
      ]
    },
    {
      "cell_type": "markdown",
      "source": [
        "### Definición de conjunto universal\n",
        "El [conjunto universal](https://es.wikipedia.org/wiki/Conjunto_universal) $\\, U$ es aquel que comprende todos los objetos del [universo del discurso](https://encyclopaedia.herdereditorial.com/wiki/Universo_del_discurso)."
      ],
      "metadata": {
        "id": "l5gQgoxNN2oO"
      }
    },
    {
      "cell_type": "markdown",
      "source": [
        "### Definición de conjunto vacío\n",
        "El [conjunto vacío](https://es.wikipedia.org/wiki/Conjunto_vac%C3%ADo) $\\varnothing$ es aquel que no contiene elementos."
      ],
      "metadata": {
        "id": "RLBkMnF5OiNd"
      }
    },
    {
      "cell_type": "markdown",
      "source": [
        "El conjunto universal es el complementario del conjunto vacio.  $ U = \\varnothing^C$ "
      ],
      "metadata": {
        "id": "1suPD61OfsQM"
      }
    },
    {
      "cell_type": "markdown",
      "source": [
        "##### **Código**\n",
        "* Sea el conjunto A = {Divisores de 105}\n",
        "* Mostrar todos los elementos de A"
      ],
      "metadata": {
        "id": "CScgdLDym2Te"
      }
    },
    {
      "cell_type": "code",
      "source": [
        "n = 105\n",
        "for i in range(1, n+1):\n",
        "    if n%i == 0:\n",
        "        print(i)"
      ],
      "metadata": {
        "id": "oM1LN-3BgS0g",
        "outputId": "dab68595-188d-42cd-93d4-f81cffcfa6ab",
        "colab": {
          "base_uri": "https://localhost:8080/"
        }
      },
      "execution_count": null,
      "outputs": [
        {
          "output_type": "stream",
          "name": "stdout",
          "text": [
            "1\n",
            "3\n",
            "5\n",
            "7\n",
            "15\n",
            "21\n",
            "35\n",
            "105\n"
          ]
        }
      ]
    },
    {
      "cell_type": "markdown",
      "source": [
        "### Definición de conjuntos iguales\n",
        "Se dice que dos conjuntos $A$ y $B$ son [iguales](https://es.wikipedia.org/wiki/Axioma_de_extensionalidad) ($A = B$) si tienen los mismos elementos:\n",
        "$$\\forall x,\\, x \\in A  \\iff  x \\in B$$"
      ],
      "metadata": {
        "id": "ONSCo_k8I3J8"
      }
    },
    {
      "cell_type": "markdown",
      "source": [
        "### Definición de subconjunto\n",
        "Se dice que $A$ es un [subconjunto](https://es.wikipedia.org/wiki/Subconjunto) de $B$ si todos los elementos de $A$ son también elementos de $B$.  \n",
        "Por ello, esto equivales a decir que $A$ está contenido o incluido en $B$ ($A ⊆ B$)."
      ],
      "metadata": {
        "id": "utfwqdaEKggU"
      }
    },
    {
      "cell_type": "markdown",
      "source": [
        "### Definición de subconjunto propio\n",
        "Se dice que $A$ es un [subconjunto propio](https://es.wikipedia.org/wiki/Subconjunto) de $B$ ($A ⊂ B$) si $A ⊆ B$ y $A ≠ B$."
      ],
      "metadata": {
        "id": "WxI31h3wTj-o"
      }
    },
    {
      "cell_type": "markdown",
      "source": [
        "##### **Código**\n",
        "* A = {Conjunto de todos los números naturales hasta 10, incluido el cero}\n",
        "* B = {Conjunto de todos los números pares hasta 10}   nota: el cero es par\n",
        "* Mostrar el tipo de un conjunto (set)\n",
        "* Decir si un elemento está en el conjunto"
      ],
      "metadata": {
        "id": "FInA10VInFav"
      }
    },
    {
      "cell_type": "code",
      "source": [
        "a = set(range(0,11))\n",
        "b = set(range(0,11,2))\n",
        "print(a)\n",
        "print(b)\n",
        "print(f\"El conjunto a es de tipo {type(a)}\")\n",
        "print(f\"El elemento '0' está en A: {0 in a}\")\n",
        "print(f'El elemento \"7\" no está en B: {7 not in b}')"
      ],
      "metadata": {
        "id": "vt3u4EJsOpsl",
        "outputId": "b8437535-c43a-453e-bbbc-3819135abd37",
        "colab": {
          "base_uri": "https://localhost:8080/"
        }
      },
      "execution_count": null,
      "outputs": [
        {
          "output_type": "stream",
          "name": "stdout",
          "text": [
            "{0, 1, 2, 3, 4, 5, 6, 7, 8, 9, 10}\n",
            "{0, 2, 4, 6, 8, 10}\n",
            "El conjunto a es de tipo <class 'set'>\n",
            "El elemento '0' está en A: True\n",
            "El elemento \"7\" no está en B: True\n"
          ]
        }
      ]
    },
    {
      "cell_type": "markdown",
      "source": [
        "### Propiedades\n",
        "* $A ⊆ A, \\, A ⊄ A$\n",
        "* Si $A ⊆ B$ y $B ⊆ C$, entonces $A ⊆ C$\n",
        "* Si $A ⊆ B$ y $B ⊆ A$, entonces $A=B$\n",
        "* Si $A ⊂ B$, entonces $B ⊊ A$\n",
        "* Si $A ⊆ B$ y $B ⊂ C$, entonces $A⊂C$"
      ],
      "metadata": {
        "id": "tZ2IJlKdV6fn"
      }
    },
    {
      "cell_type": "markdown",
      "source": [
        "##### **Código**\n",
        "* Generar dos listas con 5 elementos cada una\n",
        "* Los elementos son números aleatorios entre 0 y 10, ambos incluidos\n",
        "* Ir generando parejas de listas hasta que en ambas coincidan todos los elementos\n",
        "* Imprimir ambas listas desordenadas y luego la lista ordenada\n",
        "* Decir cuantas parejas de listas han sido necesarias hasta llegar a las que coinciden"
      ],
      "metadata": {
        "id": "XuxrYzornqWv"
      }
    },
    {
      "cell_type": "code",
      "source": [
        "from random import sample, seed\n",
        "seed()\n",
        "contador = 0\n",
        "while True:\n",
        "    a = sample(range(11),5)\n",
        "    b = sample(range(11),5)\n",
        "    contador += 1\n",
        "    if sorted(a) == sorted(b):\n",
        "        print(a, \"→ lista a\")\n",
        "        print(b, \"→ lista b\")\n",
        "        break\n",
        "print(sorted(a), \"→ lista ordenada\")\n",
        "print(f\"Se han generado {contador} parejas.\")"
      ],
      "metadata": {
        "id": "FKSbTRuzZCtu",
        "outputId": "efddc81b-fb3b-45c6-8d61-0b4980ed7f47",
        "colab": {
          "base_uri": "https://localhost:8080/"
        }
      },
      "execution_count": null,
      "outputs": [
        {
          "output_type": "stream",
          "name": "stdout",
          "text": [
            "[2, 3, 6, 5, 10] → lista a\n",
            "[3, 6, 2, 10, 5] → lista b\n",
            "[2, 3, 5, 6, 10] → lista ordenada\n",
            "Se han generado 371 parejas.\n"
          ]
        }
      ]
    }
  ]
}