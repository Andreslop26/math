{
  "nbformat": 4,
  "nbformat_minor": 0,
  "metadata": {
    "colab": {
      "name": "conjuntos.ipynb",
      "provenance": [],
      "authorship_tag": "ABX9TyMW8Ge1njE0WRSavp2EPSr9",
      "include_colab_link": true
    },
    "kernelspec": {
      "name": "python3",
      "display_name": "Python 3"
    },
    "language_info": {
      "name": "python"
    }
  },
  "cells": [
    {
      "cell_type": "markdown",
      "metadata": {
        "id": "view-in-github",
        "colab_type": "text"
      },
      "source": [
        "<a href=\"https://colab.research.google.com/github/financieras/math/blob/main/conjuntos/conjuntos.ipynb\" target=\"_parent\"><img src=\"https://colab.research.google.com/assets/colab-badge.svg\" alt=\"Open In Colab\"/></a>"
      ]
    },
    {
      "cell_type": "markdown",
      "source": [
        "# **Tema 1. Conjuntos y funciones**"
      ],
      "metadata": {
        "id": "L-VhD9x_KTZ3"
      }
    },
    {
      "cell_type": "markdown",
      "source": [
        "# Conjuntos y operaciones entre conjuntos"
      ],
      "metadata": {
        "id": "ES3k0ugiKah-"
      }
    },
    {
      "cell_type": "markdown",
      "source": [
        "## Conjuntos"
      ],
      "metadata": {
        "id": "88ozDK6QSQGR"
      }
    },
    {
      "cell_type": "markdown",
      "source": [
        "#### Definición de conjunto\n",
        "Un [conjunto](https://es.wikipedia.org/wiki/Conjunto) es una colección de objetos que llamamos [elementos](https://es.wikipedia.org/wiki/Elemento_de_un_conjunto) del conjunto.  \n",
        "\n",
        "Los conjuntos pueden expresarse:\n",
        "* <u>por extensión</u> nombrando todos los elementos de este, o\n",
        "* por comprensión, dando una propiedad o característica que solo cumplen aquellos elementos que pertenecen al conjunto.  \n",
        "\n",
        "En cualquier caso, siempre denotando los elementos o propiedad entre llaves."
      ],
      "metadata": {
        "id": "dxs8NJ_ESWBp"
      }
    },
    {
      "cell_type": "markdown",
      "source": [
        "#### Notación\n",
        "* $x \\in A$: $x$ pertenece al conjunto $A$\n",
        "* $x \\notin A$: $x$ no pertenece al conjunto $A$"
      ],
      "metadata": {
        "id": "28HTDW3ZLySJ"
      }
    },
    {
      "cell_type": "code",
      "source": [
        "# Imprimir los números pares comprendidos entre 10 y 20, ambos incluidos\n",
        "\n",
        "# Método 1. Por extensión, creando una lista con todos los números\n",
        "\n",
        "a = [10,12,14,16,18,20]    # creamos la lista a con todos los números\n",
        "\n",
        "print(a)"
      ],
      "metadata": {
        "colab": {
          "base_uri": "https://localhost:8080/",
          "height": 0
        },
        "id": "3qtQyUOaM2mB",
        "outputId": "e237c404-5028-40b5-bba6-2fdbef66a290"
      },
      "execution_count": 18,
      "outputs": [
        {
          "output_type": "stream",
          "name": "stdout",
          "text": [
            "[10, 12, 14, 16, 18, 20]\n"
          ]
        }
      ]
    },
    {
      "cell_type": "code",
      "source": [
        "# Método 2. Añadiendo a la lista solo los números pares del rango requerido\n",
        "\n",
        "a = []                     # inicializamos una lista vacía\n",
        "for i in range(10,21,2):   # la variable auxiliar i toma los valores pares entre 10 y 20\n",
        "    a.append(i)            # añadimos al final de la lista los números que cumplen la condición\n",
        "\n",
        "print(a)"
      ],
      "metadata": {
        "colab": {
          "base_uri": "https://localhost:8080/",
          "height": 0
        },
        "id": "qGk2FtVtRLpS",
        "outputId": "8ce60388-a1e4-4ef9-9d2a-36791fadc3b1"
      },
      "execution_count": 20,
      "outputs": [
        {
          "output_type": "stream",
          "name": "stdout",
          "text": [
            "[10, 12, 14, 16, 18, 20]\n"
          ]
        }
      ]
    },
    {
      "cell_type": "code",
      "source": [
        "# Método 3. Añadiendo a la lista los elementos que cumplen la condición\n",
        "a = []\n",
        "for i in range(10,21):\n",
        "    if i%2==0:              # la condición de número par (resto 0 al dividir entre 2)\n",
        "        a.append(i)\n",
        "\n",
        "print(a)"
      ],
      "metadata": {
        "colab": {
          "base_uri": "https://localhost:8080/",
          "height": 0
        },
        "id": "f9BQDchJRMQH",
        "outputId": "c1aa6da4-22c9-4533-931e-14d37fac3921"
      },
      "execution_count": 17,
      "outputs": [
        {
          "output_type": "stream",
          "name": "stdout",
          "text": [
            "[10, 12, 14, 16, 18, 20]\n"
          ]
        }
      ]
    },
    {
      "cell_type": "markdown",
      "source": [
        "#### Definición de cardinal\n",
        "El [cardinal](https://es.wikipedia.org/wiki/Cardinalidad) de un número finito $A$ es el número de elementos que tiene dicho conjunto.  Este número se denota como $|A|$."
      ],
      "metadata": {
        "id": "M8FCUKXzTce2"
      }
    },
    {
      "cell_type": "markdown",
      "source": [
        "#### Ejemplo de pertenencia\n",
        "$A = \\{ \\textrm{rojo}, \\textrm{naranja}, \\textrm{amarillo}, \\textrm{verde}, \\textrm{azul}, \\textrm{añil}, \\textrm{violeta}, \\textrm{blanco} \\}$\n",
        "\n",
        "$\\textrm{negro} \\notin A$"
      ],
      "metadata": {
        "id": "RollLUjHUkN1"
      }
    }
  ]
}