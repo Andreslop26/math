{
  "nbformat": 4,
  "nbformat_minor": 0,
  "metadata": {
    "colab": {
      "provenance": [],
      "authorship_tag": "ABX9TyNDVwhrviyuuoRlfuGJKn1X",
      "include_colab_link": true
    },
    "kernelspec": {
      "name": "python3",
      "display_name": "Python 3"
    },
    "language_info": {
      "name": "python"
    }
  },
  "cells": [
    {
      "cell_type": "markdown",
      "metadata": {
        "id": "view-in-github",
        "colab_type": "text"
      },
      "source": [
        "<a href=\"https://colab.research.google.com/github/financieras/math/blob/main/python/math090funciones.ipynb\" target=\"_parent\"><img src=\"https://colab.research.google.com/assets/colab-badge.svg\" alt=\"Open In Colab\"/></a>"
      ]
    },
    {
      "cell_type": "markdown",
      "source": [
        "# Funciones\n",
        "Las funciones permiten evitar repetición de código.\n",
        "## Creación de funciones\n",
        "```python\n",
        "def funcion(<parámetros>):\n",
        "    <código>\n",
        "    return <dato>\n",
        "```"
      ],
      "metadata": {
        "id": "rr6sIcsWQJGw"
      }
    },
    {
      "cell_type": "markdown",
      "metadata": {
        "id": "KKgXQbe7Bqx9"
      },
      "source": [
        "## Función sin return"
      ]
    },
    {
      "cell_type": "code",
      "execution_count": null,
      "metadata": {
        "id": "Lr7qHH2rBqx9"
      },
      "outputs": [],
      "source": [
        "def saluda():                                # Declaración de la función  \n",
        "    print(\"Hola\")                            # Cuerpo\n",
        "\n",
        "saluda()                                     # Ejecución de la función"
      ]
    },
    {
      "cell_type": "markdown",
      "source": [
        "#### Otro ejemplo de función sin return"
      ],
      "metadata": {
        "id": "7eT16fCcPyXs"
      }
    },
    {
      "cell_type": "code",
      "source": [
        "print(\"Destino turístico elegido:\\n\")\n",
        "\n",
        "def destino_elegido():\n",
        "    print(\"Ha elegido un destino cultural de ciudad.\")\n",
        "    print(\"Se ha reservado su billete y hotel a Roma.\")\n",
        "    print()\n",
        "\n",
        "destino_elegido()                             # invocamos la función\n",
        "\n",
        "print(\"Puede anular su viaje hasta 15 días antes de la salida del vuelo.\")"
      ],
      "metadata": {
        "id": "p_20oq7qNw7i"
      },
      "execution_count": null,
      "outputs": []
    },
    {
      "cell_type": "markdown",
      "metadata": {
        "id": "DUshZ3HvBqx-"
      },
      "source": [
        "## Función con return"
      ]
    },
    {
      "cell_type": "code",
      "execution_count": null,
      "metadata": {
        "id": "RDHR3d2rBqx_"
      },
      "outputs": [],
      "source": [
        "def gente():\n",
        "    return \"Isabel\"                      # el return es optativo\n",
        "\n",
        "print(\"Buenos días\", gente())            # imprimimos el resultado devuelto por la función"
      ]
    },
    {
      "cell_type": "markdown",
      "metadata": {
        "id": "QkveYFkfBqx_"
      },
      "source": [
        "### Después de ejecutar un return se sale de la función\n",
        "Veamos la misma función que antes pero ahora añadimos una línea de código después del return y dentro de la función.  \n",
        "Después de ejecutarse un return se sale de la función y se devuelve el control al flujo principal *main*."
      ]
    },
    {
      "cell_type": "code",
      "execution_count": null,
      "metadata": {
        "id": "2-bdNJiuBqyA"
      },
      "outputs": [],
      "source": [
        "def gente():\n",
        "    return \"Isabel\"\n",
        "    print(\"Buenas tardes\")                   # esto no se ejecutará nunca\n",
        "    \n",
        "print(\"Buenos días\", gente())"
      ]
    },
    {
      "cell_type": "markdown",
      "metadata": {
        "id": "4Ar-mx0QBqyA"
      },
      "source": [
        "## Asignación a una variable\n",
        "Podemos asignar lo retornado por la función a una variable"
      ]
    },
    {
      "cell_type": "code",
      "execution_count": null,
      "metadata": {
        "id": "LmTVJV6dBqyB"
      },
      "outputs": [],
      "source": [
        "def estacion():\n",
        "    return 'verano'\n",
        "\n",
        "e = estacion()\n",
        "print(e)"
      ]
    },
    {
      "cell_type": "markdown",
      "metadata": {
        "id": "d7tCUt2pBqyD"
      },
      "source": [
        "## Función con un parámetro\n",
        "Función que dobla el valor pasado como parámetro"
      ]
    },
    {
      "cell_type": "code",
      "execution_count": null,
      "metadata": {
        "id": "EjfMAK9DBqyD"
      },
      "outputs": [],
      "source": [
        "def doble(x):                                # Definición de la función. x es el parámetro\n",
        "    return 2*x\n",
        "\n",
        "doble(5)                                     # Invocación. Pasamos un argumento. 5 es el argumento"
      ]
    },
    {
      "cell_type": "markdown",
      "metadata": {
        "id": "VnMPJ4gABqyD"
      },
      "source": [
        "Función a la que pasamos el nombre de una persona.  \n",
        "La función pone el nombre en mayúsculas y nos dice cómo se llama esa persona."
      ]
    },
    {
      "cell_type": "code",
      "execution_count": null,
      "metadata": {
        "id": "AAuJncVPBqyD"
      },
      "outputs": [],
      "source": [
        "def di_nombre(persona):                      # Función con un parámetro\n",
        "    persona = persona.upper()\n",
        "    return \"Se llama \" + persona             # el return es optativo\n",
        "\n",
        "print(di_nombre(\"Luis\"))                     # pasamos un parámetro a la función\n",
        "print(\"¿Quién es? \" + di_nombre(\"Ana\"))      # Llamamos nuevamente a la función\n",
        "print(\"¿Quién es?\", di_nombre(\"María\"))      # Otra llamada a la función"
      ]
    },
    {
      "cell_type": "markdown",
      "metadata": {
        "id": "CC3i3n8yBqyE"
      },
      "source": [
        "## Función con dos parámetros\n",
        "- Al definir la función hablamos de **parámetros**. \n",
        "- Al invocar la función hablamos de **argumentos**."
      ]
    },
    {
      "cell_type": "code",
      "execution_count": null,
      "metadata": {
        "id": "18-i8_UGBqyE"
      },
      "outputs": [],
      "source": [
        "def elevar(x, y):                            # el orden de los parámetros importa\n",
        "    return x**y\n",
        "\n",
        "print(elevar(2, 3))                          # si la función espera dos argumentos se han de enviar dos"
      ]
    },
    {
      "cell_type": "markdown",
      "metadata": {
        "id": "7M7F_-PVBqyE"
      },
      "source": [
        "Los argumentos se asocian unívocamente a los parámetros por el orden.  \n",
        "El orden importa."
      ]
    },
    {
      "cell_type": "code",
      "execution_count": null,
      "metadata": {
        "id": "VDwtLAj-BqyE"
      },
      "outputs": [],
      "source": [
        "def resta(a, b):\n",
        "    return a-b\n",
        "\n",
        "print(resta(5, 3))                           # 2\n",
        "print(resta(3, 5))                           # -2"
      ]
    },
    {
      "cell_type": "markdown",
      "metadata": {
        "id": "cN_ztQa8BqyE"
      },
      "source": [
        "### Asignación de argumentos con variable"
      ]
    },
    {
      "cell_type": "code",
      "execution_count": null,
      "metadata": {
        "id": "pue2a-msBqyF"
      },
      "outputs": [],
      "source": [
        "def resta(a, b):\n",
        "    return a-b\n",
        "\n",
        "resta(b=5, a=3)                              # -2"
      ]
    },
    {
      "cell_type": "markdown",
      "metadata": {
        "id": "9DGWl-g8BqyF"
      },
      "source": [
        "### Operar con lo retornado por la función\n",
        "Como cabía esperar, si asignamos lo retornado por una función a una variable, luego podemos operar con esa variable tranquilamente."
      ]
    },
    {
      "cell_type": "code",
      "execution_count": null,
      "metadata": {
        "id": "kmjw7krqBqyF"
      },
      "outputs": [],
      "source": [
        "def suma(x, y):\n",
        "    return x + y\n",
        "\n",
        "a = 4\n",
        "b = 6\n",
        "c = suma(a, b)\n",
        "\n",
        "print(f\"El resultado de sumar {a} más {b} es {c}.\")\n",
        "print(f\"El valor {a} supone el {a/c*100}% del total.\")  # podemos operar con c, que es el return de la función"
      ]
    },
    {
      "cell_type": "code",
      "source": [
        "def sumar_numeros(a, b):   # a y b son los parámetros\n",
        "    total = a + b\n",
        "    return total\n",
        "\n",
        "sumar_numeros(2, 3)        # invocación de la función.\n",
        "                           # Los números 2 y 3 son los argumentos"
      ],
      "metadata": {
        "id": "o5EAVlKAQNLw"
      },
      "execution_count": null,
      "outputs": []
    },
    {
      "cell_type": "markdown",
      "source": [
        "## Media de dos valores"
      ],
      "metadata": {
        "id": "bqGXaMn6RCj-"
      }
    },
    {
      "cell_type": "code",
      "source": [
        "def calcula_media(x, y):\n",
        "    resultado = (x + y) / 2\n",
        "    return resultado\n",
        "\n",
        "a = 3\n",
        "b = 5\n",
        "media = calcula_media(a, b)\n",
        "print(f\"La media de {a} y {b} es: {media}\")\n",
        "print(\"Programa terminado\")"
      ],
      "metadata": {
        "id": "bIFum7-3RHzg"
      },
      "execution_count": null,
      "outputs": []
    },
    {
      "cell_type": "markdown",
      "source": [
        "## El operador asterisco `*`\n",
        "El operador asterisco `*` nos permite recoger un número desconocido de argumentos."
      ],
      "metadata": {
        "id": "CYmKBLKNRLMR"
      }
    },
    {
      "cell_type": "code",
      "source": [
        "def mimax(*edades):                          #cuando no se sabe el número de argumentos se pone asterisco\n",
        "  print(f\"El mayor en la fiesta tenía {max(edades)} años\")\n",
        "\n",
        "mimax(20, 30, 18, 24, 26)"
      ],
      "metadata": {
        "id": "-hEoh8nfSU_y"
      },
      "execution_count": null,
      "outputs": []
    },
    {
      "cell_type": "markdown",
      "source": [
        "### Media de un número indeterminado de valores"
      ],
      "metadata": {
        "id": "q4sjJL-nSZkq"
      }
    },
    {
      "cell_type": "code",
      "source": [
        "def calcula_media(*args):\n",
        "    total = 0\n",
        "    for i in args:\n",
        "        total += i\n",
        "    resultado = total / len(args)\n",
        "    return resultado\n",
        "\n",
        "a, b, c = 3, 5, 10\n",
        "media = calcula_media(a, b, c)\n",
        "print(f\"La media de {a}, {b} y {c} es: {media}\")\n",
        "print(\"Programa terminado\")"
      ],
      "metadata": {
        "id": "bAjM9ETsRRBQ"
      },
      "execution_count": null,
      "outputs": []
    },
    {
      "cell_type": "markdown",
      "source": [
        "## Valor por defecto de un argumento"
      ],
      "metadata": {
        "id": "oFlibGQXSodk"
      }
    },
    {
      "cell_type": "code",
      "source": [
        "def postre(fruta = \"naranja\"):\n",
        "    return \"De postre mejor una fruta, por ejemplo \" + fruta\n",
        "\n",
        "print(postre('manzana'))\n",
        "print(postre())                #si no se especifica un argumento se toma el valor por defecto"
      ],
      "metadata": {
        "id": "nLn-cTl5SwtP"
      },
      "execution_count": null,
      "outputs": []
    },
    {
      "cell_type": "markdown",
      "source": [
        "\n",
        "## Función con dos return\n",
        "* Cuando una función no lleva return el compilador añade al final un `return True`\n",
        "* Si en una función hay dos returns solo se ejecuta el primero ya que finaliza la función.\n"
      ],
      "metadata": {
        "id": "nIaUIt7ZTHDN"
      }
    },
    {
      "cell_type": "code",
      "source": [
        "import random\n",
        "\n",
        "def destino(numero):\n",
        "    if numero == 1:\n",
        "        return 'Norte'\n",
        "    if numero == 2:\n",
        "        return 'Sur'\n",
        "\n",
        "aleatorio = random.randint(1,2)\n",
        "punto_cardinal = destino(aleatorio)\n",
        "print(\"Este verano viajaré hacia el\", punto_cardinal)"
      ],
      "metadata": {
        "id": "WIDfjsNtTTa8"
      },
      "execution_count": null,
      "outputs": []
    },
    {
      "cell_type": "markdown",
      "source": [
        "\n",
        "## Ejemplo  Piedra, papel, tijeras\n",
        "* Programar la lógica del juego solo para una tirada de los jugadores A y B.\n",
        "* El jugador A elige la opción a, el jugador B elige la opción b."
      ],
      "metadata": {
        "id": "3dHK-hNPUWNp"
      }
    },
    {
      "cell_type": "code",
      "source": [
        "def juega(a, b):\n",
        "    a = a.lower()\n",
        "    b = b.lower()\n",
        "    opciones = ['piedra', 'papel', 'tijeras']\n",
        "    if a not in opciones or b not in opciones:\n",
        "        return f\"Las opciones permitidas son {opciones}\"\n",
        "    if a == b:\n",
        "        return 'Empate'\n",
        "    elif (a=='papel' and b=='piedra') or \\\n",
        "         (a=='piedra' and b=='tijeras') or \\\n",
        "         (a=='tijeras' and b=='papel'):\n",
        "         return \"gana A\"\n",
        "    else:\n",
        "        return \"gana B\"\n",
        "    \n",
        "a = \"Piedra\"\n",
        "b = \"Papel\"\n",
        "juega(a, b)"
      ],
      "metadata": {
        "id": "5yOdHZ8oUecG"
      },
      "execution_count": null,
      "outputs": []
    }
  ]
}