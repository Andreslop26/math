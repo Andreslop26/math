{
  "nbformat": 4,
  "nbformat_minor": 0,
  "metadata": {
    "colab": {
      "provenance": [],
      "authorship_tag": "ABX9TyMNeCH/LWp6w9lCpNI4luyi",
      "include_colab_link": true
    },
    "kernelspec": {
      "name": "python3",
      "display_name": "Python 3"
    },
    "language_info": {
      "name": "python"
    }
  },
  "cells": [
    {
      "cell_type": "markdown",
      "metadata": {
        "id": "view-in-github",
        "colab_type": "text"
      },
      "source": [
        "<a href=\"https://colab.research.google.com/github/financieras/math/blob/main/python/math090funciones.ipynb\" target=\"_parent\"><img src=\"https://colab.research.google.com/assets/colab-badge.svg\" alt=\"Open In Colab\"/></a>"
      ]
    },
    {
      "cell_type": "markdown",
      "source": [
        "# Funciones\n",
        "## Creación de funciones\n",
        "```python\n",
        "def funcion(<parámetros>):\n",
        "    <código>\n",
        "    return <dato>\n",
        "```"
      ],
      "metadata": {
        "id": "rr6sIcsWQJGw"
      }
    },
    {
      "cell_type": "code",
      "source": [
        "def sumar_numeros(a, b):   # a y b son los parámetros\n",
        "    total = a + b\n",
        "    return total\n",
        "\n",
        "sumar_numeros(2, 3)        # invocación de la función.\n",
        "                           # Los números 2 y 3 son los argumentos"
      ],
      "metadata": {
        "id": "o5EAVlKAQNLw"
      },
      "execution_count": null,
      "outputs": []
    }
  ]
}