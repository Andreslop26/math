{
  "nbformat": 4,
  "nbformat_minor": 0,
  "metadata": {
    "colab": {
      "provenance": [],
      "authorship_tag": "ABX9TyMx3jB8eL8h0YriUlbzgbYA",
      "include_colab_link": true
    },
    "kernelspec": {
      "name": "python3",
      "display_name": "Python 3"
    },
    "language_info": {
      "name": "python"
    }
  },
  "cells": [
    {
      "cell_type": "markdown",
      "metadata": {
        "id": "view-in-github",
        "colab_type": "text"
      },
      "source": [
        "<a href=\"https://colab.research.google.com/github/financieras/math/blob/main/python/math080funciones_internas.ipynb\" target=\"_parent\"><img src=\"https://colab.research.google.com/assets/colab-badge.svg\" alt=\"Open In Colab\"/></a>"
      ]
    },
    {
      "cell_type": "markdown",
      "source": [
        "# Funciones internas\n",
        "[Built-in functions](https://docs.python.org/3/library/functions.html)"
      ],
      "metadata": {
        "id": "Xkuhezv0qtuw"
      }
    },
    {
      "cell_type": "markdown",
      "source": [
        "## `len`"
      ],
      "metadata": {
        "id": "ceimhKfTzwll"
      }
    },
    {
      "cell_type": "code",
      "source": [
        "semana = ['lun', 'mar', 'mie', 'jue', 'vie', 'sab', 'dom']\n",
        "print(semana)\n",
        "len(semana)"
      ],
      "metadata": {
        "id": "A5wA9xWlzkbC"
      },
      "execution_count": null,
      "outputs": []
    },
    {
      "cell_type": "code",
      "source": [
        "frase = \"Buenos días\"\n",
        "len(frase)"
      ],
      "metadata": {
        "id": "jn07Vi311xzt"
      },
      "execution_count": null,
      "outputs": []
    },
    {
      "cell_type": "markdown",
      "source": [
        "## `max` y `min`"
      ],
      "metadata": {
        "id": "A-LHj2xa0Rsq"
      }
    },
    {
      "cell_type": "code",
      "source": [
        "lista = [70, 75, 24, 67, 32]\n",
        "print(f'Máximo: {max(lista)}')\n",
        "print(f'Mínimo: {min(lista)}')"
      ],
      "metadata": {
        "id": "6xYJ-erOJWTT"
      },
      "execution_count": null,
      "outputs": []
    },
    {
      "cell_type": "markdown",
      "source": [
        "## `abs`"
      ],
      "metadata": {
        "id": "bIkzZS3zMYDY"
      }
    },
    {
      "cell_type": "code",
      "source": [
        "a, b = -3, 4\n",
        "print(abs(a))\n",
        "print(abs(b))"
      ],
      "metadata": {
        "id": "CfsX6-i5MaKw"
      },
      "execution_count": null,
      "outputs": []
    },
    {
      "cell_type": "markdown",
      "source": [
        "## `sort`\n",
        "Es un **método** que ordena permanentemente una lista."
      ],
      "metadata": {
        "id": "4KamsoTdJktO"
      }
    },
    {
      "cell_type": "code",
      "source": [
        "lista = [70, 75, 24, 67, 32]\n",
        "lista.sort()\n",
        "print(lista)"
      ],
      "metadata": {
        "id": "P1F1l5-sJnG4"
      },
      "execution_count": null,
      "outputs": []
    },
    {
      "cell_type": "markdown",
      "source": [
        "## `sorted`\n",
        "Función que ordena una lista para imprimirla, pero la lista no queda ordenada."
      ],
      "metadata": {
        "id": "DjanPmi_MAd3"
      }
    },
    {
      "cell_type": "code",
      "source": [
        "lista = [70, 75, 24, 67, 32]\n",
        "print(sorted(lista))\n",
        "print(lista)"
      ],
      "metadata": {
        "id": "nneBnjqEMDHm"
      },
      "execution_count": null,
      "outputs": []
    },
    {
      "cell_type": "markdown",
      "source": [
        "## `type`"
      ],
      "metadata": {
        "id": "iYkif6irKIEY"
      }
    },
    {
      "cell_type": "code",
      "source": [
        "semana = ['lun', 'mar', 'mie', 'jue', 'vie', 'sab', 'dom']\n",
        "type(semana)"
      ],
      "metadata": {
        "id": "3-pZ8LjkKLUj"
      },
      "execution_count": null,
      "outputs": []
    },
    {
      "cell_type": "code",
      "source": [
        "capital = {\"Italia\":\"Roma\", \"Francia\":\"París\", \"España\":\"Madrid\"}\n",
        "type(capital)"
      ],
      "metadata": {
        "id": "_RwCgEvMKV0V"
      },
      "execution_count": null,
      "outputs": []
    },
    {
      "cell_type": "markdown",
      "source": [
        "## `round`"
      ],
      "metadata": {
        "id": "iVk8CKGFKrHT"
      }
    },
    {
      "cell_type": "code",
      "source": [
        "pi = 3.141592653589793\n",
        "round(pi, 4)"
      ],
      "metadata": {
        "id": "q5HRedjHKuu_"
      },
      "execution_count": null,
      "outputs": []
    },
    {
      "cell_type": "markdown",
      "source": [
        "## `int` "
      ],
      "metadata": {
        "id": "62hG88cZNX5F"
      }
    },
    {
      "cell_type": "code",
      "source": [
        "int(42.95)"
      ],
      "metadata": {
        "id": "dVjAOD3wNdxK"
      },
      "execution_count": null,
      "outputs": []
    },
    {
      "cell_type": "markdown",
      "source": [
        "## `float`"
      ],
      "metadata": {
        "id": "IzU1efXLY-B9"
      }
    },
    {
      "cell_type": "code",
      "source": [
        "float(\"12.7\")"
      ],
      "metadata": {
        "id": "7UiPUqqxZA2W"
      },
      "execution_count": null,
      "outputs": []
    },
    {
      "cell_type": "markdown",
      "source": [
        "## `str`"
      ],
      "metadata": {
        "id": "uVSmx8AhOxnR"
      }
    },
    {
      "cell_type": "code",
      "source": [
        "x = 15\n",
        "print(x)\n",
        "str(x)"
      ],
      "metadata": {
        "id": "6ewvY-DzO1dl"
      },
      "execution_count": null,
      "outputs": []
    },
    {
      "cell_type": "markdown",
      "source": [
        "## `chr`"
      ],
      "metadata": {
        "id": "NYi7Cx65adKd"
      }
    },
    {
      "cell_type": "code",
      "source": [
        "chr(65)             # el código ASCII número 65 es la A mayúscula"
      ],
      "metadata": {
        "id": "ah8TvCBMahWG"
      },
      "execution_count": null,
      "outputs": []
    },
    {
      "cell_type": "markdown",
      "source": [
        "## `ord`\n",
        "Es la función inversa a `chr`"
      ],
      "metadata": {
        "id": "cndF_1xYbEMN"
      }
    },
    {
      "cell_type": "code",
      "source": [
        "ord(\"A\")"
      ],
      "metadata": {
        "id": "3MnjYPa7a-r_"
      },
      "execution_count": null,
      "outputs": []
    },
    {
      "cell_type": "markdown",
      "source": [
        "## `pow`"
      ],
      "metadata": {
        "id": "n5abNORQaSOM"
      }
    },
    {
      "cell_type": "code",
      "source": [
        "pow(2, 3)"
      ],
      "metadata": {
        "id": "2jcAq_vBaVt_"
      },
      "execution_count": null,
      "outputs": []
    },
    {
      "cell_type": "markdown",
      "source": [
        "## `sum`"
      ],
      "metadata": {
        "id": "PoisLy3vPFww"
      }
    },
    {
      "cell_type": "code",
      "source": [
        "lista = list(range(11))\n",
        "print(lista)\n",
        "print(sum(lista))"
      ],
      "metadata": {
        "id": "Wgx7p70aPJwY"
      },
      "execution_count": null,
      "outputs": []
    }
  ]
}