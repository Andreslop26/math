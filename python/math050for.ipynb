{
  "nbformat": 4,
  "nbformat_minor": 0,
  "metadata": {
    "colab": {
      "provenance": [],
      "authorship_tag": "ABX9TyOW1BVB/aUUZ5kSE+yH9fgq",
      "include_colab_link": true
    },
    "kernelspec": {
      "name": "python3",
      "display_name": "Python 3"
    },
    "language_info": {
      "name": "python"
    }
  },
  "cells": [
    {
      "cell_type": "markdown",
      "metadata": {
        "id": "view-in-github",
        "colab_type": "text"
      },
      "source": [
        "<a href=\"https://colab.research.google.com/github/financieras/math/blob/main/python/math050for.ipynb\" target=\"_parent\"><img src=\"https://colab.research.google.com/assets/colab-badge.svg\" alt=\"Open In Colab\"/></a>"
      ]
    },
    {
      "cell_type": "markdown",
      "source": [
        "# Bucle `For`\n",
        "* Un bucle o **loop** es un proceso que se repite un cierto número de veces.\n",
        "* Es un proceso repetitivo, reiterativo\n",
        "* El bucle For se repite un número de veces conocido, un número de veces concreto.\n",
        "\n",
        "```python\n",
        "for <variable> in <lista>:\n",
        "    <código>\n",
        "```\n"
      ],
      "metadata": {
        "id": "5G7bh-W8_Dwr"
      }
    },
    {
      "cell_type": "code",
      "source": [
        "ciudades =[\"Roma\", \"Londres\", \"París\", \"Madrid\", \"Berlín\"]\n",
        "\n",
        "for ciudad in ciudades:\n",
        "    print(ciudad)"
      ],
      "metadata": {
        "id": "QkVdMGiI_9na"
      },
      "execution_count": null,
      "outputs": []
    },
    {
      "cell_type": "code",
      "source": [
        "for ciudad in ciudades:\n",
        "    if ciudad == \"Madrid\" or ciudad == \"Roma\":\n",
        "        print(ciudad)"
      ],
      "metadata": {
        "id": "i9hj2xZhASJu"
      },
      "execution_count": null,
      "outputs": []
    },
    {
      "cell_type": "markdown",
      "source": [
        "## `For` con `range`"
      ],
      "metadata": {
        "id": "a2UfeIXtA8ff"
      }
    },
    {
      "cell_type": "code",
      "source": [
        "# range crea un iterable de números enteros\n",
        "range(1,10)"
      ],
      "metadata": {
        "id": "X7wK2vf3BHVz"
      },
      "execution_count": null,
      "outputs": []
    },
    {
      "cell_type": "code",
      "source": [
        "# convertimos el rango en una lista\n",
        "list(range(1,10))   # el 10 no se incluye"
      ],
      "metadata": {
        "id": "clesPHuhBU6s"
      },
      "execution_count": null,
      "outputs": []
    },
    {
      "cell_type": "code",
      "source": [
        "list(range(5))   # lista desde el 0 hasta el 4"
      ],
      "metadata": {
        "id": "m0SFZNm9BiPz"
      },
      "execution_count": null,
      "outputs": []
    },
    {
      "cell_type": "code",
      "source": [
        "for i in range(5):   # la variable i es una variable instrumental, hace referencia al index\n",
        "    print(i)"
      ],
      "metadata": {
        "id": "nb-uko5ABtN3"
      },
      "execution_count": null,
      "outputs": []
    },
    {
      "cell_type": "code",
      "source": [
        "ciudades =[\"Roma\", \"Londres\", \"París\", \"Madrid\", \"Berlín\"]\n",
        "\n",
        "for i in range(len(ciudades)):\n",
        "    print(ciudades[i])"
      ],
      "metadata": {
        "id": "V7Ux4A_ECBeT"
      },
      "execution_count": null,
      "outputs": []
    },
    {
      "cell_type": "markdown",
      "source": [
        "## `For` ... `enumerate`"
      ],
      "metadata": {
        "id": "4J_SHPNfCRtj"
      }
    },
    {
      "cell_type": "code",
      "source": [
        "for i, v in enumerate(ciudades):   # i hace referencia al index y v hace referencia al valor\n",
        "    print(f'{i+1} → {v}')\n"
      ],
      "metadata": {
        "id": "hpyY_Wuxjqh8"
      },
      "execution_count": null,
      "outputs": []
    },
    {
      "cell_type": "markdown",
      "source": [
        "## Bucle `For` en un diccionario"
      ],
      "metadata": {
        "id": "0yB8h9NkkztK"
      }
    },
    {
      "cell_type": "code",
      "source": [
        "paco = {'nombre':'Francisco', 'edad':25, 'asegurado':True}\n",
        "print(paco)\n",
        "paco.items()    # muestra los items del diccionario que son las parejas clave, valor"
      ],
      "metadata": {
        "id": "RTthhRwuoUbj"
      },
      "execution_count": null,
      "outputs": []
    },
    {
      "cell_type": "code",
      "source": [
        "for k,v in paco.items():   # k es key, v es value\n",
        "    print(f'{k} → {v}')"
      ],
      "metadata": {
        "id": "j-C-cO5Qo3eO"
      },
      "execution_count": null,
      "outputs": []
    },
    {
      "cell_type": "markdown",
      "source": [
        "## Bucles `for` anidados"
      ],
      "metadata": {
        "id": "V_F9CWxhaeuc"
      }
    },
    {
      "cell_type": "markdown",
      "source": [
        "### Tabla de multiplicar"
      ],
      "metadata": {
        "id": "Vecp3mW5bXVp"
      }
    },
    {
      "cell_type": "code",
      "source": [
        "for i in range(1, 4):\n",
        "    for j in range(1, 11):\n",
        "        print(f'{i} x {j} = {i*j}')\n",
        "    print()"
      ],
      "metadata": {
        "id": "ZdBXEmDba0BY"
      },
      "execution_count": null,
      "outputs": []
    },
    {
      "cell_type": "markdown",
      "source": [
        "### Valores que suman lo mismo"
      ],
      "metadata": {
        "id": "NLdz3wxNcBA6"
      }
    },
    {
      "cell_type": "code",
      "source": [
        "a = [1,3,5,7,9]\n",
        "b = [2,4,6,8]\n",
        "\n",
        "for i in a:\n",
        "    for j in b:\n",
        "        if i+j==11:\n",
        "            print(f'{i} + {j} = 11')"
      ],
      "metadata": {
        "id": "icBE92tHcKJd"
      },
      "execution_count": null,
      "outputs": []
    }
  ]
}