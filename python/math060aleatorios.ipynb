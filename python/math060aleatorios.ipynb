{
  "nbformat": 4,
  "nbformat_minor": 0,
  "metadata": {
    "colab": {
      "provenance": [],
      "authorship_tag": "ABX9TyM7MgDLV1bwOfuu6kP4ZN/V",
      "include_colab_link": true
    },
    "kernelspec": {
      "name": "python3",
      "display_name": "Python 3"
    },
    "language_info": {
      "name": "python"
    }
  },
  "cells": [
    {
      "cell_type": "markdown",
      "metadata": {
        "id": "view-in-github",
        "colab_type": "text"
      },
      "source": [
        "<a href=\"https://colab.research.google.com/github/financieras/math/blob/main/python/math060aleatorios.ipynb\" target=\"_parent\"><img src=\"https://colab.research.google.com/assets/colab-badge.svg\" alt=\"Open In Colab\"/></a>"
      ]
    },
    {
      "cell_type": "markdown",
      "source": [
        "# Generación de números aleatorios\n",
        "* Utilizamos la librería `random`.\n",
        "* Cuando importamos una librería se usa `ìmport`\n",
        "* Es una buena práctica importar al inicio todas las librerías que se usen a lo largo del programa"
      ],
      "metadata": {
        "id": "jTThBDZ9d1Di"
      }
    },
    {
      "cell_type": "code",
      "source": [
        "import random\n",
        "random.random()"
      ],
      "metadata": {
        "id": "eNd6_xKpd7sw"
      },
      "execution_count": null,
      "outputs": []
    },
    {
      "cell_type": "code",
      "source": [
        "random.randint(1,5)   # incluidos ambos extremos"
      ],
      "metadata": {
        "id": "mZwSKC9WeCjo"
      },
      "execution_count": null,
      "outputs": []
    },
    {
      "cell_type": "markdown",
      "source": [
        "## Lista de números aleatorios sin repetición"
      ],
      "metadata": {
        "id": "GUh7lIxTgDEC"
      }
    },
    {
      "cell_type": "code",
      "source": [
        "random.sample([1,2,3,4,5,6], 3)   # elige 3 elementos de la lista, sin repetición"
      ],
      "metadata": {
        "id": "l9NouIwHeUXo"
      },
      "execution_count": null,
      "outputs": []
    },
    {
      "cell_type": "code",
      "source": [
        "random.sample(range(1,7), 3)   # hace lo mismo que la expresión anterior"
      ],
      "metadata": {
        "id": "ikl30AiVfC40"
      },
      "execution_count": null,
      "outputs": []
    },
    {
      "cell_type": "markdown",
      "source": [
        "## Lista de números aleatorios con posible repetición"
      ],
      "metadata": {
        "id": "YLtuzWrcf793"
      }
    },
    {
      "cell_type": "code",
      "source": [
        "lista = []\n",
        "\n",
        "for i in range(3):\n",
        "    n = random.randint(1,6)\n",
        "    lista.append(n)\n",
        "\n",
        "lista"
      ],
      "metadata": {
        "id": "M8Y_ZFw5fgRj"
      },
      "execution_count": null,
      "outputs": []
    },
    {
      "cell_type": "markdown",
      "metadata": {
        "id": "MgYizeHXBw4q"
      },
      "source": [
        "## Elegir aleatoriamente de una lista\n",
        "Dada una lista podemos elegir uno de sus elementos de forma aleatoria usando la función ```choice```."
      ]
    },
    {
      "cell_type": "code",
      "metadata": {
        "id": "Q0AfMQ21B8f-"
      },
      "source": [
        "from random import choice   # de la librería random importamos únicamente la función choice\n",
        "\n",
        "lista = [\"América\", \"Europa\", \"África\", \"Oceanía\", \"Asia\"]\n",
        "print(\"Vamos a elegir de forma aleatoria un continente donde vivir.\")\n",
        "elegido = choice(lista)\n",
        "print(\"Me gustaría vivir en\", elegido)"
      ],
      "execution_count": null,
      "outputs": []
    },
    {
      "cell_type": "markdown",
      "source": [
        "## Inicializar la semilla\n",
        "* Los números aleatorios en programación son en realidad pseudoaleatorios\n",
        "* `seed()` inicializa la semilla\n",
        "* Inicializa el generador de números aleatorios con la hora actual del sistema"
      ],
      "metadata": {
        "id": "aERIB0-v1dIc"
      }
    },
    {
      "cell_type": "code",
      "source": [
        "from random import randint, seed\n",
        "seed()\n",
        "print(\"Lanzando un dado obtenemos:\", randint(1,6))"
      ],
      "metadata": {
        "id": "cjrIb-x_1kCz"
      },
      "execution_count": null,
      "outputs": []
    }
  ]
}