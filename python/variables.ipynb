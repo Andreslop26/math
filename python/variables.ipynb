{
  "nbformat": 4,
  "nbformat_minor": 0,
  "metadata": {
    "colab": {
      "provenance": [],
      "authorship_tag": "ABX9TyNIGQokGLrEu8FkF3PZ431Y",
      "include_colab_link": true
    },
    "kernelspec": {
      "name": "python3",
      "display_name": "Python 3"
    },
    "language_info": {
      "name": "python"
    }
  },
  "cells": [
    {
      "cell_type": "markdown",
      "metadata": {
        "id": "view-in-github",
        "colab_type": "text"
      },
      "source": [
        "<a href=\"https://colab.research.google.com/github/financieras/math/blob/main/python/variables.ipynb\" target=\"_parent\"><img src=\"https://colab.research.google.com/assets/colab-badge.svg\" alt=\"Open In Colab\"/></a>"
      ]
    },
    {
      "cell_type": "markdown",
      "source": [
        "# Hola mundo\n",
        "## Comenzando con Python\n",
        "Vamos a progrmar el típico \"Hola mundo\" para comenzar con este lenguaje de programación."
      ],
      "metadata": {
        "id": "K0iOb3OrGRQs"
      }
    },
    {
      "cell_type": "code",
      "source": [
        "print(\"Hola mundo\")"
      ],
      "metadata": {
        "colab": {
          "base_uri": "https://localhost:8080/"
        },
        "id": "K-0UsCd_G1oz",
        "outputId": "2510d357-4894-41a2-a73e-7c7d427d25ec"
      },
      "execution_count": 1,
      "outputs": [
        {
          "output_type": "stream",
          "name": "stdout",
          "text": [
            "Hola mundo\n"
          ]
        }
      ]
    },
    {
      "cell_type": "markdown",
      "source": [
        "## Operaciones aritméticas básicas\n",
        "* Sumar\n",
        "* Restar\n",
        "* Multiplicar\n",
        "* Dividir\n",
        " - División\n",
        " - División *entera*\n",
        "* Resto (**módulo**)\n"
      ],
      "metadata": {
        "id": "5jX2FBtMHIr5"
      }
    },
    {
      "cell_type": "code",
      "source": [
        "# Operaciones básicas\n",
        "print(2+3)\n",
        "print(5-7)\n",
        "print(3*5)\n",
        "print(12/4)\n",
        "print(19/5)\n",
        "print(19//5)   # División entera\n",
        "print(19%5)    # Resto o módulo"
      ],
      "metadata": {
        "colab": {
          "base_uri": "https://localhost:8080/"
        },
        "id": "uEYG5KIkIRJR",
        "outputId": "891e8d7b-7f01-498a-feaf-06db6ce699d1"
      },
      "execution_count": 11,
      "outputs": [
        {
          "output_type": "stream",
          "name": "stdout",
          "text": [
            "5\n",
            "-2\n",
            "15\n",
            "3.0\n",
            "3.8\n",
            "3\n",
            "4\n"
          ]
        }
      ]
    },
    {
      "cell_type": "markdown",
      "source": [
        "## Variables\n",
        "Podemos asignar valores a variable."
      ],
      "metadata": {
        "id": "5FzHyziUJyHl"
      }
    },
    {
      "cell_type": "code",
      "source": [
        "x = 5\n",
        "y = 4\n",
        "z = x / y\n",
        "print(z)"
      ],
      "metadata": {
        "colab": {
          "base_uri": "https://localhost:8080/"
        },
        "id": "L38uUzXDJ8cE",
        "outputId": "2c9acd34-f811-4e76-bad1-adc12bdf6bcf"
      },
      "execution_count": 15,
      "outputs": [
        {
          "output_type": "stream",
          "name": "stdout",
          "text": [
            "1.25\n"
          ]
        }
      ]
    },
    {
      "cell_type": "code",
      "source": [
        "# Variable de tipo alfanumérico (string)\n",
        "nombre = \"Ana\"\n",
        "apellido = \"Ruiz\"\n",
        "print(nombre, apellido)"
      ],
      "metadata": {
        "colab": {
          "base_uri": "https://localhost:8080/"
        },
        "id": "ThoSICyXK4eZ",
        "outputId": "592e6c26-3f40-4bad-b73f-df9bdbc3b196"
      },
      "execution_count": 16,
      "outputs": [
        {
          "output_type": "stream",
          "name": "stdout",
          "text": [
            "Ana Ruiz\n"
          ]
        }
      ]
    },
    {
      "cell_type": "code",
      "source": [
        "# Concatenar strings\n",
        "nombre = \"Ana\"\n",
        "apellido = \"Ruiz\"\n",
        "persona = nombre + \" \" +apellido\n",
        "print(persona)"
      ],
      "metadata": {
        "colab": {
          "base_uri": "https://localhost:8080/"
        },
        "id": "Sjrx29s2LWzZ",
        "outputId": "2b4f0129-0172-4274-aef0-0f8e705673a0"
      },
      "execution_count": 19,
      "outputs": [
        {
          "output_type": "stream",
          "name": "stdout",
          "text": [
            "Ana Ruiz\n"
          ]
        }
      ]
    }
  ]
}