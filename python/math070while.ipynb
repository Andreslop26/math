{
  "nbformat": 4,
  "nbformat_minor": 0,
  "metadata": {
    "colab": {
      "provenance": [],
      "authorship_tag": "ABX9TyP7as7ghOzOfblY91unXwYO",
      "include_colab_link": true
    },
    "kernelspec": {
      "name": "python3",
      "display_name": "Python 3"
    },
    "language_info": {
      "name": "python"
    }
  },
  "cells": [
    {
      "cell_type": "markdown",
      "metadata": {
        "id": "view-in-github",
        "colab_type": "text"
      },
      "source": [
        "<a href=\"https://colab.research.google.com/github/financieras/math/blob/main/python/math070while.ipynb\" target=\"_parent\"><img src=\"https://colab.research.google.com/assets/colab-badge.svg\" alt=\"Open In Colab\"/></a>"
      ]
    },
    {
      "cell_type": "markdown",
      "source": [
        "# Bucle `while`\n",
        "```python\n",
        "while <condición>:         # mientras\n",
        "    <código>\n",
        "```"
      ],
      "metadata": {
        "id": "pMWIBYNmp6uJ"
      }
    },
    {
      "cell_type": "code",
      "source": [
        "x = 1\n",
        "\n",
        "while x < 5:\n",
        "    print(x)\n",
        "    x += 1       # equivale a   n = n+1      es un CONTADOR"
      ],
      "metadata": {
        "id": "bvjEXutRYGQI"
      },
      "execution_count": null,
      "outputs": []
    },
    {
      "cell_type": "code",
      "source": [
        "# imprimimos solo los pares entre 10 y 2\n",
        "\n",
        "n = 10\n",
        "\n",
        "while n > 0:\n",
        "    if n%2==0:      # también podríamos poner not(n%2)\n",
        "        print(n)\n",
        "    n -= 1          # equivale a   n = n-1\n",
        "\n",
        "print(\"Fin del programa.\")"
      ],
      "metadata": {
        "id": "FvNTDuEWbuTj"
      },
      "execution_count": null,
      "outputs": []
    },
    {
      "cell_type": "markdown",
      "source": [
        "## ¿Seguir jugando?"
      ],
      "metadata": {
        "id": "SMJvM6jycrEl"
      }
    },
    {
      "cell_type": "code",
      "source": [
        "jugar = \"s\"             # inicilizamos la variable\n",
        "\n",
        "while jugar == \"s\":\n",
        "    print(\"Estamos jugando una partida.\")\n",
        "    jugar = input(\"¿Quiere seguir jugando (s/n)?: \")\n",
        "\n",
        "print(\"Fin del juego.\")"
      ],
      "metadata": {
        "id": "uDOrcumuczFI"
      },
      "execution_count": null,
      "outputs": []
    },
    {
      "cell_type": "markdown",
      "source": [
        "## Adivina un número del 1 al 5\n",
        "* Generar un número aleatorio entero entre 1 y 5, este será el númeo secreto que se tenga que adivinar.\n",
        "* Pedir al usuario números continuamente, del 1 al 5, hasta que se adivine el número secreto.\n",
        "* Finalmente decir en cuántas tiradas se ha adivinado y mostrar el número secreto.\n"
      ],
      "metadata": {
        "id": "rARh1CofnP6P"
      }
    },
    {
      "cell_type": "code",
      "source": [
        "import random\n",
        "\n",
        "print(\"=== Adivine un número secreto entre 1 y 5 ===\")\n",
        "\n",
        "secreto = random.randint(1,5)       # genera un número aleatorio entero entre 1 y 5, ambos incluidos\n",
        "\n",
        "n = int(input(\"Introduzca un número entre 1 y 5: \"))\n",
        "\n",
        "tiradas = 1                         # inicializamos el contador de tiradas\n",
        "\n",
        "while n != secreto:\n",
        "    n = int(input(\"No es correcto, por favor, diga otro número: \"))\n",
        "    tiradas += 1                      # contador\n",
        "else:\n",
        "    print(\"Felicidades\")\n",
        "    print(f\"Ha adivinado el número secreto {secreto}, en {tiradas} tiradas.\")"
      ],
      "metadata": {
        "id": "pjz6Goo6nl86"
      },
      "execution_count": null,
      "outputs": []
    },
    {
      "cell_type": "markdown",
      "source": [
        "## `while True`"
      ],
      "metadata": {
        "id": "bWYMQ98cmBfI"
      }
    },
    {
      "cell_type": "code",
      "source": [
        "import random\n",
        "\n",
        "while True:\n",
        "    n = random.randint(1,5)\n",
        "    print(n)\n",
        "    if n == 5:\n",
        "        print(\"El último número que se imprime siempre es un 5.\")\n",
        "        break\n",
        "\n",
        "print(\"\\nFin del programa\")   # \\n crea un retorno de carro o cambio de línea al imprimir\n"
      ],
      "metadata": {
        "id": "47PBF0mNmL58"
      },
      "execution_count": null,
      "outputs": []
    },
    {
      "cell_type": "markdown",
      "source": [
        "## Banderas\n",
        "* Generar números aleatorios entre 1 y 10, e imprimirlos\n",
        "* Ir sumando los números aleatorios generados\n",
        "* Al llegar a 100 o más imprimir el acumulado y detener el proceso."
      ],
      "metadata": {
        "id": "1t9Quxwawjq6"
      }
    },
    {
      "cell_type": "code",
      "source": [
        "from random import randint\n",
        "\n",
        "agregar = True   # bandera\n",
        "total = 0        # inicializamos la variable que acumula\n",
        "\n",
        "while agregar:\n",
        "    n = randint(1, 10)\n",
        "    print(n)\n",
        "    total += n   # acumulador\n",
        "    if total >= 100:\n",
        "        print(\"Total:\", total)\n",
        "        agregar = False   # cambiamos al bandera para que ahora sea False"
      ],
      "metadata": {
        "id": "9jvM_8Ajwubb"
      },
      "execution_count": null,
      "outputs": []
    }
  ]
}