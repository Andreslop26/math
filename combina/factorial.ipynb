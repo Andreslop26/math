{
  "nbformat": 4,
  "nbformat_minor": 0,
  "metadata": {
    "colab": {
      "name": "factorial.ipynb",
      "provenance": [],
      "authorship_tag": "ABX9TyOLysTFI8pWbbmZgLPPY3j5",
      "include_colab_link": true
    },
    "kernelspec": {
      "name": "python3",
      "display_name": "Python 3"
    },
    "language_info": {
      "name": "python"
    }
  },
  "cells": [
    {
      "cell_type": "markdown",
      "metadata": {
        "id": "view-in-github",
        "colab_type": "text"
      },
      "source": [
        "<a href=\"https://colab.research.google.com/github/financieras/math/blob/main/combina/factorial.ipynb\" target=\"_parent\"><img src=\"https://colab.research.google.com/assets/colab-badge.svg\" alt=\"Open In Colab\"/></a>"
      ]
    },
    {
      "cell_type": "markdown",
      "source": [
        "# Factorial\n",
        "\n",
        "Dado un número entero $(n \\geq 0)$ podemos calcular su factorial multiplicando por él mismo y los anteriores hasta llegar a 1.\n",
        "\n",
        "$$n! \\  = \\  n \\cdot (n-1) \\cdot (n-2) \\cdot (n-3) \\  \\cdots \\  3 \\cdot 2 \\cdot 1$$\n",
        "\n",
        "**Ejemplo**  \n",
        "$$5! \\  = \\  5 \\cdot 4 \\cdot 3 \\cdot 2 \\cdot 1 = 120$$\n",
        "\n",
        "Por definición el factorial de cero es 1.\n",
        "\n",
        "$$0! = 1$$"
      ],
      "metadata": {
        "id": "cAEC3ZLD7sxL"
      }
    },
    {
      "cell_type": "markdown",
      "source": [
        "## Método 1\n",
        "Utilizamos una librería de Python para calcular el factorial de un número."
      ],
      "metadata": {
        "id": "4jXs8qRgEW2l"
      }
    },
    {
      "cell_type": "code",
      "source": [
        "import math\n",
        "math.factorial(5)"
      ],
      "metadata": {
        "colab": {
          "base_uri": "https://localhost:8080/"
        },
        "id": "mLOTkAMpE9_A",
        "outputId": "2a35f7d0-8038-4da9-c67b-59aaf0d61c77"
      },
      "execution_count": 1,
      "outputs": [
        {
          "output_type": "execute_result",
          "data": {
            "text/plain": [
              "120"
            ]
          },
          "metadata": {},
          "execution_count": 1
        }
      ]
    },
    {
      "cell_type": "code",
      "source": [
        "# Vamos a calcular el factorial de una serie de números\n",
        "\n",
        "from math import factorial\n",
        "\n",
        "for i in range(101):\n",
        "    print(f\"Para n={i:3d} el factorial es: {factorial(i):158d}\")"
      ],
      "metadata": {
        "colab": {
          "base_uri": "https://localhost:8080/"
        },
        "id": "NuikwnbzFJ7Y",
        "outputId": "3c9396ce-2bb3-480b-fd78-a2c7b029bcc6"
      },
      "execution_count": 19,
      "outputs": [
        {
          "output_type": "stream",
          "name": "stdout",
          "text": [
            "Para n=  0 el factorial es:                                                                                                                                                              1\n",
            "Para n=  1 el factorial es:                                                                                                                                                              1\n",
            "Para n=  2 el factorial es:                                                                                                                                                              2\n",
            "Para n=  3 el factorial es:                                                                                                                                                              6\n",
            "Para n=  4 el factorial es:                                                                                                                                                             24\n",
            "Para n=  5 el factorial es:                                                                                                                                                            120\n",
            "Para n=  6 el factorial es:                                                                                                                                                            720\n",
            "Para n=  7 el factorial es:                                                                                                                                                           5040\n",
            "Para n=  8 el factorial es:                                                                                                                                                          40320\n",
            "Para n=  9 el factorial es:                                                                                                                                                         362880\n",
            "Para n= 10 el factorial es:                                                                                                                                                        3628800\n",
            "Para n= 11 el factorial es:                                                                                                                                                       39916800\n",
            "Para n= 12 el factorial es:                                                                                                                                                      479001600\n",
            "Para n= 13 el factorial es:                                                                                                                                                     6227020800\n",
            "Para n= 14 el factorial es:                                                                                                                                                    87178291200\n",
            "Para n= 15 el factorial es:                                                                                                                                                  1307674368000\n",
            "Para n= 16 el factorial es:                                                                                                                                                 20922789888000\n",
            "Para n= 17 el factorial es:                                                                                                                                                355687428096000\n",
            "Para n= 18 el factorial es:                                                                                                                                               6402373705728000\n",
            "Para n= 19 el factorial es:                                                                                                                                             121645100408832000\n",
            "Para n= 20 el factorial es:                                                                                                                                            2432902008176640000\n",
            "Para n= 21 el factorial es:                                                                                                                                           51090942171709440000\n",
            "Para n= 22 el factorial es:                                                                                                                                         1124000727777607680000\n",
            "Para n= 23 el factorial es:                                                                                                                                        25852016738884976640000\n",
            "Para n= 24 el factorial es:                                                                                                                                       620448401733239439360000\n",
            "Para n= 25 el factorial es:                                                                                                                                     15511210043330985984000000\n",
            "Para n= 26 el factorial es:                                                                                                                                    403291461126605635584000000\n",
            "Para n= 27 el factorial es:                                                                                                                                  10888869450418352160768000000\n",
            "Para n= 28 el factorial es:                                                                                                                                 304888344611713860501504000000\n",
            "Para n= 29 el factorial es:                                                                                                                                8841761993739701954543616000000\n",
            "Para n= 30 el factorial es:                                                                                                                              265252859812191058636308480000000\n",
            "Para n= 31 el factorial es:                                                                                                                             8222838654177922817725562880000000\n",
            "Para n= 32 el factorial es:                                                                                                                           263130836933693530167218012160000000\n",
            "Para n= 33 el factorial es:                                                                                                                          8683317618811886495518194401280000000\n",
            "Para n= 34 el factorial es:                                                                                                                        295232799039604140847618609643520000000\n",
            "Para n= 35 el factorial es:                                                                                                                      10333147966386144929666651337523200000000\n",
            "Para n= 36 el factorial es:                                                                                                                     371993326789901217467999448150835200000000\n",
            "Para n= 37 el factorial es:                                                                                                                   13763753091226345046315979581580902400000000\n",
            "Para n= 38 el factorial es:                                                                                                                  523022617466601111760007224100074291200000000\n",
            "Para n= 39 el factorial es:                                                                                                                20397882081197443358640281739902897356800000000\n",
            "Para n= 40 el factorial es:                                                                                                               815915283247897734345611269596115894272000000000\n",
            "Para n= 41 el factorial es:                                                                                                             33452526613163807108170062053440751665152000000000\n",
            "Para n= 42 el factorial es:                                                                                                           1405006117752879898543142606244511569936384000000000\n",
            "Para n= 43 el factorial es:                                                                                                          60415263063373835637355132068513997507264512000000000\n",
            "Para n= 44 el factorial es:                                                                                                        2658271574788448768043625811014615890319638528000000000\n",
            "Para n= 45 el factorial es:                                                                                                      119622220865480194561963161495657715064383733760000000000\n",
            "Para n= 46 el factorial es:                                                                                                     5502622159812088949850305428800254892961651752960000000000\n",
            "Para n= 47 el factorial es:                                                                                                   258623241511168180642964355153611979969197632389120000000000\n",
            "Para n= 48 el factorial es:                                                                                                 12413915592536072670862289047373375038521486354677760000000000\n",
            "Para n= 49 el factorial es:                                                                                                608281864034267560872252163321295376887552831379210240000000000\n",
            "Para n= 50 el factorial es:                                                                                              30414093201713378043612608166064768844377641568960512000000000000\n",
            "Para n= 51 el factorial es:                                                                                            1551118753287382280224243016469303211063259720016986112000000000000\n",
            "Para n= 52 el factorial es:                                                                                           80658175170943878571660636856403766975289505440883277824000000000000\n",
            "Para n= 53 el factorial es:                                                                                         4274883284060025564298013753389399649690343788366813724672000000000000\n",
            "Para n= 54 el factorial es:                                                                                       230843697339241380472092742683027581083278564571807941132288000000000000\n",
            "Para n= 55 el factorial es:                                                                                     12696403353658275925965100847566516959580321051449436762275840000000000000\n",
            "Para n= 56 el factorial es:                                                                                    710998587804863451854045647463724949736497978881168458687447040000000000000\n",
            "Para n= 57 el factorial es:                                                                                  40526919504877216755680601905432322134980384796226602145184481280000000000000\n",
            "Para n= 58 el factorial es:                                                                                2350561331282878571829474910515074683828862318181142924420699914240000000000000\n",
            "Para n= 59 el factorial es:                                                                              138683118545689835737939019720389406345902876772687432540821294940160000000000000\n",
            "Para n= 60 el factorial es:                                                                             8320987112741390144276341183223364380754172606361245952449277696409600000000000000\n",
            "Para n= 61 el factorial es:                                                                           507580213877224798800856812176625227226004528988036003099405939480985600000000000000\n",
            "Para n= 62 el factorial es:                                                                         31469973260387937525653122354950764088012280797258232192163168247821107200000000000000\n",
            "Para n= 63 el factorial es:                                                                       1982608315404440064116146708361898137544773690227268628106279599612729753600000000000000\n",
            "Para n= 64 el factorial es:                                                                     126886932185884164103433389335161480802865516174545192198801894375214704230400000000000000\n",
            "Para n= 65 el factorial es:                                                                    8247650592082470666723170306785496252186258551345437492922123134388955774976000000000000000\n",
            "Para n= 66 el factorial es:                                                                  544344939077443064003729240247842752644293064388798874532860126869671081148416000000000000000\n",
            "Para n= 67 el factorial es:                                                                36471110918188685288249859096605464427167635314049524593701628500267962436943872000000000000000\n",
            "Para n= 68 el factorial es:                                                              2480035542436830599600990418569171581047399201355367672371710738018221445712183296000000000000000\n",
            "Para n= 69 el factorial es:                                                            171122452428141311372468338881272839092270544893520369393648040923257279754140647424000000000000000\n",
            "Para n= 70 el factorial es:                                                          11978571669969891796072783721689098736458938142546425857555362864628009582789845319680000000000000000\n",
            "Para n= 71 el factorial es:                                                         850478588567862317521167644239926010288584608120796235886430763388588680378079017697280000000000000000\n",
            "Para n= 72 el factorial es:                                                       61234458376886086861524070385274672740778091784697328983823014963978384987221689274204160000000000000000\n",
            "Para n= 73 el factorial es:                                                     4470115461512684340891257138125051110076800700282905015819080092370422104067183317016903680000000000000000\n",
            "Para n= 74 el factorial es:                                                   330788544151938641225953028221253782145683251820934971170611926835411235700971565459250872320000000000000000\n",
            "Para n= 75 el factorial es:                                                 24809140811395398091946477116594033660926243886570122837795894512655842677572867409443815424000000000000000000\n",
            "Para n= 76 el factorial es:                                               1885494701666050254987932260861146558230394535379329335672487982961844043495537923117729972224000000000000000000\n",
            "Para n= 77 el factorial es:                                             145183092028285869634070784086308284983740379224208358846781574688061991349156420080065207861248000000000000000000\n",
            "Para n= 78 el factorial es:                                           11324281178206297831457521158732046228731749579488251990048962825668835325234200766245086213177344000000000000000000\n",
            "Para n= 79 el factorial es:                                          894618213078297528685144171539831652069808216779571907213868063227837990693501860533361810841010176000000000000000000\n",
            "Para n= 80 el factorial es:                                        71569457046263802294811533723186532165584657342365752577109445058227039255480148842668944867280814080000000000000000000\n",
            "Para n= 81 el factorial es:                                      5797126020747367985879734231578109105412357244731625958745865049716390179693892056256184534249745940480000000000000000000\n",
            "Para n= 82 el factorial es:                                    475364333701284174842138206989404946643813294067993328617160934076743994734899148613007131808479167119360000000000000000000\n",
            "Para n= 83 el factorial es:                                  39455239697206586511897471180120610571436503407643446275224357528369751562996629334879591940103770870906880000000000000000000\n",
            "Para n= 84 el factorial es:                                3314240134565353266999387579130131288000666286242049487118846032383059131291716864129885722968716753156177920000000000000000000\n",
            "Para n= 85 el factorial es:                              281710411438055027694947944226061159480056634330574206405101912752560026159795933451040286452340924018275123200000000000000000000\n",
            "Para n= 86 el factorial es:                            24227095383672732381765523203441259715284870552429381750838764496720162249742450276789464634901319465571660595200000000000000000000\n",
            "Para n= 87 el factorial es:                          2107757298379527717213600518699389595229783738061356212322972511214654115727593174080683423236414793504734471782400000000000000000000\n",
            "Para n= 88 el factorial es:                        185482642257398439114796845645546284380220968949399346684421580986889562184028199319100141244804501828416633516851200000000000000000000\n",
            "Para n= 89 el factorial es:                      16507955160908461081216919262453619309839666236496541854913520707833171034378509739399912570787600662729080382999756800000000000000000000\n",
            "Para n= 90 el factorial es:                    1485715964481761497309522733620825737885569961284688766942216863704985393094065876545992131370884059645617234469978112000000000000000000000\n",
            "Para n= 91 el factorial es:                  135200152767840296255166568759495142147586866476906677791741734597153670771559994765685283954750449427751168336768008192000000000000000000000\n",
            "Para n= 92 el factorial es:                12438414054641307255475324325873553077577991715875414356840239582938137710983519518443046123837041347353107486982656753664000000000000000000000\n",
            "Para n= 93 el factorial es:              1156772507081641574759205162306240436214753229576413535186142281213246807121467315215203289516844845303838996289387078090752000000000000000000000\n",
            "Para n= 94 el factorial es:            108736615665674308027365285256786601004186803580182872307497374434045199869417927630229109214583415458560865651202385340530688000000000000000000000\n",
            "Para n= 95 el factorial es:          10329978488239059262599702099394727095397746340117372869212250571234293987594703124871765375385424468563282236864226607350415360000000000000000000000\n",
            "Para n= 96 el factorial es:         991677934870949689209571401541893801158183648651267795444376054838492222809091499987689476037000748982075094738965754305639874560000000000000000000000\n",
            "Para n= 97 el factorial es:       96192759682482119853328425949563698712343813919172976158104477319333745612481875498805879175589072651261284189679678167647067832320000000000000000000000\n",
            "Para n= 98 el factorial es:     9426890448883247745626185743057242473809693764078951663494238777294707070023223798882976159207729119823605850588608460429412647567360000000000000000000000\n",
            "Para n= 99 el factorial es:   933262154439441526816992388562667004907159682643816214685929638952175999932299156089414639761565182862536979208272237582511852109168640000000000000000000000\n",
            "Para n=100 el factorial es: 93326215443944152681699238856266700490715968264381621468592963895217599993229915608941463976156518286253697920827223758251185210916864000000000000000000000000\n"
          ]
        }
      ]
    },
    {
      "cell_type": "markdown",
      "source": [
        "## Método 2\n",
        "Creamos nuestra propia función para calcular el factorial."
      ],
      "metadata": {
        "id": "Bgc1pVmoEhd-"
      }
    },
    {
      "cell_type": "code",
      "source": [
        "def factor(n):\n",
        "    f = 1                      # inicializamos la variable f que ira creando el factorial\n",
        "    for i in range(1, n+1):    # i es una variable auxiliar que va desde 1 hasta n\n",
        "        f *= i                 # equivale a poner f = f * i\n",
        "    return f                   # al final se retorna el valor del f que ya contiene el factorial\n",
        "\n",
        "factor(5)"
      ],
      "metadata": {
        "colab": {
          "base_uri": "https://localhost:8080/"
        },
        "id": "8Dzy7zqBHIfi",
        "outputId": "8e235a13-33b0-4c82-a917-43507efd12eb"
      },
      "execution_count": 20,
      "outputs": [
        {
          "output_type": "execute_result",
          "data": {
            "text/plain": [
              "120"
            ]
          },
          "metadata": {},
          "execution_count": 20
        }
      ]
    },
    {
      "cell_type": "markdown",
      "source": [
        "## Método 3\n",
        "Calculamos el factorial por recursión"
      ],
      "metadata": {
        "id": "e3EUnesTEp9l"
      }
    },
    {
      "cell_type": "code",
      "source": [
        "def fact(n):   # por recursión\n",
        "    if n == 0:\n",
        "        return 1\n",
        "    else:\n",
        "        return n * fact(n-1)    # la función se llama a si misma con un n menor en una unidad\n",
        "\n",
        "fact(5)"
      ],
      "metadata": {
        "colab": {
          "base_uri": "https://localhost:8080/"
        },
        "id": "q28w79e774fd",
        "outputId": "53743a09-5996-4213-e290-5f2d1b1296fb"
      },
      "execution_count": 21,
      "outputs": [
        {
          "output_type": "execute_result",
          "data": {
            "text/plain": [
              "120"
            ]
          },
          "metadata": {},
          "execution_count": 21
        }
      ]
    }
  ]
}