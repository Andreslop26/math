{
  "nbformat": 4,
  "nbformat_minor": 0,
  "metadata": {
    "colab": {
      "name": "factorial.ipynb",
      "provenance": [],
      "authorship_tag": "ABX9TyMweindCtsJ8DkLUQ18Ep21",
      "include_colab_link": true
    },
    "kernelspec": {
      "name": "python3",
      "display_name": "Python 3"
    },
    "language_info": {
      "name": "python"
    }
  },
  "cells": [
    {
      "cell_type": "markdown",
      "metadata": {
        "id": "view-in-github",
        "colab_type": "text"
      },
      "source": [
        "<a href=\"https://colab.research.google.com/github/financieras/math/blob/main/combina/factorial.ipynb\" target=\"_parent\"><img src=\"https://colab.research.google.com/assets/colab-badge.svg\" alt=\"Open In Colab\"/></a>"
      ]
    },
    {
      "cell_type": "markdown",
      "source": [
        "# Factorial\n",
        "\n",
        "Dado un número entero $(n \\geq 0)$ podemos calcular su factorial multiplicando por él mismo y los anteriores hasta llegar a 1.\n",
        "\n",
        "$$n! \\  = \\  n \\cdot (n-1) \\cdot (n-2) \\cdot (n-3) \\  \\cdots \\  3 \\cdot 2 \\cdot 1$$\n",
        "\n",
        "**Ejemplo**  \n",
        "$$5! \\  = \\  5 \\cdot 4 \\cdot 3 \\cdot 2 \\cdot 1 = 120$$\n",
        "\n",
        "Por definición el factorial de cero es 1.\n",
        "\n",
        "$$0! = 1$$"
      ],
      "metadata": {
        "id": "cAEC3ZLD7sxL"
      }
    },
    {
      "cell_type": "markdown",
      "source": [
        "## Método 1\n",
        "Utilizamos una librería de Python para calcular el factorial de un número."
      ],
      "metadata": {
        "id": "4jXs8qRgEW2l"
      }
    },
    {
      "cell_type": "code",
      "source": [
        "import math\n",
        "math.factorial(5)"
      ],
      "metadata": {
        "colab": {
          "base_uri": "https://localhost:8080/"
        },
        "id": "mLOTkAMpE9_A",
        "outputId": "2a35f7d0-8038-4da9-c67b-59aaf0d61c77"
      },
      "execution_count": null,
      "outputs": [
        {
          "output_type": "execute_result",
          "data": {
            "text/plain": [
              "120"
            ]
          },
          "metadata": {},
          "execution_count": 1
        }
      ]
    },
    {
      "cell_type": "code",
      "source": [
        "# Vamos a calcular el factorial de una serie de números\n",
        "\n",
        "from math import factorial\n",
        "\n",
        "for i in range(51):\n",
        "    print(f\"Para n={i:2d} el factorial es: {factorial(i):65d}\")"
      ],
      "metadata": {
        "colab": {
          "base_uri": "https://localhost:8080/"
        },
        "id": "NuikwnbzFJ7Y",
        "outputId": "38efd2ec-d890-4476-acbc-34449dfae2b7"
      },
      "execution_count": null,
      "outputs": [
        {
          "output_type": "stream",
          "name": "stdout",
          "text": [
            "Para n= 0 el factorial es:                                                                 1\n",
            "Para n= 1 el factorial es:                                                                 1\n",
            "Para n= 2 el factorial es:                                                                 2\n",
            "Para n= 3 el factorial es:                                                                 6\n",
            "Para n= 4 el factorial es:                                                                24\n",
            "Para n= 5 el factorial es:                                                               120\n",
            "Para n= 6 el factorial es:                                                               720\n",
            "Para n= 7 el factorial es:                                                              5040\n",
            "Para n= 8 el factorial es:                                                             40320\n",
            "Para n= 9 el factorial es:                                                            362880\n",
            "Para n=10 el factorial es:                                                           3628800\n",
            "Para n=11 el factorial es:                                                          39916800\n",
            "Para n=12 el factorial es:                                                         479001600\n",
            "Para n=13 el factorial es:                                                        6227020800\n",
            "Para n=14 el factorial es:                                                       87178291200\n",
            "Para n=15 el factorial es:                                                     1307674368000\n",
            "Para n=16 el factorial es:                                                    20922789888000\n",
            "Para n=17 el factorial es:                                                   355687428096000\n",
            "Para n=18 el factorial es:                                                  6402373705728000\n",
            "Para n=19 el factorial es:                                                121645100408832000\n",
            "Para n=20 el factorial es:                                               2432902008176640000\n",
            "Para n=21 el factorial es:                                              51090942171709440000\n",
            "Para n=22 el factorial es:                                            1124000727777607680000\n",
            "Para n=23 el factorial es:                                           25852016738884976640000\n",
            "Para n=24 el factorial es:                                          620448401733239439360000\n",
            "Para n=25 el factorial es:                                        15511210043330985984000000\n",
            "Para n=26 el factorial es:                                       403291461126605635584000000\n",
            "Para n=27 el factorial es:                                     10888869450418352160768000000\n",
            "Para n=28 el factorial es:                                    304888344611713860501504000000\n",
            "Para n=29 el factorial es:                                   8841761993739701954543616000000\n",
            "Para n=30 el factorial es:                                 265252859812191058636308480000000\n",
            "Para n=31 el factorial es:                                8222838654177922817725562880000000\n",
            "Para n=32 el factorial es:                              263130836933693530167218012160000000\n",
            "Para n=33 el factorial es:                             8683317618811886495518194401280000000\n",
            "Para n=34 el factorial es:                           295232799039604140847618609643520000000\n",
            "Para n=35 el factorial es:                         10333147966386144929666651337523200000000\n",
            "Para n=36 el factorial es:                        371993326789901217467999448150835200000000\n",
            "Para n=37 el factorial es:                      13763753091226345046315979581580902400000000\n",
            "Para n=38 el factorial es:                     523022617466601111760007224100074291200000000\n",
            "Para n=39 el factorial es:                   20397882081197443358640281739902897356800000000\n",
            "Para n=40 el factorial es:                  815915283247897734345611269596115894272000000000\n",
            "Para n=41 el factorial es:                33452526613163807108170062053440751665152000000000\n",
            "Para n=42 el factorial es:              1405006117752879898543142606244511569936384000000000\n",
            "Para n=43 el factorial es:             60415263063373835637355132068513997507264512000000000\n",
            "Para n=44 el factorial es:           2658271574788448768043625811014615890319638528000000000\n",
            "Para n=45 el factorial es:         119622220865480194561963161495657715064383733760000000000\n",
            "Para n=46 el factorial es:        5502622159812088949850305428800254892961651752960000000000\n",
            "Para n=47 el factorial es:      258623241511168180642964355153611979969197632389120000000000\n",
            "Para n=48 el factorial es:    12413915592536072670862289047373375038521486354677760000000000\n",
            "Para n=49 el factorial es:   608281864034267560872252163321295376887552831379210240000000000\n",
            "Para n=50 el factorial es: 30414093201713378043612608166064768844377641568960512000000000000\n"
          ]
        }
      ]
    },
    {
      "cell_type": "markdown",
      "source": [
        "## Método 2\n",
        "Creamos nuestra propia función para calcular el factorial."
      ],
      "metadata": {
        "id": "Bgc1pVmoEhd-"
      }
    },
    {
      "cell_type": "code",
      "source": [
        "def factor(n):\n",
        "    f = 1                      # inicializamos la variable f que ira creando el factorial\n",
        "    for i in range(1, n+1):    # i es una variable auxiliar que va desde 1 hasta n\n",
        "        f *= i                 # equivale a poner f = f * i\n",
        "    return f                   # al final se retorna el valor del f que ya contiene el factorial\n",
        "\n",
        "factor(5)"
      ],
      "metadata": {
        "colab": {
          "base_uri": "https://localhost:8080/"
        },
        "id": "8Dzy7zqBHIfi",
        "outputId": "8e235a13-33b0-4c82-a917-43507efd12eb"
      },
      "execution_count": null,
      "outputs": [
        {
          "output_type": "execute_result",
          "data": {
            "text/plain": [
              "120"
            ]
          },
          "metadata": {},
          "execution_count": 20
        }
      ]
    },
    {
      "cell_type": "markdown",
      "source": [
        "## Método 3\n",
        "Calculamos el factorial por recursión"
      ],
      "metadata": {
        "id": "e3EUnesTEp9l"
      }
    },
    {
      "cell_type": "code",
      "source": [
        "def fact(n):                     # por recursión\n",
        "    if n == 0:                   # caso base\n",
        "        return 1\n",
        "    else:\n",
        "        return n * fact(n-1)    # la función se llama a si misma con un n menor en una unidad\n",
        "\n",
        "fact(5)"
      ],
      "metadata": {
        "colab": {
          "base_uri": "https://localhost:8080/"
        },
        "id": "q28w79e774fd",
        "outputId": "56406d94-5ce7-402e-8cc5-52d2898e5153"
      },
      "execution_count": 1,
      "outputs": [
        {
          "output_type": "execute_result",
          "data": {
            "text/plain": [
              "120"
            ]
          },
          "metadata": {},
          "execution_count": 1
        }
      ]
    }
  ]
}