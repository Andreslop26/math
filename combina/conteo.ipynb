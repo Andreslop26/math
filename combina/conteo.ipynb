{
  "nbformat": 4,
  "nbformat_minor": 0,
  "metadata": {
    "colab": {
      "name": "conteo.ipynb",
      "provenance": [],
      "authorship_tag": "ABX9TyPQGaJrLDDtuehBq1Ei5jGz",
      "include_colab_link": true
    },
    "kernelspec": {
      "name": "python3",
      "display_name": "Python 3"
    },
    "language_info": {
      "name": "python"
    }
  },
  "cells": [
    {
      "cell_type": "markdown",
      "metadata": {
        "id": "view-in-github",
        "colab_type": "text"
      },
      "source": [
        "<a href=\"https://colab.research.google.com/github/financieras/math/blob/main/combina/conteo.ipynb\" target=\"_parent\"><img src=\"https://colab.research.google.com/assets/colab-badge.svg\" alt=\"Open In Colab\"/></a>"
      ]
    },
    {
      "cell_type": "markdown",
      "source": [
        "# Conteo\n",
        "Dentro de la *matemática discreta* nos ocupamos de las técnicas de conteo que nos permiten conocer el número de casos que obtenemos al trabajar sobre conjuntos finitos de elementos aplicando una serie de reglas o condiciones.\n",
        "\n",
        "**Ejemplos**\n",
        "* Cuántas formas hay de combinar un menú con 4 primeros platos, 3 segundos y 5 postres.\n",
        "* De cuantas formas puedo elegir un helado de tres bolas, si existen 5 sabores direrentes y se puede repetir el sabor elegido.\n",
        "* De cuantas formas se pueden elegir presidente, secretario y tesorero de una asociación de 10 miembros.\n",
        "\n",
        "**Aplicación**  \n",
        "Las técnicas de conteo se utilizan en estadística y en cálculo de probabilidades. Recordemos la regla de Laplace que da la probabilidad con el cociente:\n",
        "\n",
        "$$ Probabilidad = \\frac{\\text{casos favorables}}{\\text{casos posibles}}$$"
      ],
      "metadata": {
        "id": "EChZ5dbw0or2"
      }
    },
    {
      "cell_type": "markdown",
      "source": [
        "## Principio fundamental del conteo\n",
        "### Principio multiplicativo\n",
        "Si tenemos varios sucesos independientes, por ejemplo, lanzar un dado y lanzar una moneda simultaneamente, podemos calcular cuantos resultados posibles existen. Se aplica el principio de la multiplicación o principio multiplicativo que es el principio fundamental del conteo.\n",
        "\n",
        "* El dado puede caer de 6 formas diferentes [1,2,3,4,5,6]\n",
        "* La moneda puede caer de dos formas diferenes [C,X]\n",
        "* Los resultados posibles son 12:\n",
        " - [1,C]  [1,X]\n",
        " - [2,C]  [2,X]\n",
        " - [3,C]  [3,X]\n",
        " - [4,C]  [4,X]\n",
        " - [5,C]  [5,X]\n",
        " - [6,C]  [6,X]\n",
        "* El número de casos posibles se obtiene multiplicando: $6 \\times 2 = 12$\n",
        "\n",
        "### Principio aditivo\n",
        "No siempre se ha de aplicar el principio multiplicativo, también disponemos del principio aditivo o de la suma.\n",
        "* Para desplazarme al trabajo tengo estas posibilidades:\n",
        " - 3 rutas para ir en bus\n",
        " - 2 rutas para ir en metro\n",
        " - 4 rutas para ir en coche\n",
        "* Para determinar de cuantas formas posibles puedo ir al trabajo he de aplicar el principio de la suma, ya que podré viajar al trabajo de una sola forma. Aquí las opciones no son simultáneas (concurrentes) sino excluyentes.\n",
        "* El número de rutas posibles es: 3 + 2 + 4 = 9"
      ],
      "metadata": {
        "id": "xhE2T2XG2fSu"
      }
    },
    {
      "cell_type": "code",
      "source": [
        "# Principio multiplicativo\n",
        "dado = [1,2,3,4,5,6]\n",
        "moneda = [\"C\",\"X\"]\n",
        "for i in dado:\n",
        "    for j in moneda:\n",
        "        print(i,j)"
      ],
      "metadata": {
        "id": "eF_bYnQ451s0"
      },
      "execution_count": null,
      "outputs": []
    },
    {
      "cell_type": "code",
      "source": [
        "import itertools\n",
        "\n",
        "toss3 = map(''.join, itertools.product('HT', repeat=3))\n",
        "toss3_pairs = list(itertools.product(toss3, repeat=2))\n",
        "toss3_pairs"
      ],
      "metadata": {
        "id": "4iSBeAUT638s"
      },
      "execution_count": null,
      "outputs": []
    },
    {
      "cell_type": "code",
      "source": [
        "import itertools\n",
        "moneda = map(''.join, itertools.product('CX'))\n",
        "dado = map(''.join, itertools.product('123456'))\n",
        "list(moneda)\n",
        "list(dado)"
      ],
      "metadata": {
        "id": "WYnu1sib7OYf"
      },
      "execution_count": null,
      "outputs": []
    },
    {
      "cell_type": "markdown",
      "source": [
        "### Ejemplo\n",
        "Lanzamos simultaneamente un dado y una moneda. Calcular la probabilidad de que se obtenga cara en la moneda y número par en le dado.\n",
        "\n",
        "Para analizar los casos posibles podemos hacer el producto cartesiano de los dos conjuntos: dado ($A$) y moneda ($B$).\n",
        "\n",
        "$$A=\\{1,2,3,4,5,6\\}$$\n",
        "$$B=\\{c,x\\}$$\n",
        "\n",
        "Producto cartesiano: \n",
        "$$A \\times B = \\{ (1,c), (2,c), (3,c), (4,c), (5,c), (6,c), (1,x), (2,x), (3,x), (4,x), (5,x), (6,x) \\}$$\n",
        "\n",
        "Sabemos que son 12 casos posibles, ya que se han de multiplicar los 6 posibles valores del dado por los 2 posibles valores de la moneda.\n",
        "\n",
        "$$6 \\times 2 =12$$\n",
        "\n",
        "Existen 3 casos probables $\\{ (2,c), (4,c), (6,c) \\}$\n",
        "\n",
        "Por tanto, la probabilidad de obtener cara y par simultaneamente es:\n",
        "\n",
        "$$Probabilidad = \\frac{\\text{casos favorables}}{\\text{casos posibles}} = \\frac{3}{12} = \\frac{1}{4}$$"
      ],
      "metadata": {
        "id": "vnZF6ZyNNo_7"
      }
    },
    {
      "cell_type": "markdown",
      "source": [
        "## Combinatoria\n",
        "\n",
        "La Combinatoria es una herramienta que nos permite contar el número de situaciones que se pueden dar al someter a un conjunto finito a las acciones de ordenar y/o elegir entre sus elementos."
      ],
      "metadata": {
        "id": "dxgJJK9INe0R"
      }
    }
  ]
}