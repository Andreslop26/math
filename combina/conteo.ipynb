{
  "nbformat": 4,
  "nbformat_minor": 0,
  "metadata": {
    "colab": {
      "name": "conteo.ipynb",
      "provenance": [],
      "authorship_tag": "ABX9TyPb6QotOSDVix373i0YRc6m",
      "include_colab_link": true
    },
    "kernelspec": {
      "name": "python3",
      "display_name": "Python 3"
    },
    "language_info": {
      "name": "python"
    }
  },
  "cells": [
    {
      "cell_type": "markdown",
      "metadata": {
        "id": "view-in-github",
        "colab_type": "text"
      },
      "source": [
        "<a href=\"https://colab.research.google.com/github/financieras/math/blob/main/combina/conteo.ipynb\" target=\"_parent\"><img src=\"https://colab.research.google.com/assets/colab-badge.svg\" alt=\"Open In Colab\"/></a>"
      ]
    },
    {
      "cell_type": "markdown",
      "source": [
        "# Conteo\n",
        "El conteo en matemáticas recoge una serie de técnicas que nos permite contar los elementos que cumplen una serie de condiciones o pertenecen a cierto conjunto.\n",
        "\n",
        "**Ejemplos**\n",
        "* Cuántas formas hay de combinar un menú con 4 primeros platos, 3 segundos y 5 postres.\n",
        "* De cuantas formas puedo elegir un helado de tres bolas, si existen 5 sabores direrentes y se puede repetir el sabor elegido.\n",
        "* De cuantas formas se pueden elegir presidente, secretario y tesorero de una asociación de 10 miembros."
      ],
      "metadata": {
        "id": "EChZ5dbw0or2"
      }
    },
    {
      "cell_type": "markdown",
      "source": [
        "## Principio fundamental del conteo\n",
        "### Principio multiplicativo\n",
        "Si tenemos varios sucesos independientes, por ejemplo, lanzar un dado y lanzar una moneda simultaneamente, podemos calcular cuantos resultados posibles existen. Se aplica el principio de la multiplicación o principio multiplicativo que es el principio fundamental del conteo.\n",
        "\n",
        "* El dado puede caer de 6 formas diferentes [1,2,3,4,5,6]\n",
        "* La moneda puede caer de dos formas diferenes [C,X]\n",
        "* Los resultados posibles son:\n",
        " - [1,C]  [1,X]\n",
        " - [2,C]  [2,X]\n",
        " - [3,C]  [3,X]\n",
        " - [4,C]  [4,X]\n",
        " - [5,C]  [5,X]\n",
        " - [6,C]  [6,X]\n",
        "* En total tenemos 12 posibles resultados. El número de casos se obtiene multiplicando:   6 * 2 = 12\n",
        "\n",
        "### Principio aditivo\n",
        "No todos los sucesos son independientes y cuando no lo son se aplica el principio aditivo.\n",
        "* Para desplazarme al trabajo tengo estas posibilidades:\n",
        " - 3 rutas para ir en bus\n",
        " - 2 rutas para ir en metro\n",
        " - 4 rutas para ir en coche\n",
        "* Para determinar de cuantas formas posibles puedo ir al trabajo he de aplicar el principio de la suma\n",
        "* El número de rutas posibles es: 3 + 2 + 4 = 9"
      ],
      "metadata": {
        "id": "xhE2T2XG2fSu"
      }
    },
    {
      "cell_type": "code",
      "source": [
        "# Principio multiplicativo\n",
        "dado = [1,2,3,4,5,6]\n",
        "moneda = [\"C\",\"X\"]\n",
        "for i in dado:\n",
        "    for j in moneda:\n",
        "        print(i,j)"
      ],
      "metadata": {
        "colab": {
          "base_uri": "https://localhost:8080/"
        },
        "id": "eF_bYnQ451s0",
        "outputId": "b9f94052-a20d-4bfc-e7d3-9ce1595c4cb5"
      },
      "execution_count": 2,
      "outputs": [
        {
          "output_type": "stream",
          "name": "stdout",
          "text": [
            "1 C\n",
            "1 X\n",
            "2 C\n",
            "2 X\n",
            "3 C\n",
            "3 X\n",
            "4 C\n",
            "4 X\n",
            "5 C\n",
            "5 X\n",
            "6 C\n",
            "6 X\n"
          ]
        }
      ]
    },
    {
      "cell_type": "code",
      "source": [
        "import itertools\n",
        "\n",
        "toss3 = map(''.join, itertools.product('HT', repeat=3))\n",
        "toss3_pairs = list(itertools.product(toss3, repeat=2))\n",
        "toss3_pairs"
      ],
      "metadata": {
        "id": "4iSBeAUT638s"
      },
      "execution_count": null,
      "outputs": []
    },
    {
      "cell_type": "code",
      "source": [
        "import itertools\n",
        "moneda = map(''.join, itertools.product('CX'))\n",
        "dado = map(''.join, itertools.product('123456'))\n",
        "list(moneda)\n",
        "list(dado)"
      ],
      "metadata": {
        "colab": {
          "base_uri": "https://localhost:8080/"
        },
        "id": "WYnu1sib7OYf",
        "outputId": "4a54f697-0790-47f2-8dec-b45397518e1e"
      },
      "execution_count": 12,
      "outputs": [
        {
          "output_type": "execute_result",
          "data": {
            "text/plain": [
              "['1', '2', '3', '4', '5', '6']"
            ]
          },
          "metadata": {},
          "execution_count": 12
        }
      ]
    }
  ]
}