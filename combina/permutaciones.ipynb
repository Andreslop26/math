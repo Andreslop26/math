{
  "nbformat": 4,
  "nbformat_minor": 0,
  "metadata": {
    "colab": {
      "name": "permutaciones.ipynb",
      "provenance": [],
      "authorship_tag": "ABX9TyPO5yWTvE5xfvx6cqOFh1ys",
      "include_colab_link": true
    },
    "kernelspec": {
      "name": "python3",
      "display_name": "Python 3"
    },
    "language_info": {
      "name": "python"
    }
  },
  "cells": [
    {
      "cell_type": "markdown",
      "metadata": {
        "id": "view-in-github",
        "colab_type": "text"
      },
      "source": [
        "<a href=\"https://colab.research.google.com/github/financieras/math/blob/main/combina/permutaciones.ipynb\" target=\"_parent\"><img src=\"https://colab.research.google.com/assets/colab-badge.svg\" alt=\"Open In Colab\"/></a>"
      ]
    },
    {
      "cell_type": "markdown",
      "source": [
        "# Permutaciones"
      ],
      "metadata": {
        "id": "Mdk_nPm4NT-9"
      }
    },
    {
      "cell_type": "markdown",
      "source": [
        "## Calcular el número de permutaciones posibles\n",
        "* Dados $n$ elementos, se pueden obtener $n!$ posibles formas de reordenarlos, esto es, existen $n!$ permutaciones.\n",
        "* Si $n=4$ existen  \n",
        "$$4! = 4 \\cdot 3 \\cdot 2 \\cdot 1 = 24$$"
      ],
      "metadata": {
        "id": "3SZQaEp7OjVl"
      }
    },
    {
      "cell_type": "code",
      "execution_count": 1,
      "metadata": {
        "colab": {
          "base_uri": "https://localhost:8080/"
        },
        "id": "iC1bxlxwNQtQ",
        "outputId": "6757a20a-74dd-47f5-8246-1c219dc8b2fa"
      },
      "outputs": [
        {
          "output_type": "stream",
          "name": "stdout",
          "text": [
            "[1, 2, 3, 4]\n",
            "El número de permutaciones posibles de 4 elementos es: 24\n"
          ]
        }
      ],
      "source": [
        "from math import factorial\n",
        "\n",
        "# creamos una lista con los números [1,2,3,4]\n",
        "\n",
        "lista = list(range(1,5))   # equivale a poner lista = [1,2,3,4]\n",
        "print(lista)\n",
        "\n",
        "n = len(lista)   # para este caso n=4 que es la longitud de la lista\n",
        "num_permuta = factorial(n)\n",
        "print(f\"El número de permutaciones posibles de 4 elementos es: {num_permuta}\")"
      ]
    },
    {
      "cell_type": "markdown",
      "source": [
        "## Mostrar todas las permutaciones"
      ],
      "metadata": {
        "id": "CSjFYmrsOde3"
      }
    },
    {
      "cell_type": "markdown",
      "source": [
        "### Para tres elementos"
      ],
      "metadata": {
        "id": "_C8P-clAQSe2"
      }
    },
    {
      "cell_type": "code",
      "source": [
        "for i in range(1,4):\n",
        "    for j in range(1,4):\n",
        "        for k in range(1,4):\n",
        "            if i != j  and i != k and j != k:\n",
        "                print(str(i) + str(j) + str(k))"
      ],
      "metadata": {
        "colab": {
          "base_uri": "https://localhost:8080/"
        },
        "id": "4NnltzHgPg-J",
        "outputId": "966adb7c-590b-4231-b78e-027673a8904b"
      },
      "execution_count": 4,
      "outputs": [
        {
          "output_type": "stream",
          "name": "stdout",
          "text": [
            "123\n",
            "132\n",
            "213\n",
            "231\n",
            "312\n",
            "321\n"
          ]
        }
      ]
    },
    {
      "cell_type": "markdown",
      "source": [
        "### Para cuatro elementos\n",
        "Da igual que elementos sean:\n",
        " - pueden ser: [1,2,3,4]\n",
        " - pueden ser: ['a', 'b', 'c', 'd']\n",
        " - pueden ser: ['Roma', 'Londres', 'París', 'Berlín']"
      ],
      "metadata": {
        "id": "4IbGrny2QW93"
      }
    },
    {
      "cell_type": "markdown",
      "source": [
        "#### Versión 1"
      ],
      "metadata": {
        "id": "BUHp1RC3RgSV"
      }
    },
    {
      "cell_type": "code",
      "source": [
        "lista = ['a', 'b', 'c', 'd']\n",
        "\n",
        "for i in lista:\n",
        "    for j in lista:\n",
        "        for k in lista:\n",
        "            for l in lista:\n",
        "                if i != j and i != j and i != k and i != l and j != k and j != l and k != l:\n",
        "                    print(i+j+k+l)"
      ],
      "metadata": {
        "colab": {
          "base_uri": "https://localhost:8080/"
        },
        "id": "nvzx2SJHRndo",
        "outputId": "cac0eb28-07b3-4a82-9b8a-8feffb7d22ca"
      },
      "execution_count": 8,
      "outputs": [
        {
          "output_type": "stream",
          "name": "stdout",
          "text": [
            "abcd\n",
            "abdc\n",
            "acbd\n",
            "acdb\n",
            "adbc\n",
            "adcb\n",
            "bacd\n",
            "badc\n",
            "bcad\n",
            "bcda\n",
            "bdac\n",
            "bdca\n",
            "cabd\n",
            "cadb\n",
            "cbad\n",
            "cbda\n",
            "cdab\n",
            "cdba\n",
            "dabc\n",
            "dacb\n",
            "dbac\n",
            "dbca\n",
            "dcab\n",
            "dcba\n"
          ]
        }
      ]
    },
    {
      "cell_type": "markdown",
      "source": [
        "#### Versión 2\n",
        "Añadiendo un contador."
      ],
      "metadata": {
        "id": "sWgNR01dRi1h"
      }
    },
    {
      "cell_type": "code",
      "source": [
        "lista = ['a', 'b', 'c', 'd']\n",
        "contador = 1\n",
        "\n",
        "for i in lista:\n",
        "    for j in lista:\n",
        "        for k in lista:\n",
        "            for l in lista:\n",
        "                if i != j and i != j and i != k and i != l and j != k and j != l and k != l:\n",
        "                    print(f\"{contador:2d}:  {i+j+k+l}\")\n",
        "                    contador += 1"
      ],
      "metadata": {
        "colab": {
          "base_uri": "https://localhost:8080/"
        },
        "id": "Td8GhRQbQbLL",
        "outputId": "80b63f14-052b-4f1e-f958-421247548299"
      },
      "execution_count": 9,
      "outputs": [
        {
          "output_type": "stream",
          "name": "stdout",
          "text": [
            " 1:  abcd\n",
            " 2:  abdc\n",
            " 3:  acbd\n",
            " 4:  acdb\n",
            " 5:  adbc\n",
            " 6:  adcb\n",
            " 7:  bacd\n",
            " 8:  badc\n",
            " 9:  bcad\n",
            "10:  bcda\n",
            "11:  bdac\n",
            "12:  bdca\n",
            "13:  cabd\n",
            "14:  cadb\n",
            "15:  cbad\n",
            "16:  cbda\n",
            "17:  cdab\n",
            "18:  cdba\n",
            "19:  dabc\n",
            "20:  dacb\n",
            "21:  dbac\n",
            "22:  dbca\n",
            "23:  dcab\n",
            "24:  dcba\n"
          ]
        }
      ]
    }
  ]
}