{
  "nbformat": 4,
  "nbformat_minor": 0,
  "metadata": {
    "colab": {
      "name": "permutaciones.ipynb",
      "provenance": [],
      "authorship_tag": "ABX9TyNKcwQeMRfUvPpeLpY3Qr+O",
      "include_colab_link": true
    },
    "kernelspec": {
      "name": "python3",
      "display_name": "Python 3"
    },
    "language_info": {
      "name": "python"
    }
  },
  "cells": [
    {
      "cell_type": "markdown",
      "metadata": {
        "id": "view-in-github",
        "colab_type": "text"
      },
      "source": [
        "<a href=\"https://colab.research.google.com/github/financieras/math/blob/main/combina/permutaciones.ipynb\" target=\"_parent\"><img src=\"https://colab.research.google.com/assets/colab-badge.svg\" alt=\"Open In Colab\"/></a>"
      ]
    },
    {
      "cell_type": "markdown",
      "source": [
        "# Permutaciones"
      ],
      "metadata": {
        "id": "Mdk_nPm4NT-9"
      }
    },
    {
      "cell_type": "markdown",
      "source": [
        "## Calcular el número de permutaciones posibles\n",
        "* Dados $n$ elementos, se pueden obtener $n!$ posibles formas de reordenarlos, esto es, existen $n!$ permutaciones.\n",
        "* Si $n=4$ existen  \n",
        "$$4! = 4 \\cdot 3 \\cdot 2 \\cdot 1 = 24$$"
      ],
      "metadata": {
        "id": "3SZQaEp7OjVl"
      }
    },
    {
      "cell_type": "code",
      "execution_count": null,
      "metadata": {
        "id": "iC1bxlxwNQtQ"
      },
      "outputs": [],
      "source": [
        "from math import factorial\n",
        "\n",
        "lista = [1,2,3,4]   # lista con los elementos a permutar\n",
        "print(lista)\n",
        "\n",
        "n = len(lista)   # n es la longitud de la lista\n",
        "\n",
        "print(f\"El número de permutaciones posibles de {n} elementos es: {factorial(n)}\")"
      ]
    },
    {
      "cell_type": "markdown",
      "source": [
        "## ¿Por qué el número de permutaciones es $n!$?\n",
        "* Se basa en aplicar el principio fundamental del conteo (la multiplicación) de forma reiterada sobre los elementos que van quedando sin colorar.\n",
        "\n",
        "**Ejemplo**\n",
        "* Supongamos tres Automóviles: A, B y C que deben aparcar en tres plazas de garaje que se encuentran seguidas unas de otras, por ejemplo para aparcar en paralelo.\n",
        "\n",
        "<img src=\"https://github.com/financieras/math/blob/main/img/autosABC.png?raw=1\" alt=\"autosABC\" width=\"200\">\n",
        "\n",
        "\n",
        "* Primero llega el auto A y ve que tiene las tres plazas libres, luego tiene **3** posiblidades para poder aparcar. Aparca en una de ellas.\n",
        "* En segundo lugar llega el auto B y ve que solo tiene **2** plazas libres para aparcar y aparca en una de ellas.\n",
        "* Finalmente llega el auto C y ve que únicamente tiene **1** plaza libre para aparcar, y aparca en ella.\n",
        "* Aplicando el principio fundamental del conteo vemos que las permutaciones de ABC se calculan multiplicando las posibilidades de cada uno de ellos que son:\n",
        " - 3 * 2 * 1 = 6\n",
        " - que podemos expresar como 3!\n"
      ],
      "metadata": {
        "id": "A20ksl0cIZrB"
      }
    },
    {
      "cell_type": "markdown",
      "source": [
        "## Mostrar todas las permutaciones"
      ],
      "metadata": {
        "id": "CSjFYmrsOde3"
      }
    },
    {
      "cell_type": "markdown",
      "source": [
        "### Para dos elementos\n",
        "* Supongamos que los elementos son [1,2]\n",
        "* Solo existen dos formas de ordenarlos:\n",
        " - [1, 2]\n",
        " - [2, 1]\n",
        "* El número de permutaciones posibles con dos elementos es:  \n",
        "$$2!=2 \\cdot 1 = 2$$"
      ],
      "metadata": {
        "id": "g2Uld0yfRDXH"
      }
    },
    {
      "cell_type": "code",
      "source": [
        "lista = [1,2]\n",
        "for i in lista:\n",
        "    for j in lista:\n",
        "        if i is not j:\n",
        "            print(i, j)"
      ],
      "metadata": {
        "id": "EAsqI5PoRsp5"
      },
      "execution_count": null,
      "outputs": []
    },
    {
      "cell_type": "markdown",
      "source": [
        "### Para tres elementos\n",
        "* Supongamos que los elementos son [1,2,3]\n",
        "* Solo existen seis formas de ordenarlos:\n",
        " - [1, 2, 3]\n",
        " - [1, 3, 2]\n",
        " - [2, 1, 3]\n",
        " - [2, 3, 1]\n",
        " - [3, 1, 2]\n",
        " - [3, 2, 1]\n",
        "\n",
        "* El número de permutaciones posibles con tres elementos es:  \n",
        "$$3!=3 \\cdot 2 \\cdot 1 = 6$$"
      ],
      "metadata": {
        "id": "_C8P-clAQSe2"
      }
    },
    {
      "cell_type": "code",
      "source": [
        "for i in range(1,4):\n",
        "    for j in range(1,4):\n",
        "        for k in range(1,4):\n",
        "            if i != j  and i != k and j != k:\n",
        "                print(str(i) + str(j) + str(k))"
      ],
      "metadata": {
        "id": "4NnltzHgPg-J"
      },
      "execution_count": null,
      "outputs": []
    },
    {
      "cell_type": "markdown",
      "source": [
        "### Para cuatro elementos\n",
        "* Da igual que elementos sean:\n",
        " - pueden ser: [1,2,3,4]\n",
        " - pueden ser: ['a', 'b', 'c', 'd']\n",
        " - pueden ser: ['Roma', 'Londres', 'París', 'Berlín']\n",
        "\n",
        "* Supongamos que los elementos son ['a', 'b', 'c', 'd']\n",
        "* El número de permutaciones posibles con tres elementos es de 24:  \n",
        "$$4!=4 \\cdot 3 \\cdot 2 \\cdot 1 = 24$$"
      ],
      "metadata": {
        "id": "4IbGrny2QW93"
      }
    },
    {
      "cell_type": "markdown",
      "source": [
        "#### Versión 1"
      ],
      "metadata": {
        "id": "BUHp1RC3RgSV"
      }
    },
    {
      "cell_type": "code",
      "source": [
        "lista = ['a', 'b', 'c', 'd']\n",
        "\n",
        "for i in lista:\n",
        "    for j in lista:\n",
        "        for k in lista:\n",
        "            for l in lista:\n",
        "                if i != j and i != k and i != l and j != k and j != l and k != l:\n",
        "                    print(i+j+k+l)"
      ],
      "metadata": {
        "id": "nvzx2SJHRndo"
      },
      "execution_count": null,
      "outputs": []
    },
    {
      "cell_type": "markdown",
      "source": [
        "#### Versión 2\n",
        "Añadiendo un contador."
      ],
      "metadata": {
        "id": "sWgNR01dRi1h"
      }
    },
    {
      "cell_type": "code",
      "source": [
        "lista = ['a', 'b', 'c', 'd']\n",
        "contador = 1\n",
        "\n",
        "for i in lista:\n",
        "    for j in lista:\n",
        "        for k in lista:\n",
        "            for l in lista:\n",
        "                if i != j and i != k and i != l and j != k and j != l and k != l:\n",
        "                    print(f\"{contador:2d}:  {i+j+k+l}\")\n",
        "                    contador += 1"
      ],
      "metadata": {
        "id": "Td8GhRQbQbLL"
      },
      "execution_count": null,
      "outputs": []
    },
    {
      "cell_type": "markdown",
      "source": [
        "## Mostrar todas las permutaciones con librería\n",
        "* Usamos la función `permutations` de la librería `intertools`.\n",
        "* Imprimimos todas las permutaciones de los elementos de una lista"
      ],
      "metadata": {
        "id": "DSbPKoHDOQ-Y"
      }
    },
    {
      "cell_type": "code",
      "source": [
        "from itertools import permutations\n",
        "\n",
        "perm = permutations([1,2,3,4])   # obtenemos todas las permutaciones de la lista \n",
        "\n",
        "for i in list(perm):             # imprimimos todas las permutaciones \n",
        "    print (*i)                   # con el asterisco se muestran las listas sin corchetes ni comas"
      ],
      "metadata": {
        "id": "qh_IHWhXOZdF"
      },
      "execution_count": null,
      "outputs": []
    },
    {
      "cell_type": "markdown",
      "source": [
        "## Por fuerza bruta\n",
        "* Vamos a generar de forma aleatoria infinidad de posibles permutaciones\n",
        "* Las permutaciones que no se encuentre ya en nuestra matriz serán agragadas\n",
        "* Cuando la matriz contenga $n!$ listas con todas las permutaciones posibles sabremos que hemos finalizado\n",
        "* Ahora solo queda ordenar la matriz para mostrar las listas con todas las permutaciones en forma ordenada.\n",
        "* Este método no es nada oconsejable para valores den superiores a n=7, ya que los tiempos se disparan de forma exponencial. Además, en Colab se truncan los valores impresos para grandes valores de n."
      ],
      "metadata": {
        "id": "oqhQc2LnF8gj"
      }
    },
    {
      "cell_type": "code",
      "source": [
        "from random import seed, sample\n",
        "from math import factorial\n",
        "seed()\n",
        "matriz = []\n",
        "\n",
        "lista = [\"a\", \"b\", \"c\", \"d\", \"e\", \"f\"]\n",
        "n = len(lista)\n",
        "\n",
        "for _ in range(factorial(n)):\n",
        "    while True:\n",
        "        candidata = sample(lista, n)\n",
        "        if candidata not in matriz:\n",
        "            matriz.append(candidata)\n",
        "            #print(matriz)\n",
        "            break\n",
        "\n",
        "matriz.sort()\n",
        "for i in range(len(matriz)):\n",
        "    print(*matriz[i])"
      ],
      "metadata": {
        "id": "CkviXayLGrjl"
      },
      "execution_count": null,
      "outputs": []
    },
    {
      "cell_type": "markdown",
      "source": [
        "## Permutaciones con una función recursiva\n",
        "* Fuente: [How to generate all permutations of a list](https://stackoverflow.com/questions/104420/how-to-generate-all-permutations-of-a-list)"
      ],
      "metadata": {
        "id": "6_GV3WZSUmAZ"
      }
    },
    {
      "cell_type": "markdown",
      "source": [
        "### Método 1"
      ],
      "metadata": {
        "id": "ZywhPDD6vVzZ"
      }
    },
    {
      "cell_type": "code",
      "source": [
        "result = []\n",
        "\n",
        "def permutation(li):\n",
        "    if li == [] or li == None:\n",
        "        return\n",
        "\n",
        "    if len(li) == 1:\n",
        "        result.append(li[0])\n",
        "        print(result)\n",
        "        result.pop()\n",
        "        return\n",
        "\n",
        "    for i in range(len(li)):\n",
        "        result.append(li[i])\n",
        "        permutation(li[:i] + li[i+1:])\n",
        "        result.pop()\n",
        "\n",
        "permutation([1,2,3])"
      ],
      "metadata": {
        "id": "f2pr0pgktRRz"
      },
      "execution_count": null,
      "outputs": []
    },
    {
      "cell_type": "markdown",
      "source": [
        "### Método 2"
      ],
      "metadata": {
        "id": "U3VQQwIavbPF"
      }
    },
    {
      "cell_type": "code",
      "source": [
        "def permuta(a, k=0):\n",
        "    if k == len(a):\n",
        "        print(a)\n",
        "    else:\n",
        "        for i in range(k, len(a)):\n",
        "            a[k], a[i] = a[i] ,a[k]\n",
        "            permuta(a, k+1)\n",
        "            a[k], a[i] = a[i], a[k]\n",
        "\n",
        "permuta([1,2,3])\n",
        "\n",
        "print()\n",
        "\n",
        "permuta(list('abcd'))"
      ],
      "metadata": {
        "id": "NssIRHqCiGES"
      },
      "execution_count": null,
      "outputs": []
    },
    {
      "cell_type": "markdown",
      "source": [
        "### Método 3"
      ],
      "metadata": {
        "id": "16nSmRHg63nG"
      }
    },
    {
      "cell_type": "code",
      "source": [
        "def p(a):\n",
        "    return a if len(a) == 1 else [[a[i], *j] for i in range(len(a)) for j in p(a[:i] + a[i + 1:])]\n",
        "\n",
        "p('abc')"
      ],
      "metadata": {
        "id": "K8QTpXhI3VHD"
      },
      "execution_count": null,
      "outputs": []
    }
  ]
}