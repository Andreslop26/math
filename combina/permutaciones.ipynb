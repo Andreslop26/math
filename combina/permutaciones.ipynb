{
  "nbformat": 4,
  "nbformat_minor": 0,
  "metadata": {
    "colab": {
      "name": "permutaciones.ipynb",
      "provenance": [],
      "authorship_tag": "ABX9TyNZnTNE9ikivE80bARgVyJq",
      "include_colab_link": true
    },
    "kernelspec": {
      "name": "python3",
      "display_name": "Python 3"
    },
    "language_info": {
      "name": "python"
    }
  },
  "cells": [
    {
      "cell_type": "markdown",
      "metadata": {
        "id": "view-in-github",
        "colab_type": "text"
      },
      "source": [
        "<a href=\"https://colab.research.google.com/github/financieras/math/blob/main/combina/permutaciones.ipynb\" target=\"_parent\"><img src=\"https://colab.research.google.com/assets/colab-badge.svg\" alt=\"Open In Colab\"/></a>"
      ]
    },
    {
      "cell_type": "markdown",
      "source": [
        "# Permutaciones"
      ],
      "metadata": {
        "id": "Mdk_nPm4NT-9"
      }
    },
    {
      "cell_type": "markdown",
      "source": [
        "## Calcular el número de permutaciones posibles\n",
        "* Dados $n$ elementos, se pueden obtener $n!$ posibles formas de reordenarlos, esto es, existen $n!$ permutaciones.\n",
        "* Si $n=4$ existen  \n",
        "$$4! = 4 \\cdot 3 \\cdot 2 \\cdot 1 = 24$$"
      ],
      "metadata": {
        "id": "3SZQaEp7OjVl"
      }
    },
    {
      "cell_type": "code",
      "execution_count": null,
      "metadata": {
        "colab": {
          "base_uri": "https://localhost:8080/"
        },
        "id": "iC1bxlxwNQtQ",
        "outputId": "6757a20a-74dd-47f5-8246-1c219dc8b2fa"
      },
      "outputs": [
        {
          "output_type": "stream",
          "name": "stdout",
          "text": [
            "[1, 2, 3, 4]\n",
            "El número de permutaciones posibles de 4 elementos es: 24\n"
          ]
        }
      ],
      "source": [
        "from math import factorial\n",
        "\n",
        "# creamos una lista con los números [1,2,3,4]\n",
        "\n",
        "lista = list(range(1,5))   # equivale a poner lista = [1,2,3,4]\n",
        "print(lista)\n",
        "\n",
        "n = len(lista)   # para este caso n=4 que es la longitud de la lista\n",
        "num_permuta = factorial(n)\n",
        "print(f\"El número de permutaciones posibles de 4 elementos es: {num_permuta}\")"
      ]
    },
    {
      "cell_type": "markdown",
      "source": [
        "## Mostrar todas las permutaciones"
      ],
      "metadata": {
        "id": "CSjFYmrsOde3"
      }
    },
    {
      "cell_type": "markdown",
      "source": [
        "### Para dos elementos\n",
        "* Supongamos que los elementos son [1,2]\n",
        "* Solo existen dos formas de ordenarlos:\n",
        " - [1,2]\n",
        " - [2,1]\n",
        "* El número de permutaciones posibles con dos elementos es:  \n",
        "$$2!=2 \\cdot 1 = 2$$"
      ],
      "metadata": {
        "id": "g2Uld0yfRDXH"
      }
    },
    {
      "cell_type": "code",
      "source": [
        "lista = [1,2]\n",
        "for i in lista:\n",
        "    for j in lista:\n",
        "        if i is not j:\n",
        "            print(i, j)"
      ],
      "metadata": {
        "colab": {
          "base_uri": "https://localhost:8080/"
        },
        "id": "EAsqI5PoRsp5",
        "outputId": "fdacdc68-0d65-4fb7-b628-97e596e14b94"
      },
      "execution_count": null,
      "outputs": [
        {
          "output_type": "stream",
          "name": "stdout",
          "text": [
            "1 2\n",
            "2 1\n"
          ]
        }
      ]
    },
    {
      "cell_type": "markdown",
      "source": [
        "### Para tres elementos\n",
        "* Supongamos que los elementos son [1,2,3]\n",
        "* Solo existen seis formas de ordenarlos:\n",
        " - [1,2,3]\n",
        " - [1,3,2]\n",
        " - [2,1,3]\n",
        " - [3,1,2]\n",
        " - [2,3,1]\n",
        " - [3,2,1]\n",
        "\n",
        "* El número de permutaciones posibles con tres elementos es:  \n",
        "$$3!=3 \\cdot 2 \\cdot 1 = 6$$"
      ],
      "metadata": {
        "id": "_C8P-clAQSe2"
      }
    },
    {
      "cell_type": "code",
      "source": [
        "for i in range(1,4):\n",
        "    for j in range(1,4):\n",
        "        for k in range(1,4):\n",
        "            if i != j  and i != k and j != k:\n",
        "                print(str(i) + str(j) + str(k))"
      ],
      "metadata": {
        "colab": {
          "base_uri": "https://localhost:8080/"
        },
        "id": "4NnltzHgPg-J",
        "outputId": "966adb7c-590b-4231-b78e-027673a8904b"
      },
      "execution_count": null,
      "outputs": [
        {
          "output_type": "stream",
          "name": "stdout",
          "text": [
            "123\n",
            "132\n",
            "213\n",
            "231\n",
            "312\n",
            "321\n"
          ]
        }
      ]
    },
    {
      "cell_type": "code",
      "source": [
        " for i in range(num ** num):\n",
        "    if i != j  and i != k and j != k:\n",
        "        print(str(i) + str(j) + str(k))"
      ],
      "metadata": {
        "id": "sbMzBU8zddIl"
      },
      "execution_count": null,
      "outputs": []
    },
    {
      "cell_type": "markdown",
      "source": [
        "### Para cuatro elementos\n",
        "* Da igual que elementos sean:\n",
        " - pueden ser: [1,2,3,4]\n",
        " - pueden ser: ['a', 'b', 'c', 'd']\n",
        " - pueden ser: ['Roma', 'Londres', 'París', 'Berlín']\n",
        "\n",
        "* Supongamos que los elementos son ['a', 'b', 'c', 'd']\n",
        "* El número de permutaciones posibles con tres elementos es de 24:  \n",
        "$$4!=4 \\cdot 3 \\cdot 2 \\cdot 1 = 24$$"
      ],
      "metadata": {
        "id": "4IbGrny2QW93"
      }
    },
    {
      "cell_type": "markdown",
      "source": [
        "#### Versión 1"
      ],
      "metadata": {
        "id": "BUHp1RC3RgSV"
      }
    },
    {
      "cell_type": "code",
      "source": [
        "lista = ['a', 'b', 'c', 'd']\n",
        "\n",
        "for i in lista:\n",
        "    for j in lista:\n",
        "        for k in lista:\n",
        "            for l in lista:\n",
        "                if i != j and i != k and i != l and j != k and j != l and k != l:\n",
        "                    print(i+j+k+l)"
      ],
      "metadata": {
        "colab": {
          "base_uri": "https://localhost:8080/"
        },
        "id": "nvzx2SJHRndo",
        "outputId": "ba16cec3-884a-4754-9019-2b3a5dfb6509"
      },
      "execution_count": 1,
      "outputs": [
        {
          "output_type": "stream",
          "name": "stdout",
          "text": [
            "abcd\n",
            "abdc\n",
            "acbd\n",
            "acdb\n",
            "adbc\n",
            "adcb\n",
            "bacd\n",
            "badc\n",
            "bcad\n",
            "bcda\n",
            "bdac\n",
            "bdca\n",
            "cabd\n",
            "cadb\n",
            "cbad\n",
            "cbda\n",
            "cdab\n",
            "cdba\n",
            "dabc\n",
            "dacb\n",
            "dbac\n",
            "dbca\n",
            "dcab\n",
            "dcba\n"
          ]
        }
      ]
    },
    {
      "cell_type": "markdown",
      "source": [
        "#### Versión 2\n",
        "Añadiendo un contador."
      ],
      "metadata": {
        "id": "sWgNR01dRi1h"
      }
    },
    {
      "cell_type": "code",
      "source": [
        "lista = ['a', 'b', 'c', 'd']\n",
        "contador = 1\n",
        "\n",
        "for i in lista:\n",
        "    for j in lista:\n",
        "        for k in lista:\n",
        "            for l in lista:\n",
        "                if i != j and i != k and i != l and j != k and j != l and k != l:\n",
        "                    print(f\"{contador:2d}:  {i+j+k+l}\")\n",
        "                    contador += 1"
      ],
      "metadata": {
        "colab": {
          "base_uri": "https://localhost:8080/"
        },
        "id": "Td8GhRQbQbLL",
        "outputId": "374e17b6-efb9-41b0-c1e6-7ce8c23cf937"
      },
      "execution_count": 2,
      "outputs": [
        {
          "output_type": "stream",
          "name": "stdout",
          "text": [
            " 1:  abcd\n",
            " 2:  abdc\n",
            " 3:  acbd\n",
            " 4:  acdb\n",
            " 5:  adbc\n",
            " 6:  adcb\n",
            " 7:  bacd\n",
            " 8:  badc\n",
            " 9:  bcad\n",
            "10:  bcda\n",
            "11:  bdac\n",
            "12:  bdca\n",
            "13:  cabd\n",
            "14:  cadb\n",
            "15:  cbad\n",
            "16:  cbda\n",
            "17:  cdab\n",
            "18:  cdba\n",
            "19:  dabc\n",
            "20:  dacb\n",
            "21:  dbac\n",
            "22:  dbca\n",
            "23:  dcab\n",
            "24:  dcba\n"
          ]
        }
      ]
    },
    {
      "cell_type": "markdown",
      "source": [
        "## Mostrar todas las permutaciones con librería\n",
        "* Usamos la función `permutations` de la librería `intertools`.\n",
        "* Imprimimos todas las permutaciones de los elementos de una lista"
      ],
      "metadata": {
        "id": "DSbPKoHDOQ-Y"
      }
    },
    {
      "cell_type": "code",
      "source": [
        "from itertools import permutations\n",
        "\n",
        "perm = permutations([1,2,3,4])   # obtenemos todas las permutaciones de la lista \n",
        "\n",
        "for i in list(perm):             # imprimimos todas las permutaciones \n",
        "    print (*i)                   # con el asterisco se muestran las listas sin corchetes ni comas"
      ],
      "metadata": {
        "colab": {
          "base_uri": "https://localhost:8080/"
        },
        "id": "qh_IHWhXOZdF",
        "outputId": "7af9aceb-ed48-4569-809a-247022d79f80"
      },
      "execution_count": 5,
      "outputs": [
        {
          "output_type": "stream",
          "name": "stdout",
          "text": [
            "1 2 3 4\n",
            "1 2 4 3\n",
            "1 3 2 4\n",
            "1 3 4 2\n",
            "1 4 2 3\n",
            "1 4 3 2\n",
            "2 1 3 4\n",
            "2 1 4 3\n",
            "2 3 1 4\n",
            "2 3 4 1\n",
            "2 4 1 3\n",
            "2 4 3 1\n",
            "3 1 2 4\n",
            "3 1 4 2\n",
            "3 2 1 4\n",
            "3 2 4 1\n",
            "3 4 1 2\n",
            "3 4 2 1\n",
            "4 1 2 3\n",
            "4 1 3 2\n",
            "4 2 1 3\n",
            "4 2 3 1\n",
            "4 3 1 2\n",
            "4 3 2 1\n"
          ]
        }
      ]
    },
    {
      "cell_type": "markdown",
      "source": [
        "## Permutaciones con una función recursiva\n",
        "* Fuente: [How to generate all permutations of a list](https://stackoverflow.com/questions/104420/how-to-generate-all-permutations-of-a-list)"
      ],
      "metadata": {
        "id": "6_GV3WZSUmAZ"
      }
    },
    {
      "cell_type": "markdown",
      "source": [
        "### Método 1"
      ],
      "metadata": {
        "id": "ZywhPDD6vVzZ"
      }
    },
    {
      "cell_type": "code",
      "source": [
        "result = []\n",
        "\n",
        "def permutation(li):\n",
        "    if li == [] or li == None:\n",
        "        return\n",
        "\n",
        "    if len(li) == 1:\n",
        "        result.append(li[0])\n",
        "        print(result)\n",
        "        result.pop()\n",
        "        return\n",
        "\n",
        "    for i in range(len(li)):\n",
        "        result.append(li[i])\n",
        "        permutation(li[:i] + li[i+1:])\n",
        "        result.pop()\n",
        "\n",
        "permutation([1,2,3])"
      ],
      "metadata": {
        "colab": {
          "base_uri": "https://localhost:8080/"
        },
        "id": "f2pr0pgktRRz",
        "outputId": "e9a5dc23-7b55-4fc2-e017-b8b377d2c952"
      },
      "execution_count": 6,
      "outputs": [
        {
          "output_type": "stream",
          "name": "stdout",
          "text": [
            "[1, 2, 3]\n",
            "[1, 3, 2]\n",
            "[2, 1, 3]\n",
            "[2, 3, 1]\n",
            "[3, 1, 2]\n",
            "[3, 2, 1]\n"
          ]
        }
      ]
    },
    {
      "cell_type": "markdown",
      "source": [
        "### Método 2"
      ],
      "metadata": {
        "id": "U3VQQwIavbPF"
      }
    },
    {
      "cell_type": "code",
      "source": [
        "def permuta(a, k=0):\n",
        "    if k == len(a):\n",
        "        print(a)\n",
        "    else:\n",
        "        for i in range(k, len(a)):\n",
        "            a[k], a[i] = a[i] ,a[k]\n",
        "            permuta(a, k+1)\n",
        "            a[k], a[i] = a[i], a[k]\n",
        "\n",
        "permuta([1,2,3])\n",
        "\n",
        "print()\n",
        "\n",
        "permuta(list('abcd'))"
      ],
      "metadata": {
        "colab": {
          "base_uri": "https://localhost:8080/"
        },
        "id": "NssIRHqCiGES",
        "outputId": "7bd3c547-51c1-4834-eb90-34536279e950"
      },
      "execution_count": null,
      "outputs": [
        {
          "output_type": "stream",
          "name": "stdout",
          "text": [
            "[1, 2, 3]\n",
            "[1, 3, 2]\n",
            "[2, 1, 3]\n",
            "[2, 3, 1]\n",
            "[3, 2, 1]\n",
            "[3, 1, 2]\n",
            "\n",
            "['a', 'b', 'c', 'd']\n",
            "['a', 'b', 'd', 'c']\n",
            "['a', 'c', 'b', 'd']\n",
            "['a', 'c', 'd', 'b']\n",
            "['a', 'd', 'c', 'b']\n",
            "['a', 'd', 'b', 'c']\n",
            "['b', 'a', 'c', 'd']\n",
            "['b', 'a', 'd', 'c']\n",
            "['b', 'c', 'a', 'd']\n",
            "['b', 'c', 'd', 'a']\n",
            "['b', 'd', 'c', 'a']\n",
            "['b', 'd', 'a', 'c']\n",
            "['c', 'b', 'a', 'd']\n",
            "['c', 'b', 'd', 'a']\n",
            "['c', 'a', 'b', 'd']\n",
            "['c', 'a', 'd', 'b']\n",
            "['c', 'd', 'a', 'b']\n",
            "['c', 'd', 'b', 'a']\n",
            "['d', 'b', 'c', 'a']\n",
            "['d', 'b', 'a', 'c']\n",
            "['d', 'c', 'b', 'a']\n",
            "['d', 'c', 'a', 'b']\n",
            "['d', 'a', 'c', 'b']\n",
            "['d', 'a', 'b', 'c']\n"
          ]
        }
      ]
    },
    {
      "cell_type": "markdown",
      "source": [
        "### Método 3"
      ],
      "metadata": {
        "id": "16nSmRHg63nG"
      }
    },
    {
      "cell_type": "code",
      "source": [
        "def p(a):\n",
        "    return a if len(a) == 1 else [[a[i], *j] for i in range(len(a)) for j in p(a[:i] + a[i + 1:])]\n",
        "\n",
        "p('abc')"
      ],
      "metadata": {
        "id": "K8QTpXhI3VHD",
        "outputId": "925b6f8c-e8d3-49b3-f93e-a9876b144498",
        "colab": {
          "base_uri": "https://localhost:8080/"
        }
      },
      "execution_count": null,
      "outputs": [
        {
          "output_type": "execute_result",
          "data": {
            "text/plain": [
              "[['a', 'b', 'c'],\n",
              " ['a', 'c', 'b'],\n",
              " ['b', 'a', 'c'],\n",
              " ['b', 'c', 'a'],\n",
              " ['c', 'a', 'b'],\n",
              " ['c', 'b', 'a']]"
            ]
          },
          "metadata": {},
          "execution_count": 17
        }
      ]
    }
  ]
}