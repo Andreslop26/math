{
  "nbformat": 4,
  "nbformat_minor": 0,
  "metadata": {
    "colab": {
      "provenance": [],
      "authorship_tag": "ABX9TyNXsEsLq7zVtWEBCyiJXox3",
      "include_colab_link": true
    },
    "kernelspec": {
      "name": "python3",
      "display_name": "Python 3"
    },
    "language_info": {
      "name": "python"
    }
  },
  "cells": [
    {
      "cell_type": "markdown",
      "metadata": {
        "id": "view-in-github",
        "colab_type": "text"
      },
      "source": [
        "<a href=\"https://colab.research.google.com/github/financieras/math/blob/main/combina/combinaciones.ipynb\" target=\"_parent\"><img src=\"https://colab.research.google.com/assets/colab-badge.svg\" alt=\"Open In Colab\"/></a>"
      ]
    },
    {
      "cell_type": "markdown",
      "source": [
        "# Combinaciones"
      ],
      "metadata": {
        "id": "2nIdgg9NzD4g"
      }
    },
    {
      "cell_type": "markdown",
      "source": [
        "## Combinaciones sin repetición\n",
        "* En las combinaciones son indistinguibles los lugares que ocupan los elementos.\n",
        "* Si tres amigos reciben un premio y no se distingue entre los tres premios, estaremos en un caso de combinaciones, por el contrario si fueran los puestos en un podium (oro, plata, bronce) estaríamos en un caso de permutaciones.\n",
        "* El orden no importa\n",
        "* Si estamos en combinaciones AB es lo mismo que BA, el orden no importa\n",
        "* Estamos en el caso de combinaciones sin repetición\n",
        "\n",
        "$$C_{n,r} = \\binom{n}{r} = \\frac{n!}{r!(n-r)!}$$"
      ],
      "metadata": {
        "id": "VgHwNpgcRmFt"
      }
    },
    {
      "cell_type": "markdown",
      "source": [
        "### Ejemplo 1. Helado con repetición\n",
        "* En una heladería pedimos un helado de tres bolas entre los cinco sabores diferentes que tienen.\n",
        "* No se pueden repetir los sabores en nuestro helado.\n",
        "* Son 5 sabores:\n",
        " - N Nata\n",
        " - C Chocolate\n",
        " - V Vainilla\n",
        " - F Fresa\n",
        " - L Limón \n",
        "\n",
        "* Al elegir 3 sabores diferentes es lo mismo NCV que NVC o que VCN, todas las permutaciones cuentan como una sola combinación, ya que el orden no importa.\n",
        "\n",
        "* Combinaciones de 5 elementos tomados de 3 en 3\n",
        "\n",
        "$$C_{5,3} = \\binom{5}{3} =\\frac{5!}{3!(5-3)!} = \\frac{5!}{3!2!} = \\frac{5 \\cdot 4 \\cdot 3!}{3! \\cdot 2} = 10$$"
      ],
      "metadata": {
        "id": "An5DC7RWTK-B"
      }
    },
    {
      "cell_type": "code",
      "source": [
        "from math import factorial\n",
        "print(f\"Los casos que se obtienen son {int(factorial(5)/factorial(3)/factorial(5-3))}\")"
      ],
      "metadata": {
        "colab": {
          "base_uri": "https://localhost:8080/"
        },
        "id": "hpesJ7SzVR3S",
        "outputId": "4aa558d5-29b2-47b3-8605-7199769d7230"
      },
      "execution_count": 3,
      "outputs": [
        {
          "output_type": "stream",
          "name": "stdout",
          "text": [
            "Los casos que se obtienen son 10\n"
          ]
        }
      ]
    },
    {
      "cell_type": "code",
      "source": [
        "from itertools import combinations\n",
        "c = combinations('NCVFL', 3)\n",
        "\n",
        "for i in c:\n",
        "    print(*i)"
      ],
      "metadata": {
        "colab": {
          "base_uri": "https://localhost:8080/"
        },
        "id": "5PXavrGnT4gr",
        "outputId": "a96d2bda-5c00-4537-e6bf-409044fb2403"
      },
      "execution_count": null,
      "outputs": [
        {
          "output_type": "stream",
          "name": "stdout",
          "text": [
            "N C V\n",
            "N C F\n",
            "N C L\n",
            "N V F\n",
            "N V L\n",
            "N F L\n",
            "C V F\n",
            "C V L\n",
            "C F L\n",
            "V F L\n"
          ]
        }
      ]
    },
    {
      "cell_type": "markdown",
      "source": [
        "## Combinaciones con repetición\n",
        "* Los elementos se pueden repetir\n",
        "* [Combinaciones con repetición](https://es.wikipedia.org/wiki/Combinaciones_con_repetici%C3%B3n) de $m$ elementos tomados de $n$ en $n$.\n",
        " - $m$: son los elementos de los que disponemos\n",
        " - $n$: son los elementos que entran en cada grupo\n",
        "\n",
        "\n",
        "$$CR_{n,m} = C_{n,m+n-1} = \\binom{m+n-1}{n} = \\frac{(m+n-1)!}{n! \\cdot (m-1)!} \\quad m \\geq n$$"
      ],
      "metadata": {
        "id": "9IFju_zgVwnk"
      }
    },
    {
      "cell_type": "markdown",
      "source": [
        "### Ejemplo 2. Helado con repetición\n",
        "* En una heladería pedimos un helado de tres bolas entre los cinco sabores diferentes que tienen.\n",
        "* En este caso, SI se pueden repetir los sabores en nuestro helado.\n",
        "* Son 5 sabores:\n",
        " - N Nata\n",
        " - C Chocolate\n",
        " - V Vainilla\n",
        " - F Fresa\n",
        " - L Limón \n",
        "\n",
        "* Al poderse repetir el sabor, podríamos elegir LLN, así tendríamos dos bolas de Limón y una de Nata. En ese caso, es lo mimso que LNL o que NLL, todas las permutaciones constituyen la misma combinación, el orden no importa.\n",
        "\n",
        "Combinaciones con repetición de 5 elementos tomados de 3 en 3\n",
        "\n",
        "$$CR_{5,3} = \\binom{5+3-1}{3} =\\frac{7!}{3!(5-1)!} = \\frac{7!}{3! \\cdot 4!} = \\frac{7 \\cdot 6 \\cdot 5 \\cdot 4!}{3 \\cdot 2 \\cdot 4!} = 35$$"
      ],
      "metadata": {
        "id": "SQShWQLh1BMT"
      }
    },
    {
      "cell_type": "code",
      "source": [
        "from itertools import combinations_with_replacement\n",
        "c = combinations_with_replacement('NCVFL', 3)\n",
        "\n",
        "for i in c:\n",
        "    print(*i)\n",
        "\n",
        "m = 5\n",
        "n = 3\n",
        "print(f\"Los casos que se obtienen son {int(factorial(m+n-1)/factorial(n)/factorial(m-1))}\")"
      ],
      "metadata": {
        "id": "fCzmXei93h_W"
      },
      "execution_count": null,
      "outputs": []
    },
    {
      "cell_type": "markdown",
      "source": [
        "### Ejemplo 3\n",
        "* Combinaciones con repetición de 3 elementos tomados de 5 en 5.\n",
        "* Existen caramelos de 3 tipos: Fresa (F), Naranja (N), Limón (L)\n",
        "* Tomamos 5 caramelos que se pueden repetir\n",
        "* Imaginemos que alguien toma 3 de Fresa y 2 de Limón: FFFLL\n",
        "* ¿Importa el orden en el que tomemos los caramelos? $\\longrightarrow \\quad $ No\n",
        "* Número de elementos diferentes disponibles $\\longrightarrow \\quad m=3$\n",
        "* Número de elementos a colocar en cada grupo: $\\longrightarrow \\quad n=5$\n",
        "* ¿Se pueden repetir? $\\longrightarrow \\quad $ Si\n",
        "* Estamos en un caso de Combinaciones con repetición de 3 elementos tomados de 5 en 5.\n",
        "\n",
        "\n",
        "$$CR_{3,5} = \\binom{3+5-1}{5} = \\frac{(3+5-1)!}{5! \\cdot (3-1)!} = \\frac{7!}{5! \\cdot 2!} = \\frac{7 \\cdot 6 \\cdot 5!}{5! \\cdot 2} = 21$$"
      ],
      "metadata": {
        "id": "9XCRrOYvemy_"
      }
    },
    {
      "cell_type": "markdown",
      "source": [
        "### Ejemplo 4\n",
        "* Combinaciones con repetición de 5 elementos tomados de 3 en 3.\n",
        "* Existen caramelos de 5 tipos: Fresa (F), Naranja (N), Limón (L), Chocolate (C), Regaliz (R)\n",
        "* Tomamos 3 caramelos que se pueden repetir\n",
        "* Imaginemos que alguien toma 2 de Fresa, 1 de Limón: FFL\n",
        "* ¿Importa el orden en el que tomemos los caramelos? $\\longrightarrow \\quad $ No\n",
        "* Número de elementos diferentes disponibles $\\longrightarrow \\quad m=5$\n",
        "* Número de elementos a colocar en cada grupo: $\\longrightarrow \\quad n=3$\n",
        "* ¿Se pueden repetir? $\\longrightarrow \\quad $ Si\n",
        "* Estamos en un caso de Combinaciones con repetición de 5 elementos tomados de 3 en 3.\n",
        "\n",
        "\n",
        "$$CR_{5,3} = \\binom{5+3-1}{3} = \\frac{(5+3-1)!}{3! \\cdot (5-1)!} = \\frac{7!}{3! \\cdot 4!} = \\frac{7 \\cdot 6 \\cdot 5 \\cdot 4!}{3 \\cdot 2 \\cdot 4!} = 35$$"
      ],
      "metadata": {
        "id": "zp9Ihod6zAtJ"
      }
    },
    {
      "cell_type": "markdown",
      "source": [
        "## Ejemplo 5\n",
        "Dados los 15 primeros caracteres del alfabeto, deseamos saber cuantas contraseñas de 5 letras sin repetición se pueden construir y mostrarlas."
      ],
      "metadata": {
        "id": "5PjAyAdAqLgw"
      }
    },
    {
      "cell_type": "code",
      "source": [
        "from itertools import combinations\n",
        "from math import factorial\n",
        "\n",
        "palabra = 'ABCDEFGHIJKLMNO'\n",
        "m = len(palabra)\n",
        "n = 5\n",
        "c = combinations(palabra, n)\n",
        "\n",
        "for i in c:\n",
        "    print(*i)\n",
        "\n",
        "print(f\"Las Combinaciones de {m} elementos tomados de {n} en {n} son: {int(factorial(m)/factorial(n)/factorial(m-n))}\")"
      ],
      "metadata": {
        "id": "zxPq3PFvqHAv"
      },
      "execution_count": null,
      "outputs": []
    }
  ]
}