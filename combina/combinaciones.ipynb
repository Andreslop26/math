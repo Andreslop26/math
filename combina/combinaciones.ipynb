{
  "nbformat": 4,
  "nbformat_minor": 0,
  "metadata": {
    "colab": {
      "provenance": [],
      "authorship_tag": "ABX9TyOyhpf8zqb6uDlvKMe8wup9",
      "include_colab_link": true
    },
    "kernelspec": {
      "name": "python3",
      "display_name": "Python 3"
    },
    "language_info": {
      "name": "python"
    }
  },
  "cells": [
    {
      "cell_type": "markdown",
      "metadata": {
        "id": "view-in-github",
        "colab_type": "text"
      },
      "source": [
        "<a href=\"https://colab.research.google.com/github/financieras/math/blob/main/combina/combinaciones.ipynb\" target=\"_parent\"><img src=\"https://colab.research.google.com/assets/colab-badge.svg\" alt=\"Open In Colab\"/></a>"
      ]
    },
    {
      "cell_type": "markdown",
      "source": [
        "# Combinaciones\n",
        "* En las combinaciones son indistinguibles los lugares que ocupan los elementos.\n",
        "* Si tres amigos reciben un premio y no se distingue entre los tres premios, estaremos en un caso de combinaciones, por el contrario si fueran los puestos en un podium (oro, plata, bronce) estaríamos en un caso de permutaciones.\n",
        "* El orden no importa\n",
        "* Si estamos en combinaciones AB es lo mismo que BA, el orden no importa\n",
        "* Estamos en el caso de combinaciones sin repetición\n",
        "\n",
        "$$C_{n,r} = \\binom{n}{r} = \\frac{n!}{r!(n-r)!}$$"
      ],
      "metadata": {
        "id": "VgHwNpgcRmFt"
      }
    },
    {
      "cell_type": "markdown",
      "source": [
        "### Ejemplo: Combinaciones sin repetición\n",
        "Combinaciones de 5 elementos tomados de 3 en 3\n",
        "$$C_{5,3} = \\binom{5}{3} =\\frac{5!}{3!(5-3)!} = \\frac{5!}{3!2!} = \\frac{5 \\cdot 4 \\cdot 3!}{3! \\cdot 2} = 10$$"
      ],
      "metadata": {
        "id": "An5DC7RWTK-B"
      }
    },
    {
      "cell_type": "code",
      "source": [
        "from math import factorial\n",
        "print(f\"Los casos que se obtienen son: {factorial(5)/factorial(3)/factorial(5-3)}\")"
      ],
      "metadata": {
        "colab": {
          "base_uri": "https://localhost:8080/"
        },
        "id": "hpesJ7SzVR3S",
        "outputId": "f72b9cbf-7890-4727-9f67-2666a278d292"
      },
      "execution_count": 6,
      "outputs": [
        {
          "output_type": "stream",
          "name": "stdout",
          "text": [
            "Los casos que se obtienen son: 10.0\n"
          ]
        }
      ]
    },
    {
      "cell_type": "code",
      "source": [
        "from itertools import combinations\n",
        "c = combinations('ABCDE', 3)\n",
        "\n",
        "for i in c:\n",
        "    print(*i)"
      ],
      "metadata": {
        "colab": {
          "base_uri": "https://localhost:8080/"
        },
        "id": "5PXavrGnT4gr",
        "outputId": "765f3a15-9168-418c-c33b-c216a90c580b"
      },
      "execution_count": 5,
      "outputs": [
        {
          "output_type": "stream",
          "name": "stdout",
          "text": [
            "A B C\n",
            "A B D\n",
            "A B E\n",
            "A C D\n",
            "A C E\n",
            "A D E\n",
            "B C D\n",
            "B C E\n",
            "B D E\n",
            "C D E\n"
          ]
        }
      ]
    },
    {
      "cell_type": "markdown",
      "source": [
        "## Combinaciones con repetición\n",
        "* Los elementos se pueden repetir\n",
        "* [Combinaciones con repetición](https://es.wikipedia.org/wiki/Combinaciones_con_repetici%C3%B3n) de $m$ elementos tomados de $n$ en $n$.\n",
        " - $m$: son los elementos de los que disponemos\n",
        " - $n$: son los elementos que entran en cada grupo\n",
        "\n",
        "\n",
        "$$CR_{n,m} = C_{n,m+n-1} = \\binom{m+n-1}{n} = \\frac{(m+n-1)!}{n! \\cdot (m-1)!} \\quad m \\geq n$$"
      ],
      "metadata": {
        "id": "9IFju_zgVwnk"
      }
    },
    {
      "cell_type": "markdown",
      "source": [
        "### Ejemplo 1\n",
        "* Combinaciones con repetición de 3 elementos tomados de 5 en 5.\n",
        "* Existen caramelos de 3 tipos: Fresa, Naranja, Limón\n",
        "* Tomamos 5 caramelos que se pueden repetir\n",
        "* Ejemplo: alguien podría tomar 3 de Fresa y 2 de Limón: FFFLL\n",
        "* ¿Importa el orden en el que tomemos los caramelos? $\\longrightarrow \\quad $ No\n",
        "* Número de elementos diferentes disponibles $\\longrightarrow \\quad m=3$\n",
        "* Número de elementos a colocar en cada grupo: $\\longrightarrow \\quad n=5$\n",
        "* ¿Se pueden repetir? $\\longrightarrow \\quad $ Si\n",
        "\n",
        "$$CR_{3,5} = \\frac{(5+3-1)!}{5! \\cdot (3-1)!} = \\frac{7!}{5! \\cdot 2!} = \\frac{7 \\cdot 6 \\cdot 5!}{5! \\cdot 2!} = 21$$"
      ],
      "metadata": {
        "id": "9XCRrOYvemy_"
      }
    }
  ]
}