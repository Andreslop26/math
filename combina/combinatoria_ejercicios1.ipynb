{
  "nbformat": 4,
  "nbformat_minor": 0,
  "metadata": {
    "colab": {
      "provenance": [],
      "authorship_tag": "ABX9TyMPlZSukyIhm8Owy6vsnW38",
      "include_colab_link": true
    },
    "kernelspec": {
      "name": "python3",
      "display_name": "Python 3"
    },
    "language_info": {
      "name": "python"
    }
  },
  "cells": [
    {
      "cell_type": "markdown",
      "metadata": {
        "id": "view-in-github",
        "colab_type": "text"
      },
      "source": [
        "<a href=\"https://colab.research.google.com/github/financieras/math/blob/main/combina/combinatoria_ejercicios1.ipynb\" target=\"_parent\"><img src=\"https://colab.research.google.com/assets/colab-badge.svg\" alt=\"Open In Colab\"/></a>"
      ]
    },
    {
      "cell_type": "markdown",
      "source": [
        "## Ejercicio 1.1\n",
        "\n",
        "\n",
        "¿De cuántas maneras pueden sentarse 4 amigos en un banco si hay 4 sitios disponibles?"
      ],
      "metadata": {
        "id": "R86zTFFw33jP"
      }
    },
    {
      "cell_type": "markdown",
      "source": [
        "### Solución\n",
        "Calculamos las permutaciones de 4 elementos, que son 4!=4x3x2x1=24.\n",
        "Se pueden sentar de 24 formas diferentes."
      ],
      "metadata": {
        "id": "YOa2mgs23Vub"
      }
    },
    {
      "cell_type": "code",
      "source": [
        "import math\n",
        "  \n",
        "print (\"El factorial de 4 es: \", end=\"\")\n",
        "print (math.factorial(4))"
      ],
      "metadata": {
        "id": "55hcIT5f372z"
      },
      "execution_count": null,
      "outputs": []
    },
    {
      "cell_type": "markdown",
      "source": [
        "## Ejercicio 1.2\n",
        "¿De cuántas maneras pueden sentarse 7 pasajeros en un banco si hay 4 sitios disponibles?\n",
        "\n",
        "### Solución\n",
        "* El orden importa  \n",
        "* Los cuatro sitios son diferentes  \n",
        "* Nadie se puede sentar en más de un sitio  \n",
        "* Estamos en un caso de variaciones de 7 elementos tomados de 4 en 4.\n",
        "\n",
        "$$V_{7,4}=\\frac{7!}{(7-4))!}=\\frac{7!}{3!} = \\frac{7 \\cdot 6 \\cdot 5 \\cdot 4 \\cdot 3!}{3!}=7 \\cdot 6 \\cdot 5 \\cdot 4 = 840$$\n",
        "\n",
        "\n"
      ],
      "metadata": {
        "id": "3qNMCyMi5er3"
      }
    },
    {
      "cell_type": "code",
      "source": [
        "import math\n",
        "\n",
        "print (\"Las variaciones de 7 elementos tomados de 4 en 4 son: : \", end=\"\")\n",
        "print (math.factorial(7)/math.factorial(7-4))\n",
        "print(\"Comprobación: 7x6x5x4=\",7*6*5*4)"
      ],
      "metadata": {
        "id": "iHJusEmJ_sLH"
      },
      "execution_count": null,
      "outputs": []
    },
    {
      "cell_type": "markdown",
      "source": [
        "## Ejercicio 1.3\n",
        "En una carrera de atletismo participan 10 corredores y se repartirán medallas de oro, plata y bronce. Calcular de cuantas maneras se podrán llegar a dar los premios.\n",
        "### Solución\n",
        "* Los premios son diferentes\n",
        "* No se puede dar más de un premio a cada persona\n",
        "* Importa el orden, no es lo mismo ganar el primer premio que el segundo.\n",
        "\n",
        "Se trata de las variaciones de 10 elementos tomados de 3 en 3.\n",
        "\n",
        "\n",
        "$$V_{10,3}=\\frac{10!}{(10-3)!}=\\frac{10!}{7!}=\\frac{10 \\cdot 9 \\cdot 8 \\cdot 7!}{7!} = 10 \\cdot 9 \\cdot 8 = 720$$\n"
      ],
      "metadata": {
        "id": "rJDB_YPE6VW1"
      }
    },
    {
      "cell_type": "code",
      "source": [
        "import math\n",
        "\n",
        "print (\"Las variaciones de 10 elementos tomados de 3 en 3 son: : \", end=\"\")\n",
        "print (math.factorial(10)/math.factorial(10-3))\n",
        "print(\"Comprobación: 10x9x8=\",10*9*8)"
      ],
      "metadata": {
        "id": "8BM8iEfdC48n"
      },
      "execution_count": null,
      "outputs": []
    },
    {
      "cell_type": "markdown",
      "source": [
        "## Ejercicio 1.4\n",
        "Ana, Beatriz, Carmen, Dana y Elvira compiten en una carrera.\n",
        "\n",
        "* De cuantas formas pueden llenar el podium de tres puestos.\n",
        "* Indique en qué caso nos encontramos y el motivo por el que lo sabemos.\n",
        "* Muestre todas las posibilidades usando las iniciales de los nombres.\n",
        "### Solución\n",
        "* Los premios son diferentes: 1er clasificado, 2º y 3º.\n",
        "* No se puede dar más de un premio a cada persona\n",
        "* Importa el orden, no es lo mismo ganar el primer premio que el segundo.\n",
        "\n",
        "Se trata de las variaciones de 5 elementos tomados de 3 en 3.\n",
        "\n",
        "\n",
        "$$V_{5,3}=\\frac{5!}{(5-3)!}=\\frac{5!}{2!}=\\frac{5 \\cdot 4 \\cdot 3 \\cdot 2!}{2!} = 5 \\cdot 4 \\cdot 3 = 60$$"
      ],
      "metadata": {
        "id": "zkRnvZqPCXXQ"
      }
    },
    {
      "cell_type": "code",
      "source": [
        "import math\n",
        "\n",
        "print (\"Las variaciones de 5 elementos tomados de 3 en 3 son: : \", end=\"\")\n",
        "print (math.factorial(5)/math.factorial(5-3))\n",
        "print(\"Comprobación: 5x4x3=\",5*4*3)\n",
        "atletas = \"ABCDE\"\n",
        "contador = 0\n",
        "for i in atletas:\n",
        "    for j in atletas:\n",
        "        for k in atletas:\n",
        "            if i != j and i != k and j !=k:\n",
        "                contador += 1\n",
        "                #print(contador, i + j + k)\n",
        "                print(f\"{contador:2d} {i+j+k}\")"
      ],
      "metadata": {
        "id": "cLDF4lzl9Qbd"
      },
      "execution_count": null,
      "outputs": []
    }
  ]
}