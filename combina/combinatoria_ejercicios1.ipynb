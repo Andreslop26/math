{
  "nbformat": 4,
  "nbformat_minor": 0,
  "metadata": {
    "colab": {
      "provenance": [],
      "toc_visible": true,
      "authorship_tag": "ABX9TyN3kGfC7rWjtbsDrbYr9FYP",
      "include_colab_link": true
    },
    "kernelspec": {
      "name": "python3",
      "display_name": "Python 3"
    },
    "language_info": {
      "name": "python"
    }
  },
  "cells": [
    {
      "cell_type": "markdown",
      "metadata": {
        "id": "view-in-github",
        "colab_type": "text"
      },
      "source": [
        "<a href=\"https://colab.research.google.com/github/financieras/math/blob/main/combina/combinatoria_ejercicios1.ipynb\" target=\"_parent\"><img src=\"https://colab.research.google.com/assets/colab-badge.svg\" alt=\"Open In Colab\"/></a>"
      ]
    },
    {
      "cell_type": "markdown",
      "source": [
        "## Ejercicio 1.1\n",
        "\n",
        "\n",
        "¿De cuántas maneras pueden sentarse 4 amigos en un banco si hay 4 sitios disponibles?"
      ],
      "metadata": {
        "id": "R86zTFFw33jP"
      }
    },
    {
      "cell_type": "markdown",
      "source": [
        "### Solución\n",
        "Calculamos las permutaciones de 4 elementos, que son 4!=4x3x2x1=24.\n",
        "Se pueden sentar de 24 formas diferentes."
      ],
      "metadata": {
        "id": "YOa2mgs23Vub"
      }
    },
    {
      "cell_type": "code",
      "source": [
        "import math\n",
        "  \n",
        "print (\"El factorial de 4 es: : \", end=\"\")\n",
        "print (math.factorial(4))"
      ],
      "metadata": {
        "colab": {
          "base_uri": "https://localhost:8080/"
        },
        "id": "55hcIT5f372z",
        "outputId": "b876a732-6e31-4f22-fc95-1784caf3c976"
      },
      "execution_count": 2,
      "outputs": [
        {
          "output_type": "stream",
          "name": "stdout",
          "text": [
            "El factorial de 4 es: : 24\n"
          ]
        }
      ]
    },
    {
      "cell_type": "markdown",
      "source": [
        "## Ejercicio 1.2\n",
        "¿De cuántas maneras pueden sentarse 7 pasajeros en un banco si hay 4 sitios disponibles?\n",
        "\n",
        "### Solución\n",
        "El orden importa\n",
        "Los cuatro sitios son diferentes\n",
        "Nadie se puede sentar en más de un sitio\n",
        "Estamos en un caso de variaciones de 7 elementos tomados de 4 en 4.\n",
        "\n",
        "$$V_{7,4}=\\frac{7!}{(7-4))!}=\\frac{7!}{3!} = \\frac{7 \\cdot 6 \\cdot 5 \\cdot 4 \\cdot 3!}{3!}=7 \\cdot 6 \\cdot 5 \\cdot 4 = 840$$\n",
        "\n",
        "\n"
      ],
      "metadata": {
        "id": "3qNMCyMi5er3"
      }
    },
    {
      "cell_type": "code",
      "source": [
        "import math\n",
        "\n",
        "print (\"Las variaciones de 7 elementos tomados de 4 en 4 son: : \", end=\"\")\n",
        "print (math.factorial(7)/math.factorial(7-4))\n",
        "print(\"Comprobación: 7x6x5x4=\",7*6*5*4)"
      ],
      "metadata": {
        "colab": {
          "base_uri": "https://localhost:8080/"
        },
        "id": "iHJusEmJ_sLH",
        "outputId": "d62cd409-3e92-4f83-e981-f0ddd0df9ee4"
      },
      "execution_count": 5,
      "outputs": [
        {
          "output_type": "stream",
          "name": "stdout",
          "text": [
            "Las variaciones de 7 elementos tomados de 4 en 4 son: : 840.0\n",
            "Comprobación: 7x6x5x4= 840\n"
          ]
        }
      ]
    },
    {
      "cell_type": "markdown",
      "source": [
        "## Ejercicio 1.3\n",
        "En una carrera de atletismo participan 10 corredores y se repartirán medallas de oro, plata y bronce. Calcular de cuantas maneras se podrán llegar a dar los premios.\n",
        "### Solución\n",
        "* Los premios son diferentes\n",
        "* No se puede dar más de un premio a cada persona\n",
        "* Importa el orden, no es lo mismo ganar el primer premio que el segundo.\n",
        "\n",
        "Se trata de las variaciones de 10 elementos tomados de 3 en 3.\n",
        "\n",
        "\n",
        "$$V_{10,3}=\\frac{10!}{(10-3))!}=\\frac{10!}{7!}=\\frac{10 \\cdot 9 \\cdot 8 \\cdot 7!}{7!} = 10 \\cdot 9 \\cdot 8 = 720$$\n"
      ],
      "metadata": {
        "id": "rJDB_YPE6VW1"
      }
    },
    {
      "cell_type": "markdown",
      "source": [
        "### Referencias\n",
        "https://www.edu.xunta.gal/centros/iesmos/system/files/Ejercicios_Resueltos_Combinatoria.pdf"
      ],
      "metadata": {
        "id": "zkRnvZqPCXXQ"
      }
    }
  ]
}