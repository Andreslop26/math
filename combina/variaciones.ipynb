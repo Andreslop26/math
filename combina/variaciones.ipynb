{
  "nbformat": 4,
  "nbformat_minor": 0,
  "metadata": {
    "colab": {
      "name": "variaciones.ipynb",
      "provenance": [],
      "authorship_tag": "ABX9TyPvEAzgRPQIQimH+yeYMKl9",
      "include_colab_link": true
    },
    "kernelspec": {
      "name": "python3",
      "display_name": "Python 3"
    },
    "language_info": {
      "name": "python"
    }
  },
  "cells": [
    {
      "cell_type": "markdown",
      "metadata": {
        "id": "view-in-github",
        "colab_type": "text"
      },
      "source": [
        "<a href=\"https://colab.research.google.com/github/financieras/math/blob/main/combina/variaciones.ipynb\" target=\"_parent\"><img src=\"https://colab.research.google.com/assets/colab-badge.svg\" alt=\"Open In Colab\"/></a>"
      ]
    },
    {
      "cell_type": "markdown",
      "source": [
        "# Variaciones sin repetición\n",
        "Las variaciones de $n$ elementos tomados de $r$ en $r$ : posibles muestras ordenadas de $r$ elementos distintos que se pueden extraer de un conjunto de n elementos, siendo ${\\displaystyle r\\leq n}$\n",
        "\n",
        "$$V^r_n=\\frac{n!}{(n-r)!}=n \\cdot (n-1) \\cdot (n-2) \\cdots (n-r+1)$$\n",
        "\n",
        "El producto anterior son  $r$ factores enteros consecutivos decrecientes a partir de $n$.\n",
        "\n",
        "Si $r=n$ estamos en el caso en el que las variaciones se convierten en permutaciones:\n",
        "\n",
        "$$V^n_n=P_n=n!$$"
      ],
      "metadata": {
        "id": "mim9slhSIoWO"
      }
    },
    {
      "cell_type": "markdown",
      "source": [
        "## Ejemplo\n",
        "Cinco atletas (a,b,c,d,e) aspiran a medalla (oro, plata, bronce). ¿De cuántas formas pueden llegar a ocupar el podium?\n",
        "\n",
        "**Solución**  \n",
        "Variaciones sin repetición de 5 elementos tomados de 3 en 3.\n",
        "\n",
        "$$V^r_n=\\frac{n!}{(n-r)!}=\\frac{5!}{(5-3)!}=\\frac{5!}{2!}=\\frac{5 \\cdot 4 \\cdot 3 \\cdot 2!}{2!}=5 \\cdot 4 \\cdot 3=60$$\n",
        "\n",
        "Sabemos que son Variaciones sin repetición ya que:\n",
        "* si en el podium el primer puesto (oro) ya está ocupado, los restantes candidatos únicamente pueden aspirar al segundo y tercer puesto. Si estan ocupados los puestos 1º y 2º los restantes candidatos únicamente pueden aspirar a ocupar el tercer puesto.\n",
        "* el orden importa, no es lo mismo que los candidatos a, b y c estén en el podium pero con el orden a,b,c que con el orden c,a,b u otro orden, ya que si importa quién ha resultado oro, plata o bronce.\n",
        "* son sin repetición ya que si un atleta ha resultado ser oro, no puede ser simultaneamente plata o jugar otro roll.\n"
      ],
      "metadata": {
        "id": "F7GSc7NWJlog"
      }
    },
    {
      "cell_type": "markdown",
      "source": [
        "### Generando los casos\n",
        "Generamos los 60 casos usando la librería `itertools`."
      ],
      "metadata": {
        "id": "tE2K9MF1L7tg"
      }
    },
    {
      "cell_type": "code",
      "source": [
        "import itertools\n",
        "it = itertools.permutations(['a','b','c','d','e'],3)\n",
        "li = list(it)\n",
        "print(li)\n",
        "\n",
        "print()\n",
        "\n",
        "for i in range(len(li)):\n",
        "    #print(\"Variación\", i+1,\":\", *li[i])\n",
        "    #print(f\"Variación {i+1:2d}:  {li[i]}\")\n",
        "    print(f\"Variación {i+1:2d}: \", *li[i])"
      ],
      "metadata": {
        "id": "REeI2SBAMGpR"
      },
      "execution_count": null,
      "outputs": []
    },
    {
      "cell_type": "markdown",
      "source": [
        "## Ejemplo\n",
        "Tres atletas (a,b,c) aspiran a medalla (oro, plata, bronce). ¿De cuántas formas pueden llegar a ocupar el podium?\n",
        "\n",
        "**Solución**  \n",
        "Cuando en las variaciones sin repetición $r=n$ como en este caso que $r=n=3$ decimos que estamos en un caso de Permutaciones de 3 elementos.\n",
        "\n",
        "$$P_n=n!=3!= 3 \\cdot 2 \\cdot 1=6$$"
      ],
      "metadata": {
        "id": "sc5XmlRUdMSE"
      }
    },
    {
      "cell_type": "code",
      "source": [
        "import itertools\n",
        "it = itertools.permutations(['a','b','c'], 3)\n",
        "li = list(it)\n",
        "print(li)\n",
        "\n",
        "print()\n",
        "\n",
        "for i in range(len(li)):\n",
        "    print(f\"Variación {i+1:2d}: \", *li[i])"
      ],
      "metadata": {
        "id": "ZJrCH3fKd9K7"
      },
      "execution_count": null,
      "outputs": []
    }
  ]
}