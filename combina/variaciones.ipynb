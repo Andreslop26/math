{
  "nbformat": 4,
  "nbformat_minor": 0,
  "metadata": {
    "colab": {
      "name": "variaciones.ipynb",
      "provenance": [],
      "authorship_tag": "ABX9TyPAHxJZt3nFPf1chnUocgrG",
      "include_colab_link": true
    },
    "kernelspec": {
      "name": "python3",
      "display_name": "Python 3"
    },
    "language_info": {
      "name": "python"
    }
  },
  "cells": [
    {
      "cell_type": "markdown",
      "metadata": {
        "id": "view-in-github",
        "colab_type": "text"
      },
      "source": [
        "<a href=\"https://colab.research.google.com/github/financieras/math/blob/main/combina/variaciones.ipynb\" target=\"_parent\"><img src=\"https://colab.research.google.com/assets/colab-badge.svg\" alt=\"Open In Colab\"/></a>"
      ]
    },
    {
      "cell_type": "markdown",
      "source": [
        "# Variaciones sin repetición\n",
        "Las variaciones de $n$ elementos tomados de $r$ en $r$ : posibles muestras ordenadas de $r$ elementos distintos que se pueden extraer de un conjunto de n elementos, siendo ${\\displaystyle r\\leq n}$\n",
        "\n",
        "$$V^r_n=\\frac{n!}{(n-r)!}$$"
      ],
      "metadata": {
        "id": "mim9slhSIoWO"
      }
    },
    {
      "cell_type": "markdown",
      "source": [
        "## Ejemplo\n",
        "Cinco atletas (a,b,c,d,e) aspiran a medalla (oro, plata, bronce). ¿De cuántas formas pueden llegar a ocupar el podium?\n",
        "\n",
        "**Solución**  \n",
        "Variaciones sin repetición de 5 elementos tomados de 3 en 3.\n",
        "\n",
        "$$V^r_n=\\frac{n!}{(n-r)!}=\\frac{5!}{(5-3)!}=\\frac{5!}{2!}=\\frac{5 \\cdot 4 \\cdot 3 \\cdot 2!}{2!}=5 \\cdot 4 \\cdot 3=60$$\n",
        "\n",
        "Sabemos que son Variaciones sin repetición ya que:\n",
        "* si en el podium el primer puesto (oro) ya está ocupado, los restantes candidatos únicamente pueden aspirar al segundo y tercer puesto. Si estan ocupados los puestos 1º y 2º los restantes candidatos únicamente pueden aspirar a ocupar el tercer puesto.\n",
        "* el orden importa, no es lo mismo que los candidatos a, b y c estén en el podium pero con el orden a,b,c que con el orden c,a,b u otro orden, ya que si importa quién ha resultado oro, plata o bronce.\n",
        "* son sin repetición ya que si un atleta ha resultado ser oro, no puede ser simultaneamente plata o jugar otro roll.\n"
      ],
      "metadata": {
        "id": "F7GSc7NWJlog"
      }
    },
    {
      "cell_type": "markdown",
      "source": [
        "### Método 1\n",
        "Generamos los 60 casos usando la librería `itertools`."
      ],
      "metadata": {
        "id": "tE2K9MF1L7tg"
      }
    },
    {
      "cell_type": "code",
      "source": [
        "import itertools\n",
        "it = itertools.permutations(['a','b','c','d','e'],3)\n",
        "li = list(it)\n",
        "print(li)\n",
        "\n",
        "print()\n",
        "\n",
        "for i in range(len(li)):\n",
        "    #print(\"Variación\", i+1,\":\", *li[i])\n",
        "    #print(f\"Variación {i+1:2d}:  {li[i]}\")\n",
        "    print(f\"Variación {i+1:2d}: \", *li[i])"
      ],
      "metadata": {
        "colab": {
          "base_uri": "https://localhost:8080/"
        },
        "id": "REeI2SBAMGpR",
        "outputId": "08f37485-cbb1-4aa5-9d03-7c55e3339c39"
      },
      "execution_count": 22,
      "outputs": [
        {
          "output_type": "stream",
          "name": "stdout",
          "text": [
            "[('a', 'b', 'c'), ('a', 'b', 'd'), ('a', 'b', 'e'), ('a', 'c', 'b'), ('a', 'c', 'd'), ('a', 'c', 'e'), ('a', 'd', 'b'), ('a', 'd', 'c'), ('a', 'd', 'e'), ('a', 'e', 'b'), ('a', 'e', 'c'), ('a', 'e', 'd'), ('b', 'a', 'c'), ('b', 'a', 'd'), ('b', 'a', 'e'), ('b', 'c', 'a'), ('b', 'c', 'd'), ('b', 'c', 'e'), ('b', 'd', 'a'), ('b', 'd', 'c'), ('b', 'd', 'e'), ('b', 'e', 'a'), ('b', 'e', 'c'), ('b', 'e', 'd'), ('c', 'a', 'b'), ('c', 'a', 'd'), ('c', 'a', 'e'), ('c', 'b', 'a'), ('c', 'b', 'd'), ('c', 'b', 'e'), ('c', 'd', 'a'), ('c', 'd', 'b'), ('c', 'd', 'e'), ('c', 'e', 'a'), ('c', 'e', 'b'), ('c', 'e', 'd'), ('d', 'a', 'b'), ('d', 'a', 'c'), ('d', 'a', 'e'), ('d', 'b', 'a'), ('d', 'b', 'c'), ('d', 'b', 'e'), ('d', 'c', 'a'), ('d', 'c', 'b'), ('d', 'c', 'e'), ('d', 'e', 'a'), ('d', 'e', 'b'), ('d', 'e', 'c'), ('e', 'a', 'b'), ('e', 'a', 'c'), ('e', 'a', 'd'), ('e', 'b', 'a'), ('e', 'b', 'c'), ('e', 'b', 'd'), ('e', 'c', 'a'), ('e', 'c', 'b'), ('e', 'c', 'd'), ('e', 'd', 'a'), ('e', 'd', 'b'), ('e', 'd', 'c')]\n",
            "\n",
            "Variación  1:  a b c\n",
            "Variación  2:  a b d\n",
            "Variación  3:  a b e\n",
            "Variación  4:  a c b\n",
            "Variación  5:  a c d\n",
            "Variación  6:  a c e\n",
            "Variación  7:  a d b\n",
            "Variación  8:  a d c\n",
            "Variación  9:  a d e\n",
            "Variación 10:  a e b\n",
            "Variación 11:  a e c\n",
            "Variación 12:  a e d\n",
            "Variación 13:  b a c\n",
            "Variación 14:  b a d\n",
            "Variación 15:  b a e\n",
            "Variación 16:  b c a\n",
            "Variación 17:  b c d\n",
            "Variación 18:  b c e\n",
            "Variación 19:  b d a\n",
            "Variación 20:  b d c\n",
            "Variación 21:  b d e\n",
            "Variación 22:  b e a\n",
            "Variación 23:  b e c\n",
            "Variación 24:  b e d\n",
            "Variación 25:  c a b\n",
            "Variación 26:  c a d\n",
            "Variación 27:  c a e\n",
            "Variación 28:  c b a\n",
            "Variación 29:  c b d\n",
            "Variación 30:  c b e\n",
            "Variación 31:  c d a\n",
            "Variación 32:  c d b\n",
            "Variación 33:  c d e\n",
            "Variación 34:  c e a\n",
            "Variación 35:  c e b\n",
            "Variación 36:  c e d\n",
            "Variación 37:  d a b\n",
            "Variación 38:  d a c\n",
            "Variación 39:  d a e\n",
            "Variación 40:  d b a\n",
            "Variación 41:  d b c\n",
            "Variación 42:  d b e\n",
            "Variación 43:  d c a\n",
            "Variación 44:  d c b\n",
            "Variación 45:  d c e\n",
            "Variación 46:  d e a\n",
            "Variación 47:  d e b\n",
            "Variación 48:  d e c\n",
            "Variación 49:  e a b\n",
            "Variación 50:  e a c\n",
            "Variación 51:  e a d\n",
            "Variación 52:  e b a\n",
            "Variación 53:  e b c\n",
            "Variación 54:  e b d\n",
            "Variación 55:  e c a\n",
            "Variación 56:  e c b\n",
            "Variación 57:  e c d\n",
            "Variación 58:  e d a\n",
            "Variación 59:  e d b\n",
            "Variación 60:  e d c\n"
          ]
        }
      ]
    }
  ]
}